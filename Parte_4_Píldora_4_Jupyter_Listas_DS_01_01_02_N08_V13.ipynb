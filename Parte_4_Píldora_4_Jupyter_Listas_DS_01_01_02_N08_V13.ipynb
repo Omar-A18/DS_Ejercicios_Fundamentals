{
  "cells": [
    {
      "cell_type": "markdown",
      "metadata": {
        "id": "view-in-github",
        "colab_type": "text"
      },
      "source": [
        "<a href=\"https://colab.research.google.com/github/Omar-A18/DS_Ejercicios_Fundamentals/blob/main/Parte_4_P%C3%ADldora_4_Jupyter_Listas_DS_01_01_02_N08_V13.ipynb\" target=\"_parent\"><img src=\"https://colab.research.google.com/assets/colab-badge.svg\" alt=\"Open In Colab\"/></a>"
      ]
    },
    {
      "cell_type": "markdown",
      "metadata": {
        "id": "DYY5AJL3S8aa"
      },
      "source": [
        "<img src = \"./img/TheBridge_logo_RGB_color.jpg\" width = 500><img src = \"./img/python.jpg\" width = 500>"
      ]
    },
    {
      "cell_type": "markdown",
      "metadata": {
        "id": "NVfLCZVYS8ab"
      },
      "source": [
        "# Python Basics I"
      ]
    },
    {
      "cell_type": "markdown",
      "metadata": {
        "id": "7z3gWrsjS8ab"
      },
      "source": [
        "## Contenidos"
      ]
    },
    {
      "cell_type": "markdown",
      "metadata": {
        "id": "I3K5qdhqS8ab"
      },
      "source": [
        "* [Listas\n",
        "](#Listas\n",
        ")\n"
      ]
    },
    {
      "cell_type": "markdown",
      "metadata": {
        "id": "FYN4lFFJS8ab"
      },
      "source": [
        "## Listas\n",
        "[al indice](#Contenidos)  \n",
        "Se trata de otro de los tipos de datos de Python más usados. Dentro de las colecciones, que veremos más adelante, la lista es la colección que normalmente se le da más uso. **Nos permiten almacenar conjuntos de variables u objetos**, y son elementos de lo más versátiles puesto que podemos almacenar objetos de distintos tipos, modificarlos, eliminarlos, meter listas dentro de listas... Sus dos caractrísticas principales son:\n",
        "* **Mutables**: una vez se ha creado la lista, se puede modificar\n",
        "* **Ordenada**: Los elementos tienen un cierto orden, lo que nos permite acceder al elemento que queramos teniendo en cuenta tal orden\n",
        "\n",
        "En cuanto a su sintaxis, cuando declaremos la lista simplemente hay que separar cada elemento con comas, y rodearlo todo con corchetes."
      ]
    },
    {
      "cell_type": "code",
      "execution_count": 2,
      "metadata": {
        "id": "xnsQO4uyS8ac",
        "outputId": "3df42639-84e4-47d2-f4ec-96bb67eee595",
        "colab": {
          "base_uri": "https://localhost:8080/"
        }
      },
      "outputs": [
        {
          "output_type": "stream",
          "name": "stdout",
          "text": [
            "[1, 2, 3, 4, 5]\n",
            "<class 'list'>\n"
          ]
        }
      ],
      "source": [
        "# Lista de numeros\n",
        "numeros = [1,2,3,4,5]\n",
        "print(numeros)\n",
        "print(type(numeros))"
      ]
    },
    {
      "cell_type": "code",
      "execution_count": 3,
      "metadata": {
        "id": "cS0o5IAnS8ac",
        "outputId": "f62e988a-013e-4a5c-8f61-3bfccfa326d8",
        "colab": {
          "base_uri": "https://localhost:8080/"
        }
      },
      "outputs": [
        {
          "output_type": "stream",
          "name": "stdout",
          "text": [
            "['Esto', 'es', 'una', 'lista', 'de', 'strings']\n",
            "[True, False, True, True, False]\n"
          ]
        }
      ],
      "source": [
        "# Lista de Strings\n",
        "strings = [\"Esto\", \"es\", \"una\", \"lista\", \"de\", \"strings\"]\n",
        "print(strings)\n",
        "\n",
        "# lista de Booleanos\n",
        "booleanos = [True, False, not False, True or False, False and False]\n",
        "print(booleanos)"
      ]
    },
    {
      "cell_type": "code",
      "execution_count": 6,
      "metadata": {
        "id": "FP6GhNsSS8ac",
        "outputId": "2b06b8bd-d76d-4bdb-e677-7c61883e3665",
        "colab": {
          "base_uri": "https://localhost:8080/"
        }
      },
      "outputs": [
        {
          "output_type": "stream",
          "name": "stdout",
          "text": [
            "[1, 2, 3, 'Esto', 'es', 'una', 'lista', True, False, True, True, False]\n",
            "<class 'list'>\n",
            "['Gola', '12', 23, [40, True, False, 'Hola']]\n"
          ]
        }
      ],
      "source": [
        "# Lista de tipos mezclados\n",
        "mix = [1, 2, 3, \"Esto\", \"es\", \"una\", \"lista\", True, False, not False, True or False, False and False]\n",
        "print(mix)\n",
        "print(type(mix))\n",
        "\n",
        "# Listas dentro de listas\n",
        "listas = [\"Gola\", \"12\",23, [40,True,False, \"Hola\"]]\n",
        "print(listas)"
      ]
    },
    {
      "cell_type": "code",
      "source": [
        "len(listas)"
      ],
      "metadata": {
        "id": "tdb8FdJ0VO23",
        "outputId": "6c0c9a19-0c13-40cb-af69-9186369272a6",
        "colab": {
          "base_uri": "https://localhost:8080/"
        }
      },
      "execution_count": 7,
      "outputs": [
        {
          "output_type": "execute_result",
          "data": {
            "text/plain": [
              "4"
            ]
          },
          "metadata": {},
          "execution_count": 7
        }
      ]
    },
    {
      "cell_type": "code",
      "source": [
        "len(mix)"
      ],
      "metadata": {
        "id": "HyBSAVcfVUiA",
        "outputId": "efeb7948-bc80-45a7-facf-9d6859f6c52a",
        "colab": {
          "base_uri": "https://localhost:8080/"
        }
      },
      "execution_count": 8,
      "outputs": [
        {
          "output_type": "execute_result",
          "data": {
            "text/plain": [
              "12"
            ]
          },
          "metadata": {},
          "execution_count": 8
        }
      ]
    },
    {
      "cell_type": "code",
      "source": [
        "concatenacion = mix + listas\n",
        "print(concatenacion)"
      ],
      "metadata": {
        "id": "_HlvZL-pVmzv",
        "outputId": "fccae338-b846-4303-cf47-f42225d495b2",
        "colab": {
          "base_uri": "https://localhost:8080/"
        }
      },
      "execution_count": 9,
      "outputs": [
        {
          "output_type": "stream",
          "name": "stdout",
          "text": [
            "[1, 2, 3, 'Esto', 'es', 'una', 'lista', True, False, True, True, False, 'Gola', '12', 23, [40, True, False, 'Hola']]\n"
          ]
        }
      ]
    },
    {
      "cell_type": "code",
      "source": [
        "concatenacion2 = listas + mix\n",
        "print(concatenacion2)"
      ],
      "metadata": {
        "id": "Pq9YGc6iVw1P",
        "outputId": "f6884d81-b114-4a46-c3ea-398c79965b06",
        "colab": {
          "base_uri": "https://localhost:8080/"
        }
      },
      "execution_count": 11,
      "outputs": [
        {
          "output_type": "stream",
          "name": "stdout",
          "text": [
            "['Gola', '12', 23, [40, True, False, 'Hola'], 1, 2, 3, 'Esto', 'es', 'una', 'lista', True, False, True, True, False]\n"
          ]
        }
      ]
    },
    {
      "cell_type": "markdown",
      "source": [],
      "metadata": {
        "id": "czSQCL92VmfV"
      }
    },
    {
      "cell_type": "markdown",
      "metadata": {
        "id": "CTGm3y0RS8ac"
      },
      "source": [
        "**NOTA**: ¿Ves por qué los decimales en Python siempre van con puntos y no con comas? Con las colecciones el intérprete de Python se volvería loco.\n",
        "\n",
        "Podemos ver tambien el tipo de la lista"
      ]
    },
    {
      "cell_type": "code",
      "source": [
        "type(mix)"
      ],
      "metadata": {
        "id": "Of43nx3iViud",
        "outputId": "8d0eb69f-f1bc-4328-bcb2-97e1f530ead0",
        "colab": {
          "base_uri": "https://localhost:8080/"
        }
      },
      "execution_count": 12,
      "outputs": [
        {
          "output_type": "execute_result",
          "data": {
            "text/plain": [
              "list"
            ]
          },
          "metadata": {},
          "execution_count": 12
        }
      ]
    },
    {
      "cell_type": "markdown",
      "metadata": {
        "id": "yf96NnXlS8ac"
      },
      "source": [
        "#Calcular la longitud de la misma mediante el método *built-in* ya visto: `len()`"
      ]
    },
    {
      "cell_type": "code",
      "execution_count": 13,
      "metadata": {
        "id": "Kbu8kYXjS8ac",
        "outputId": "c168386c-04b8-4f72-fa4f-96362bdbe338",
        "colab": {
          "base_uri": "https://localhost:8080/"
        }
      },
      "outputs": [
        {
          "output_type": "execute_result",
          "data": {
            "text/plain": [
              "12"
            ]
          },
          "metadata": {},
          "execution_count": 13
        }
      ],
      "source": [
        "len(mix)"
      ]
    },
    {
      "cell_type": "markdown",
      "metadata": {
        "id": "TzU4ZC0cS8ac"
      },
      "source": [
        "Accedemos a los elemenos de la lista mediante corchetes `[]`\n",
        "\n",
        "**Importante**. El primer elemento es el 0"
      ]
    },
    {
      "cell_type": "code",
      "execution_count": 20,
      "metadata": {
        "id": "22LSD_HPS8ac",
        "outputId": "6e2165e2-8c65-4e06-cc7f-32924a9d2ef3",
        "colab": {
          "base_uri": "https://localhost:8080/",
          "height": 245
        }
      },
      "outputs": [
        {
          "output_type": "stream",
          "name": "stdout",
          "text": [
            "primero\n",
            "True\n",
            "99\n",
            "cuarto\n"
          ]
        },
        {
          "output_type": "error",
          "ename": "IndexError",
          "evalue": "list index out of range",
          "traceback": [
            "\u001b[0;31m---------------------------------------------------------------------------\u001b[0m",
            "\u001b[0;31mIndexError\u001b[0m                                Traceback (most recent call last)",
            "\u001b[0;32m<ipython-input-20-e22197519683>\u001b[0m in \u001b[0;36m<cell line: 0>\u001b[0;34m()\u001b[0m\n\u001b[1;32m      4\u001b[0m \u001b[0mprint\u001b[0m\u001b[0;34m(\u001b[0m\u001b[0mlista_ejemplo\u001b[0m\u001b[0;34m[\u001b[0m\u001b[0;34m-\u001b[0m\u001b[0;36m4\u001b[0m\u001b[0;34m]\u001b[0m\u001b[0;34m)\u001b[0m\u001b[0;34m\u001b[0m\u001b[0;34m\u001b[0m\u001b[0m\n\u001b[1;32m      5\u001b[0m \u001b[0mprint\u001b[0m\u001b[0;34m(\u001b[0m\u001b[0mlista_ejemplo\u001b[0m\u001b[0;34m[\u001b[0m\u001b[0;36m3\u001b[0m\u001b[0;34m]\u001b[0m\u001b[0;34m)\u001b[0m\u001b[0;34m\u001b[0m\u001b[0;34m\u001b[0m\u001b[0m\n\u001b[0;32m----> 6\u001b[0;31m \u001b[0mprint\u001b[0m\u001b[0;34m(\u001b[0m\u001b[0mlista_ejemplo\u001b[0m\u001b[0;34m[\u001b[0m\u001b[0;36m534\u001b[0m\u001b[0;34m]\u001b[0m\u001b[0;34m)\u001b[0m\u001b[0;34m\u001b[0m\u001b[0;34m\u001b[0m\u001b[0m\n\u001b[0m",
            "\u001b[0;31mIndexError\u001b[0m: list index out of range"
          ]
        }
      ],
      "source": [
        "lista_ejemplo = [\"primero\", 2, 99, \"cuarto\", \"quinto\", True]\n",
        "print(lista_ejemplo[0]) # Empieza a contar desde 0 para recorrer la lista\n",
        "print(lista_ejemplo[-1]) # Al poner negativo recorre la lista al revés\n",
        "print(lista_ejemplo[-4])\n",
        "print(lista_ejemplo[3])\n",
        "print(lista_ejemplo[534])"
      ]
    },
    {
      "cell_type": "markdown",
      "metadata": {
        "id": "sUwXBJhJS8ad"
      },
      "source": [
        "### Metodos en Listas\n",
        "Para el tipo de objeto lista, también hay una serie de métodos catacterísticos que nos permiten operar con ellas: añadir valores, quitarlos, indexado, filtrado, etc... En [este enlace](https://www.w3schools.com/python/python_ref_list.asp) puedes encontrar todos los métodos que podrás usar con listas."
      ]
    },
    {
      "cell_type": "code",
      "execution_count": 31,
      "metadata": {
        "id": "xG0dX4nbS8ad",
        "outputId": "27c180f3-ef75-46d6-a1fa-16b37dbda168",
        "colab": {
          "base_uri": "https://localhost:8080/"
        }
      },
      "outputs": [
        {
          "output_type": "stream",
          "name": "stdout",
          "text": [
            "['Matemáticas', 'Física', 'Química', 'Historia', 'Lengua', 'Filosofía']\n",
            "['Matemáticas', 'Educacion Física', 'Física', 'Química', 'Historia', 'Lengua', 'Filosofía']\n",
            "['Matemáticas', 'Física', 'Química', 'Historia', 'Lengua', 'Filosofía']\n",
            "['Matemáticas', 'Física', 'Química', 'Historia', 'Lengua']\n",
            "['Física', 'Historia', 'Lengua', 'Matemáticas', 'Química']\n"
          ]
        }
      ],
      "source": [
        "asignaturas = [\"Matemáticas\", \"Física\", \"Química\", \"Historia\", \"Lengua\"]\n",
        "\n",
        "# Añadir un metodo a una lista\n",
        "asignaturas.append (\"Filosofía\")\n",
        "print(asignaturas)\n",
        "\n",
        "# Añadir elementos en una posicion determinada\n",
        "asignaturas.insert(1, \"Educacion Física\")\n",
        "print(asignaturas)\n",
        "\n",
        "# Quitar elementos\n",
        "# asignaturas.clear()\n",
        "# print(asignaturas)\n",
        "\n",
        "# Quitar un elemento a partirt de su indice o posicion\n",
        "asignaturas.pop(1)\n",
        "print(asignaturas)\n",
        "\n",
        "# Quitar un elemento por su \"valor\"\n",
        "asignaturas.remove(\"Filosofía\")\n",
        "print(asignaturas)\n",
        "\n",
        "# asignaturas.remove(\"Cine\")\n",
        "\n",
        "# Ordenar la lista\n",
        "asignaturas.sort()\n",
        "print(asignaturas)\n"
      ]
    },
    {
      "cell_type": "code",
      "execution_count": null,
      "metadata": {
        "id": "VTQ9ss8lS8ad"
      },
      "outputs": [],
      "source": []
    },
    {
      "cell_type": "code",
      "execution_count": null,
      "metadata": {
        "id": "ciHxR4dfS8ad"
      },
      "outputs": [],
      "source": []
    }
  ],
  "nbformat": 4,
  "nbformat_minor": 0,
  "metadata": {
    "kernelspec": {
      "display_name": "Python 3",
      "language": "python",
      "name": "python3"
    },
    "language_info": {
      "codemirror_mode": {
        "name": "ipython",
        "version": 3
      },
      "file_extension": ".py",
      "mimetype": "text/x-python",
      "name": "python",
      "nbconvert_exporter": "python",
      "pygments_lexer": "ipython3",
      "version": "3.8.3"
    },
    "colab": {
      "provenance": [],
      "include_colab_link": true
    }
  }
}