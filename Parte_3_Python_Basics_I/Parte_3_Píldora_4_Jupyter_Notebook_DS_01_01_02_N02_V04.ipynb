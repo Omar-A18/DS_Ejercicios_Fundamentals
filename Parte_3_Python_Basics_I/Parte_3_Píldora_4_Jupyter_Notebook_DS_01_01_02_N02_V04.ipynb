{
  "cells": [
    {
      "cell_type": "markdown",
      "metadata": {
        "id": "view-in-github",
        "colab_type": "text"
      },
      "source": [
        "<a href=\"https://colab.research.google.com/github/Omar-A18/ONLINE_DS_THEBRIDGE_repo_example_1/blob/main/Parte_3_P%C3%ADldora_4_Jupyter_Notebook_DS_01_01_02_N02_V04.ipynb\" target=\"_parent\"><img src=\"https://colab.research.google.com/assets/colab-badge.svg\" alt=\"Open In Colab\"/></a>"
      ]
    },
    {
      "cell_type": "markdown",
      "metadata": {
        "id": "0TWx1mQysz71"
      },
      "source": [
        "<img src=\"./img/TheBridge_logo_RGB_color.jpg\" width = 500>\n",
        "<img src=\"./img/python.jpg\" width = 500>"
      ]
    },
    {
      "cell_type": "markdown",
      "metadata": {
        "id": "SJZLx68ysz77"
      },
      "source": [
        "# Python Basics I: Print, Comentarios y otros aspectos básicos\n",
        "\n",
        "En este notebook vamos a profundizar un poquito más en el uso de la función print, además de ver cómo usar los comentarios, la importancia del flujo secuencial de ejecución de python y terminaremos con el uso del comando para liberar memoria, `del`."
      ]
    },
    {
      "cell_type": "markdown",
      "metadata": {
        "id": "yQBSE68Asz7_"
      },
      "source": [
        "## Contenidos"
      ]
    },
    {
      "cell_type": "markdown",
      "metadata": {
        "id": "Ri_YEvIFsz7_"
      },
      "source": [
        "* [Print](#Print)\n",
        "* [Comentarios\n",
        "](#Comentarios\n",
        ")\n",
        "* [Flujos de ejecución\n",
        "](#Flujos-de-ejecución\n",
        ")\n",
        "* [Del\n",
        "](#Del\n",
        ")\n"
      ]
    },
    {
      "cell_type": "markdown",
      "metadata": {
        "id": "Sq7AaR0Ksz8A"
      },
      "source": [
        "## Print[al indice](#Contenidos)\n"
      ]
    },
    {
      "cell_type": "markdown",
      "metadata": {
        "id": "VUDSdhRmsz8B"
      },
      "source": [
        "Hasta ahora hemos visto en Jupyter dos tipos de celdas:\n",
        "* **Markdown**: básicamente texto para las explicaciones\n",
        "* **Código**: donde insertamos el código Python y lo ejecutamos\n",
        "\n",
        "Las celdas de código, no solo corren el código y realizan todas las operaciones que le indiquemos, sino que también tienen un output, una salida de ese código. Tenemos dos opciones para ver el output del código, o bien mediante `print`, o poniendo una variable al final de la celda. En este último caso, veremos el valor de esa variable"
      ]
    },
    {
      "cell_type": "code",
      "execution_count": 3,
      "metadata": {
        "id": "bClFVzBrsz8F"
      },
      "outputs": [],
      "source": [
        "ingresos = 1000\n",
        "gastos = 100\n",
        "beneficios = ingresos - gastos\n"
      ]
    },
    {
      "cell_type": "code",
      "execution_count": 4,
      "metadata": {
        "id": "h0oHArOUsz8G",
        "outputId": "11e640fe-a030-4d0f-c0ff-99ed96a3caaa",
        "colab": {
          "base_uri": "https://localhost:8080/"
        }
      },
      "outputs": [
        {
          "output_type": "stream",
          "name": "stdout",
          "text": [
            "1000\n",
            "100\n",
            "Los beneficios han sido de: \n",
            "900\n"
          ]
        }
      ],
      "source": [
        "print(ingresos)\n",
        "print(gastos)\n",
        "print(\"Los beneficios han sido de: \")\n",
        "print(beneficios)"
      ]
    },
    {
      "cell_type": "markdown",
      "metadata": {
        "id": "Ztq4hPUGsz8H"
      },
      "source": [
        "Si hacemos un print de un texto, podemos concatenar valores de variables mediante `%s`."
      ]
    },
    {
      "cell_type": "code",
      "execution_count": 5,
      "metadata": {
        "id": "9HtC_3Jasz8I",
        "outputId": "fe32fc35-2194-444d-c39b-73a5ea4efa4f",
        "colab": {
          "base_uri": "https://localhost:8080/"
        }
      },
      "outputs": [
        {
          "output_type": "stream",
          "name": "stdout",
          "text": [
            "Los beneficios en junio han sido de 900 millones\n"
          ]
        }
      ],
      "source": [
        "mes = \"junio\"\n",
        "print(\"Los beneficios en %s han sido de %s millones\" % (mes, beneficios))"
      ]
    },
    {
      "cell_type": "code",
      "source": [
        "print(\"Los beneficios en %s han sido de %s millones\" % (beneficios, mes))"
      ],
      "metadata": {
        "id": "uoGMEIy8KGkc",
        "outputId": "3ff83330-6364-425f-9225-b1161f9c4ad3",
        "colab": {
          "base_uri": "https://localhost:8080/"
        }
      },
      "execution_count": 7,
      "outputs": [
        {
          "output_type": "stream",
          "name": "stdout",
          "text": [
            "Los beneficios en 900 han sido de junio millones\n"
          ]
        }
      ]
    },
    {
      "cell_type": "markdown",
      "metadata": {
        "id": "W_OVzYZpsz8J"
      },
      "source": [
        "Otra opcion si queremos imprimir por pantalla varios strings, es separandolos por comas en el `print`. Fíjate que le añade espacios en la salida cada vez que ponemos un valor nuevo entre comas."
      ]
    },
    {
      "cell_type": "code",
      "execution_count": 8,
      "metadata": {
        "id": "e7GTTG7Asz8K",
        "outputId": "39ee634a-540b-45b9-835e-e9368b82eaa0",
        "colab": {
          "base_uri": "https://localhost:8080/"
        }
      },
      "outputs": [
        {
          "output_type": "stream",
          "name": "stdout",
          "text": [
            "Los beneficios de agosto han sido 900 millones\n"
          ]
        }
      ],
      "source": [
        "mes = \"agosto\"\n",
        "print(\"Los beneficios de\", mes, \"han sido\", beneficios, \"millones\")"
      ]
    },
    {
      "cell_type": "markdown",
      "metadata": {
        "id": "vdj2DkwVsz8K"
      },
      "source": [
        "## Comentarios\n",
        "[al indice](#Contenidos)\n",
        "Se trata de texto que va junto con el código, y que el intérprete de Python ignora por completo. Muy útil para documentar y explicar el código"
      ]
    },
    {
      "cell_type": "code",
      "execution_count": 10,
      "metadata": {
        "id": "tNN4NXBosz8L",
        "outputId": "08123b4b-7b3e-414b-b41a-f2a4a6472d15",
        "colab": {
          "base_uri": "https://localhost:8080/"
        }
      },
      "outputs": [
        {
          "output_type": "stream",
          "name": "stdout",
          "text": [
            "Esto si lo ejecuta\n"
          ]
        }
      ],
      "source": [
        "# Comentario de linea\n",
        "# print (\"Esto lo ignora\")\n",
        "print (\"Esto si lo ejecuta\")"
      ]
    },
    {
      "cell_type": "code",
      "execution_count": 11,
      "metadata": {
        "id": "xAMl3XMZsz8L",
        "outputId": "f25eedee-3150-4da4-de36-4ddca40ff802",
        "colab": {
          "base_uri": "https://localhost:8080/"
        }
      },
      "outputs": [
        {
          "output_type": "stream",
          "name": "stdout",
          "text": [
            "fin del programa \n"
          ]
        }
      ],
      "source": [
        "print(\"fin del programa \") # Esta indica que hemos terminado"
      ]
    },
    {
      "cell_type": "code",
      "execution_count": 12,
      "metadata": {
        "id": "kLfdySz4sz8M",
        "outputId": "7ecd7142-adc3-4435-82c3-5c6f89c15c11",
        "colab": {
          "base_uri": "https://localhost:8080/"
        }
      },
      "outputs": [
        {
          "output_type": "stream",
          "name": "stdout",
          "text": [
            "Este print si se va a ejecutar\n"
          ]
        }
      ],
      "source": [
        "'''\n",
        "Comentari multilinea\n",
        "Puedo usar varias lineas sin tener que repetir el #\n",
        "'''\n",
        "\"\"\"\n",
        "Los comentarios multilinea pueden ir entre comilas dobles,\n",
        "y tampoco se ejecutan o intrepretan este\n",
        "print(\"No se ejecuta\")\n",
        "\"\"\"\n",
        "\n",
        "print(\"Este print si se va a ejecutar\")"
      ]
    },
    {
      "cell_type": "code",
      "execution_count": null,
      "metadata": {
        "id": "mKjNNl9usz8M"
      },
      "outputs": [],
      "source": []
    },
    {
      "cell_type": "markdown",
      "metadata": {
        "id": "YjKKvIcvsz8N"
      },
      "source": [
        "**IMPORTATE**. SIEMPRE comentar el código. Nunca sabes quén lo puede heredar. Te dejo en [este link](https://realpython.com/python-comments-guide/) una guía interesante sobre cómo comentar tu código."
      ]
    },
    {
      "cell_type": "markdown",
      "metadata": {
        "id": "DvY8MqBFsz8P"
      },
      "source": [
        "## Flujos de ejecución\n",
        "[al indice](#Contenidos)\n",
        "Los programas de Python se ejecutan secuencialmente, por lo que el orden en el que escribas las operaciones es determinante"
      ]
    },
    {
      "cell_type": "code",
      "execution_count": 14,
      "metadata": {
        "id": "fQLF5Hi9sz8Q",
        "outputId": "cb705f23-b919-469d-936f-f1d4a4e56971",
        "colab": {
          "base_uri": "https://localhost:8080/",
          "height": 176
        }
      },
      "outputs": [
        {
          "output_type": "error",
          "ename": "NameError",
          "evalue": "name 'ventas_junio' is not defined",
          "traceback": [
            "\u001b[0;31m---------------------------------------------------------------------------\u001b[0m",
            "\u001b[0;31mNameError\u001b[0m                                 Traceback (most recent call last)",
            "\u001b[0;32m<ipython-input-14-0948369e7978>\u001b[0m in \u001b[0;36m<cell line: 0>\u001b[0;34m()\u001b[0m\n\u001b[0;32m----> 1\u001b[0;31m \u001b[0mventas_jun_jul\u001b[0m \u001b[0;34m=\u001b[0m \u001b[0mventas_junio\u001b[0m \u001b[0;34m+\u001b[0m \u001b[0mventas_julio\u001b[0m\u001b[0;34m\u001b[0m\u001b[0;34m\u001b[0m\u001b[0m\n\u001b[0m\u001b[1;32m      2\u001b[0m \u001b[0mventas_junio\u001b[0m \u001b[0;34m=\u001b[0m \u001b[0;36m100\u001b[0m\u001b[0;34m\u001b[0m\u001b[0;34m\u001b[0m\u001b[0m\n\u001b[1;32m      3\u001b[0m \u001b[0mventas_julio\u001b[0m \u001b[0;34m=\u001b[0m \u001b[0;36m150\u001b[0m\u001b[0;34m\u001b[0m\u001b[0;34m\u001b[0m\u001b[0m\n",
            "\u001b[0;31mNameError\u001b[0m: name 'ventas_junio' is not defined"
          ]
        }
      ],
      "source": [
        "ventas_jun_jul = ventas_junio + ventas_julio\n",
        "ventas_junio = 100\n",
        "ventas_julio = 150"
      ]
    },
    {
      "cell_type": "code",
      "execution_count": 15,
      "metadata": {
        "id": "bHDb4Wu0sz8R",
        "outputId": "70612217-85d8-43e5-e6d9-c1d6e44c12c8",
        "colab": {
          "base_uri": "https://localhost:8080/",
          "height": 141
        }
      },
      "outputs": [
        {
          "output_type": "error",
          "ename": "NameError",
          "evalue": "name 'ventas_junio' is not defined",
          "traceback": [
            "\u001b[0;31m---------------------------------------------------------------------------\u001b[0m",
            "\u001b[0;31mNameError\u001b[0m                                 Traceback (most recent call last)",
            "\u001b[0;32m<ipython-input-15-a5a41b63b28a>\u001b[0m in \u001b[0;36m<cell line: 0>\u001b[0;34m()\u001b[0m\n\u001b[0;32m----> 1\u001b[0;31m \u001b[0mventas_junio\u001b[0m\u001b[0;34m\u001b[0m\u001b[0;34m\u001b[0m\u001b[0m\n\u001b[0m",
            "\u001b[0;31mNameError\u001b[0m: name 'ventas_junio' is not defined"
          ]
        }
      ],
      "source": [
        "ventas_junio"
      ]
    },
    {
      "cell_type": "markdown",
      "metadata": {
        "id": "AQad9bd5sz8R"
      },
      "source": [
        "**Da error**, primero tenemos que declarar las ventas, y luego sumarlas.\n"
      ]
    },
    {
      "cell_type": "code",
      "execution_count": 18,
      "metadata": {
        "id": "8eK59bISsz8S"
      },
      "outputs": [],
      "source": [
        "ventas_junio = 100\n",
        "ventas_julio = 150\n",
        "ventas_jun_jul = ventas_junio + ventas_julio"
      ]
    },
    {
      "cell_type": "code",
      "source": [
        "print(\"las ventas de junio a julio son\", ventas_jun_jul)"
      ],
      "metadata": {
        "id": "sxI-49_AOOqh",
        "outputId": "f03ab780-f0b9-4bf0-a43d-3e882c08746d",
        "colab": {
          "base_uri": "https://localhost:8080/"
        }
      },
      "execution_count": 19,
      "outputs": [
        {
          "output_type": "stream",
          "name": "stdout",
          "text": [
            "las ventas de junio a julio son 250\n"
          ]
        }
      ]
    },
    {
      "cell_type": "markdown",
      "metadata": {
        "id": "RpiNY_DDsz8T"
      },
      "source": [
        "\n",
        "**¿Cuándo acaba una línea de código?**. El salto de línea lo interpreta Python como una nueva instrucción. En muchos lengujes, como Java hay que especificar el fin de la sentencia de código mediante `;`. En Python no es necesario, aunque se puede usar igualmente."
      ]
    },
    {
      "cell_type": "code",
      "execution_count": 20,
      "metadata": {
        "id": "1Y36Th3asz8U",
        "outputId": "7ec9eeb0-e824-40de-b35a-74a9dd95ed58",
        "colab": {
          "base_uri": "https://localhost:8080/"
        }
      },
      "outputs": [
        {
          "output_type": "stream",
          "name": "stdout",
          "text": [
            "1.8 75\n"
          ]
        }
      ],
      "source": [
        "altura = 1.80; peso = 75\n",
        "print(altura, peso)"
      ]
    },
    {
      "cell_type": "code",
      "execution_count": 22,
      "metadata": {
        "id": "DeNp6TuOsz8V"
      },
      "outputs": [],
      "source": [
        "x,y,z = 12,23,45"
      ]
    },
    {
      "cell_type": "code",
      "source": [
        "x = 12\n",
        "y = 23\n",
        "z = 45"
      ],
      "metadata": {
        "id": "QdTugEBhOvtp"
      },
      "execution_count": 23,
      "outputs": []
    },
    {
      "cell_type": "markdown",
      "metadata": {
        "id": "05D06kawsz8V"
      },
      "source": [
        "## Del\n",
        "[al indice](#Contenidos)\n",
        "Es la sentencia que usaremos para borrar una variable. La verdad, no se suelen borrar variables. Vamos desarrollando los programas de Python sin preocuparnos de limpiar aquellas variables que no usamos. Normalmente no borrarlas no suele ser un problema, pero cuando manejamos un gran volumen de datos, podemos sufrir problemas de rendimiento ya que **las variables ocupan memoria**.\n",
        "\n",
        "Cuando las variables son las que hemos visto hasta ahora, no pasa nada, pero si son más pesadas, como por ejemplo datasets de imágenes que ocupan mucho, sí va a venir bien eliminar aquellas que no usemos."
      ]
    },
    {
      "cell_type": "code",
      "execution_count": 25,
      "metadata": {
        "id": "iw3UNr4xsz8W",
        "outputId": "d84bac02-46e2-4526-c324-dff70603324b",
        "colab": {
          "base_uri": "https://localhost:8080/",
          "height": 176
        }
      },
      "outputs": [
        {
          "output_type": "error",
          "ename": "NameError",
          "evalue": "name 'altura' is not defined",
          "traceback": [
            "\u001b[0;31m---------------------------------------------------------------------------\u001b[0m",
            "\u001b[0;31mNameError\u001b[0m                                 Traceback (most recent call last)",
            "\u001b[0;32m<ipython-input-25-74ef05cb5b7b>\u001b[0m in \u001b[0;36m<cell line: 0>\u001b[0;34m()\u001b[0m\n\u001b[1;32m      1\u001b[0m \u001b[0maltura\u001b[0m \u001b[0;34m=\u001b[0m \u001b[0;36m1.85\u001b[0m\u001b[0;34m\u001b[0m\u001b[0;34m\u001b[0m\u001b[0m\n\u001b[1;32m      2\u001b[0m \u001b[0;32mdel\u001b[0m \u001b[0maltura\u001b[0m\u001b[0;34m\u001b[0m\u001b[0;34m\u001b[0m\u001b[0m\n\u001b[0;32m----> 3\u001b[0;31m \u001b[0mprint\u001b[0m\u001b[0;34m(\u001b[0m\u001b[0maltura\u001b[0m\u001b[0;34m)\u001b[0m\u001b[0;34m\u001b[0m\u001b[0;34m\u001b[0m\u001b[0m\n\u001b[0m",
            "\u001b[0;31mNameError\u001b[0m: name 'altura' is not defined"
          ]
        }
      ],
      "source": [
        "altura = 1.85\n",
        "del altura\n",
        "print(altura)"
      ]
    },
    {
      "cell_type": "code",
      "execution_count": null,
      "metadata": {
        "id": "7GNp56rysz8Y"
      },
      "outputs": [],
      "source": []
    }
  ],
  "nbformat": 4,
  "nbformat_minor": 0,
  "metadata": {
    "kernelspec": {
      "display_name": "Python 3.7.4 64-bit",
      "language": "python",
      "name": "python3"
    },
    "language_info": {
      "codemirror_mode": {
        "name": "ipython",
        "version": 3
      },
      "file_extension": ".py",
      "mimetype": "text/x-python",
      "name": "python",
      "nbconvert_exporter": "python",
      "pygments_lexer": "ipython3",
      "version": "3.11.4"
    },
    "nbTranslate": {
      "displayLangs": [
        "*"
      ],
      "hotkey": "alt-t",
      "langInMainMenu": true,
      "sourceLang": "en",
      "targetLang": "fr",
      "useGoogleTranslate": true
    },
    "varInspector": {
      "cols": {
        "lenName": 16,
        "lenType": 16,
        "lenVar": 40
      },
      "kernels_config": {
        "python": {
          "delete_cmd_postfix": "",
          "delete_cmd_prefix": "del ",
          "library": "var_list.py",
          "varRefreshCmd": "print(var_dic_list())"
        },
        "r": {
          "delete_cmd_postfix": ") ",
          "delete_cmd_prefix": "rm(",
          "library": "var_list.r",
          "varRefreshCmd": "cat(var_dic_list()) "
        }
      },
      "types_to_exclude": [
        "module",
        "function",
        "builtin_function_or_method",
        "instance",
        "_Feature"
      ],
      "window_display": false
    },
    "colab": {
      "provenance": [],
      "include_colab_link": true
    }
  }
}
