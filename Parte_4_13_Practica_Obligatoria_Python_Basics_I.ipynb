{
  "cells": [
    {
      "cell_type": "markdown",
      "metadata": {
        "id": "view-in-github",
        "colab_type": "text"
      },
      "source": [
        "<a href=\"https://colab.research.google.com/github/Omar-A18/DS_Ejercicios_Fundamentals/blob/main/Parte_4_13_Practica_Obligatoria_Python_Basics_I.ipynb\" target=\"_parent\"><img src=\"https://colab.research.google.com/assets/colab-badge.svg\" alt=\"Open In Colab\"/></a>"
      ]
    },
    {
      "cell_type": "markdown",
      "metadata": {
        "id": "A9eDZvZaNPxs"
      },
      "source": [
        "![imagen](./img/ejercicios.png)"
      ]
    },
    {
      "cell_type": "markdown",
      "metadata": {
        "id": "59zPhBxXNPxs"
      },
      "source": [
        "## PRACTICA OBLIGATORIA: PYTHON"
      ]
    },
    {
      "cell_type": "markdown",
      "metadata": {
        "id": "mv2kb1GMNPxs"
      },
      "source": [
        "* La práctica obligatoria de esta unidad consiste en dos ejercicios de programación libre a completar.   \n",
        "* Recuerda que debes subirla a tu repositorio personal antes de la sesión en vivo para que puntúe adecuadamente.  \n",
        "* Recuerda también que no es necesario que esté perfecta, sólo es necesario que se vea el esfuerzo.\n",
        "* Esta práctica se resolverá en la sesión en vivo correspondiente y la solución se publicará en el repo del curso."
      ]
    },
    {
      "cell_type": "markdown",
      "metadata": {
        "id": "Kl9JzST2NPxt"
      },
      "source": [
        "![ejercicio.png](./img/ejercicio.png)\n",
        "## PARTE I\n",
        "\n",
        "En este ejercicio debes simular un chatbot al que le haremos pedidos de pizzas.\n",
        "\n",
        "1. El chatbot tiene que saludar con un: \"Buenas tardes, bienvenido al servicio de pedido online, el precio de nuestra pizzas es de 8,95 para la familiar o de 9,90 para la mediana ¿Cuántas pizzas  familiares desea?\"\n",
        "2. El ususario tiene que introducir un número de pizzas en una variable llamada 'pizz_familiar'\n",
        "3. El chatbot debe responder: \"Estupendo, ¿cuántas pizzas medianas desea?\" y guardar el número de pizzas medianas en otra variable 'pizz_mediana'\n",
        "4. Además debe responder del chatbot: \"Estupendo, se están preparando 'pizz' pizzas familiares y 'pizz_mediana' pizzas medianas. Digame su dirección\"\n",
        "5. El ususario tiene que introducir una direccion en formato String en otra variable llamada 'direcc'\n",
        "6. El programa debe calcular el monto total\n",
        "7. Respuesta final del chatbot: \"Le mandaremos las '(número total de pizzas)' pizzas a la dirección 'direcc'. Serán <precio total a pagar en euros>. Muchas gracias por su pedido.\"\n",
        "         \n"
      ]
    },
    {
      "cell_type": "code",
      "execution_count": 11,
      "metadata": {
        "id": "qkKibyt-NPxt",
        "outputId": "c8e46c25-1e05-4364-9178-9c879b142b2c",
        "colab": {
          "base_uri": "https://localhost:8080/"
        }
      },
      "outputs": [
        {
          "output_type": "stream",
          "name": "stdout",
          "text": [
            "Buenas tardes, bienvenido al servicio de pedido online,el precio de nuestra pizzas es de 8,95€ para la familiar o de 9,90€ para la mediana\n",
            "¿Cuántas pizzas familiares desea? 1\n",
            "Estupendo, ¿cuántas pizzas medianas desea? 1\n",
            "Estupendo, se están preparando 1 pizzas familiares y 1 pizzas medianas.\n",
            "Digame su dirección: Aldaia\n",
            "Le mandaremos las  2  pizzas a la dirección:  Aldaia . Serán:  18.85 €. Muchas gracias por su pedido.\n"
          ]
        }
      ],
      "source": [
        "import time\n",
        "print(\"Buenas tardes, bienvenido al servicio de pedido online,el precio de nuestra pizzas es de 8,95€ \\\n",
        "para la familiar o de 9,90€ para la mediana\")\n",
        "pizz_familiar = input(\"¿Cuántas pizzas familiares desea? \")\n",
        "pizz_mediana = input(\"Estupendo, ¿cuántas pizzas medianas desea? \")\n",
        "print(f\"Estupendo, se están preparando {pizz_familiar} pizzas familiares y {pizz_mediana} pizzas medianas.\")\n",
        "direcc = input(\"Digame su dirección: \")\n",
        "pizz_familiar_1 = int(pizz_familiar)\n",
        "pizz_mediana_1 = int(pizz_mediana)\n",
        "total_pizz = pizz_familiar_1 + pizz_mediana_1\n",
        "total_pizz_cost = (pizz_familiar_1 * 8.95) + (pizz_mediana_1 * 9.90)\n",
        "\n",
        "print(\"Le mandaremos las \",total_pizz,' pizzas a la dirección: ',direcc, '. Serán: ',total_pizz_cost ,\"€. Muchas gracias por su pedido.\")\n",
        "\n"
      ]
    },
    {
      "cell_type": "code",
      "source": [],
      "metadata": {
        "id": "z88WkU8Nsr36"
      },
      "execution_count": null,
      "outputs": []
    },
    {
      "cell_type": "markdown",
      "metadata": {
        "id": "f0oqoGDGNPxt"
      },
      "source": [
        "![ejercicio.png](./img/ejercicio.png)\n",
        "## Parte II\n",
        "\n",
        "Crea un programa que realice las siguientes acciones:\n",
        "\n",
        "1. Solicite al usuario que introduzca 3 números enteros separados por comas (por ejemplo: 1,2,3).\n",
        "2. Convierta esa entrada en una lista de números enteros.\n",
        "3. Utilizando funciones built-in, determine el número máximo, el número mínimo y la suma total de los números introducidos.\n",
        "4. Determine la verdad o falsedad de la siguiente afirmación: \"El número máximo menos el número mínimo es igual a la suma total dividida por 5\".\n",
        "5. Muestre los resultados utilizando print."
      ]
    },
    {
      "cell_type": "code",
      "execution_count": 25,
      "metadata": {
        "id": "rAlpWiQ9NPxt",
        "outputId": "d85b963a-1520-4db0-ac02-fbc52a5cb94b",
        "colab": {
          "base_uri": "https://localhost:8080/"
        }
      },
      "outputs": [
        {
          "output_type": "stream",
          "name": "stdout",
          "text": [
            "Introduce 3 numeros separados por comas (por ejemplo: 1,2,3)1,2,3\n",
            "Número máximo: 3\n",
            "Número mínimo: 1\n",
            "Suma total: 6\n",
            "La afirmación es falsa\n"
          ]
        }
      ],
      "source": [
        "entrada = input(\"Introduce 3 numeros separados por comas (por ejemplo: 1,2,3)\")\n",
        "\n",
        "partes = entrada.split(\",\")\n",
        "\n",
        "numeros = []\n",
        "for num in partes:\n",
        "    numeros.append(int(num))\n",
        "\n",
        "numero_maximo = max(numeros)\n",
        "numero_minimo = min(numeros)\n",
        "suma_total = sum(numeros)\n",
        "\n",
        "afirmacion = (numero_maximo - numero_minimo) == (suma_total / 5)\n",
        "\n",
        "if afirmacion:\n",
        "    resultado_afirmacion = 'verdadera'\n",
        "else:\n",
        "    resultado_afirmacion = 'falsa'\n",
        "\n",
        "print(f\"Número máximo: {numero_maximo}\")\n",
        "print(f\"Número mínimo: {numero_minimo}\")\n",
        "print(f\"Suma total: {suma_total}\")\n",
        "print(f\"La afirmación es {resultado_afirmacion}\")"
      ]
    },
    {
      "cell_type": "code",
      "source": [],
      "metadata": {
        "id": "cFGIgVLLwg_2"
      },
      "execution_count": null,
      "outputs": []
    }
  ],
  "metadata": {
    "kernelspec": {
      "display_name": "Curso_Online_DATA",
      "language": "python",
      "name": "python3"
    },
    "language_info": {
      "codemirror_mode": {
        "name": "ipython",
        "version": 3
      },
      "file_extension": ".py",
      "mimetype": "text/x-python",
      "name": "python",
      "nbconvert_exporter": "python",
      "pygments_lexer": "ipython3",
      "version": "3.11.5"
    },
    "orig_nbformat": 4,
    "colab": {
      "provenance": [],
      "include_colab_link": true
    }
  },
  "nbformat": 4,
  "nbformat_minor": 0
}