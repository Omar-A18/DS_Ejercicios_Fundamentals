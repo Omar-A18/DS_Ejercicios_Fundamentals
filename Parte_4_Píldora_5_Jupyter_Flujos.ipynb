{
  "cells": [
    {
      "cell_type": "markdown",
      "metadata": {
        "id": "view-in-github",
        "colab_type": "text"
      },
      "source": [
        "<a href=\"https://colab.research.google.com/github/Omar-A18/DS_Ejercicios_Fundamentals/blob/main/Parte_4_P%C3%ADldora_5_Jupyter_Flujos.ipynb\" target=\"_parent\"><img src=\"https://colab.research.google.com/assets/colab-badge.svg\" alt=\"Open In Colab\"/></a>"
      ]
    },
    {
      "cell_type": "markdown",
      "metadata": {
        "id": "uXXscqCMjmHS"
      },
      "source": [
        "# Python Flujos de Control\n",
        "\n",
        "Hasta ahora hemos visto cómo ejecutar un programa secuencialmente, empieza en la primera línea y acaba en la última. Pero ¿y si queremos que cambien los outputs del programa en función de ciertas condiciones, o si queremos que tome otros caminos en caso de encontrar errores?. Todo esto lo podremos hacer con los flujos de control. Sentencias que encontrarás en todos los lenguajes de programación.\n",
        "\n",
        "\n",
        "1. [Sintaxis de línea](#1.-Sintaxis-de-línea)\n",
        "1. [if/elif/else](#2.-if/elif/else)\n",
        "2. [Bucle for](#3.-Bucle-for)\n",
        "3. [Bucle while](#4.-Bucle-while)\n",
        "4. [Break/continue](#5.-Break/continue)\n",
        "5. [Try/except](#6.-Try/except)\n",
        "6. [Resumen](#7.-Resumen)"
      ]
    },
    {
      "cell_type": "markdown",
      "metadata": {
        "id": "hbWFWMXajmHV"
      },
      "source": [
        "## 1. Sintaxis de línea\n",
        "La manera en la que Python encapsula todo el código que va dentro de un flujo de control como `if` o `for` es diferente a como se suele hacer en otros lenguajes, en los que se rodea de llaves `{}` o paréntesis `()` todo el contenido del flujo. Con Python no. En Python simplemente hay que añadir una tabulación a cada línea de código que vaya dentro del flujo de control.\n",
        "\n",
        "> ```Python\n",
        "> while condiciones:\n",
        ">     Código dentro de este bucle\n",
        "> ```\n",
        "\n",
        "\n",
        "Si lo dejamos fuera, este código se ejecutará secuencialmente después de que corra el for\n",
        "\n",
        "> ```Python\n",
        "> while condiciones:\n",
        ">\n",
        "> Código fuera de este bucle\n",
        "> ```\n",
        "\n",
        "Veamos un ejemplo. Tenemos una lista de numeros, y queremos ver cuáles son enteros. Para ello los recorremos con un `for` (vermos más en profundiad en este notebook). Vamos iternando uno a uno cada elemento. Luego mediante un `if` comprobamos si es entero. Fíjate que todo lo que va dentro del `for` lleva una tabulación y lo que va dentro del `if` lleva dos tabulaciones, puesto que sus sentencias van tanto dentro del `if`, como dentro del `for`."
      ]
    },
    {
      "cell_type": "code",
      "execution_count": 1,
      "metadata": {
        "colab": {
          "base_uri": "https://localhost:8080/"
        },
        "id": "NC4TEW_OjmHW",
        "outputId": "ab3800f5-e59d-41d8-a655-c8c846c88bda"
      },
      "outputs": [
        {
          "output_type": "stream",
          "name": "stdout",
          "text": [
            "Aprobado\n",
            "Finaliza ejecución\n"
          ]
        }
      ],
      "source": [
        "nota = 7\n",
        "\n",
        "if nota >= 5:\n",
        "    print(\"Aprobado\")\n",
        "else:\n",
        "    print(\"Suspenso\")\n",
        "print(\"Finaliza ejecución\")"
      ]
    },
    {
      "cell_type": "markdown",
      "metadata": {
        "id": "iD3CAoMNjmHX"
      },
      "source": [
        "\n",
        "#### ERRORES ¿Qué ocurre si nos olvidamos de tabular?\n",
        "         \n"
      ]
    },
    {
      "cell_type": "code",
      "execution_count": 2,
      "metadata": {
        "colab": {
          "base_uri": "https://localhost:8080/",
          "height": 106
        },
        "id": "c70zKelsjmHY",
        "outputId": "21379b4e-16f1-49bd-e5d6-3e2338f72f8b"
      },
      "outputs": [
        {
          "output_type": "error",
          "ename": "IndentationError",
          "evalue": "expected an indented block after 'if' statement on line 3 (<ipython-input-2-2a13e73aafca>, line 4)",
          "traceback": [
            "\u001b[0;36m  File \u001b[0;32m\"<ipython-input-2-2a13e73aafca>\"\u001b[0;36m, line \u001b[0;32m4\u001b[0m\n\u001b[0;31m    print(\"Aprobado\")\u001b[0m\n\u001b[0m    ^\u001b[0m\n\u001b[0;31mIndentationError\u001b[0m\u001b[0;31m:\u001b[0m expected an indented block after 'if' statement on line 3\n"
          ]
        }
      ],
      "source": [
        "nota = 7\n",
        "\n",
        "if nota >= 5:\n",
        "print(\"Aprobado\")\n",
        "else:\n",
        "print(\"Suspenso\")\n",
        "print(\"Finaliza ejecución\")"
      ]
    },
    {
      "cell_type": "code",
      "execution_count": 3,
      "metadata": {
        "colab": {
          "base_uri": "https://localhost:8080/"
        },
        "id": "Kqhg8Ah_jmHY",
        "outputId": "d4c1f9dc-9af1-49ed-8667-59d887d0c421"
      },
      "outputs": [
        {
          "output_type": "stream",
          "name": "stdout",
          "text": [
            "Iteración for\n",
            "El numero 4 es un entero\n",
            "Iteración for\n",
            "El numero 6 es un entero\n",
            "Iteración for\n",
            "Iteración for\n",
            "Finaliza ejecución\n"
          ]
        }
      ],
      "source": [
        "numeros = [4, 6, 4.0, 3.0]\n",
        "\n",
        "for num in numeros:\n",
        "    print(\"Iteración for\")\n",
        "    if type(num) == int:\n",
        "        print(\"El numero\", num, \"es un entero\")\n",
        "print(\"Finaliza ejecución\")"
      ]
    },
    {
      "cell_type": "markdown",
      "metadata": {
        "id": "cR6OmqtSjmHY"
      },
      "source": [
        "Ojo, el error no ha dado en el `if`, sino en el `for`. Te señala lo que hay inmediatamente despues de los dos puntos del `for`, ya que considera que ahí debería haber una tabulación. No la hay, y por eso salta el error."
      ]
    },
    {
      "cell_type": "markdown",
      "metadata": {
        "id": "VITobfsLjmHZ"
      },
      "source": [
        "### Sintaxis\n",
        "Por tanto, toda sentencia `if`, `for`, `while`, `try`, declaración de funciones, de clases, llevan dos puntos. Y después de los dos puntos, tabulado, va todo el contenido de ese bloque. **Siempre**.\n",
        "\n",
        "Si pones los dos puntos y le das a enter, Python automáticamente te tabula todo lo que vayas a escribir a continuación."
      ]
    },
    {
      "cell_type": "markdown",
      "metadata": {
        "id": "VkWfui-CjmHa"
      },
      "source": [
        "## 2. if/elif/else\n",
        "En función de lo que valgan unas condiciones booleanas, ejecutaremos unas líneas de código, u otras. La sintaxis es muy sencilla:\n",
        "\n",
        "\n",
        "> ```Python\n",
        "> if condiciones:\n",
        ">     Si se cumplen las condiciones, ejecuta este código\n",
        "> else:\n",
        ">     Si no, ejecutas estre otro código\n",
        "> ```\n",
        "    \n",
        "Veamos un ejemplo"
      ]
    },
    {
      "cell_type": "code",
      "source": [
        "3 == 1"
      ],
      "metadata": {
        "colab": {
          "base_uri": "https://localhost:8080/"
        },
        "id": "3tM4RQtwSqxd",
        "outputId": "a1a8bbd7-efe5-47c7-b102-0843cc9b4cbb"
      },
      "execution_count": 4,
      "outputs": [
        {
          "output_type": "execute_result",
          "data": {
            "text/plain": [
              "False"
            ]
          },
          "metadata": {},
          "execution_count": 4
        }
      ]
    },
    {
      "cell_type": "code",
      "source": [
        "if 1 == 10:\n",
        "    print(\"Es verdadero\")\n",
        "else:\n",
        "    print(\"Es falso\")\n",
        "print(\"Finalizado\")"
      ],
      "metadata": {
        "colab": {
          "base_uri": "https://localhost:8080/"
        },
        "id": "80kkJcdLSr9F",
        "outputId": "f8fa11bd-180b-40dc-8c5c-fca43af29731"
      },
      "execution_count": 5,
      "outputs": [
        {
          "output_type": "stream",
          "name": "stdout",
          "text": [
            "Es falso\n",
            "Finalizado\n"
          ]
        }
      ]
    },
    {
      "cell_type": "code",
      "execution_count": 12,
      "metadata": {
        "colab": {
          "base_uri": "https://localhost:8080/"
        },
        "id": "5sr3xnTMjmHa",
        "outputId": "a3eac1c9-b170-4759-f154-6a66feced2e3"
      },
      "outputs": [
        {
          "output_type": "stream",
          "name": "stdout",
          "text": [
            "A septiembre\n"
          ]
        }
      ],
      "source": [
        "mi_nota = 3\n",
        "\n",
        "if mi_nota < 5:\n",
        "    print(\"A septiembre\")\n",
        "\n",
        "elif mi_nota > 10:\n",
        "    print(\"Error. Es hasta 10\")\n",
        "\n",
        "elif mi_nota == 3:\n",
        "    print(\"Tu nota es un 3\")\n",
        "\n",
        "else:\n",
        "    print(\"Aprobado\")"
      ]
    },
    {
      "cell_type": "markdown",
      "metadata": {
        "id": "kkmWqln9jmHa"
      },
      "source": [
        "Únicamente se ejecuta la parte de código que consigue un `True` en la condición. `print(\"Aprobado!\")` sólo se imprimirá por pantalla si la nota es mayor o igual a 5."
      ]
    },
    {
      "cell_type": "markdown",
      "metadata": {
        "id": "894XuyvijmHb"
      },
      "source": [
        "**IMPORTANTE**. Todos los `ifs` se ejecutan secuencialmente."
      ]
    },
    {
      "cell_type": "markdown",
      "metadata": {
        "id": "TPvvQdF5jmHb"
      },
      "source": [
        "¿Recuerdas lo que viste con el *Algebra de Boole*? Este es el momento de utilizarlo. Cuando acudimos a varias condiciones dentro de un mismo `if`, tenemos que tener muy claras las operaciones binarias que estamos realizando."
      ]
    },
    {
      "cell_type": "code",
      "execution_count": 14,
      "metadata": {
        "colab": {
          "base_uri": "https://localhost:8080/"
        },
        "id": "Gyfb9UXQjmHb",
        "outputId": "8107e76b-fd97-484a-d070-ee1d1457d3e4"
      },
      "outputs": [
        {
          "output_type": "stream",
          "name": "stdout",
          "text": [
            "Otro animal\n"
          ]
        }
      ],
      "source": [
        "pico = False\n",
        "alas = False\n",
        "sonido = \"Ladrar\"\n",
        "patas = 2\n",
        "\n",
        "if pico or alas:\n",
        "    # True or False = True\n",
        "    print(\"Ave\")\n",
        "\n",
        "elif patas == 4 and sonido == \"Ladrar\":\n",
        "    # True and True = True\n",
        "    print(\"Perro\")\n",
        "\n",
        "else:\n",
        "    print(\"Otro animal\")"
      ]
    },
    {
      "cell_type": "markdown",
      "metadata": {
        "id": "GW0lgDKTjmHc"
      },
      "source": [
        "*Python >= 3.10*\n",
        "## match case\n",
        "Puedes verlo como el equivalente de la sentencia switch que ya hay en otros lenguajes. Originalmente, Python solo contaba con la sentencia if - else para el manejo de condicionales en el flujo de la aplicación, pero desde Python 3.10 se introdujo la novedad del Structural Pattern Matching y con eso la sentencia match - case.\n",
        "\n",
        "> ```Python\n",
        ">match variable:\n",
        ">\tcase \"value 1\":\n",
        ">\t  x = 15\n",
        ">\tcase \"value 2\":\n",
        ">\t  x = 25\n",
        ">\tcase _:\n",
        ">\t  x = 0\n",
        "> ```\n",
        "\n"
      ]
    },
    {
      "cell_type": "code",
      "execution_count": 19,
      "metadata": {
        "colab": {
          "base_uri": "https://localhost:8080/"
        },
        "id": "mOhiIjaIjmHc",
        "outputId": "b313b422-6055-4cb3-f26f-3fdda44b152f"
      },
      "outputs": [
        {
          "output_type": "stream",
          "name": "stdout",
          "text": [
            "Ingrese un día de la semana: Lunes\n",
            "La tarea para  Lunes es:  Hacer la compra\n"
          ]
        }
      ],
      "source": [
        "day = input(\"Ingrese un día de la semana: \")\n",
        "\n",
        "# Usando match case\n",
        "match day.lower():\n",
        "    case \"lunes\":\n",
        "        task = \"Hacer la compra\"\n",
        "    case \"martes\":\n",
        "        task = \"Ir al gimnasio\"\n",
        "    case \"miércoles\":\n",
        "        task = \"Estudiar Python\"\n",
        "    case \"jueves\":\n",
        "        task = \"Llamar a mamá\"\n",
        "    case \"viernes\":\n",
        "        task = \"Ver una película\"\n",
        "    case \"sábado\":\n",
        "        task = \"Salir con amigos\"\n",
        "    case \"domingo\":\n",
        "        task = \"Relajarse en casa\"\n",
        "    case _:\n",
        "        task = \"Ese día no es válido\"\n",
        "\n",
        "print(f\"La tarea para {day} es: {task}\")"
      ]
    },
    {
      "cell_type": "markdown",
      "metadata": {
        "id": "oxCw23tIjmHc"
      },
      "source": [
        "\n",
        "## 3. Bucle for\n",
        "Gracias a los bucles podemos ejecutar código repetitivo, de manera bastante automática. Son muy útiles para que nuestro código no sea redundante, y también para aplicar operaciones cuando manejamos iterables. Un iterable no es más que una colección de objetos (una lista es un iterable) que podremos ir recorriendo uno a uno con el bucle `for`, y aplicar operaciones a cada elemento.\n",
        "\n",
        "La sintaxis de los bucles `for` es la siguiente:\n",
        "\n",
        "```Python\n",
        "for var_ejecucion in limites ejecución:\n",
        "    codigo del for...\n",
        "```\n",
        "    \n",
        "    \n",
        "* **Límites de ejecución**: La cantidad de veces que queremos que se ejecute un `for`. Esto es así porque si no se ejecutarían hasta el infinito. Y además, tienen una variable de ejecución que se va actualizando. Por ejemplo del 1 al 10. Primero valdría 1, luego 2...así hasta 10.\n",
        "\n",
        "\n",
        "* **Variable de ejecución**: dentro del for habrá una variable que se irá actualizando con cada ejecución. Si se ejecuta 10 veces, primero la variable valdrá 1, luego 2, y así hasta 10.\n",
        "\n"
      ]
    },
    {
      "cell_type": "markdown",
      "metadata": {
        "id": "2skXSWFojmHc"
      },
      "source": [
        "Mejor vemos un ejemplo para entenderlo. Tienes las notas de tres alumnos en una lista, y quieres imprimir por pantalla las notas"
      ]
    },
    {
      "cell_type": "code",
      "source": [
        "notas = [3, 6, 9, 10]\n",
        "for nota in notas:\n",
        "    print(nota)"
      ],
      "metadata": {
        "colab": {
          "base_uri": "https://localhost:8080/"
        },
        "id": "ZOEADKA8Tt6m",
        "outputId": "870b96f4-228a-481e-fa38-cfbf7ef98cf9"
      },
      "execution_count": 23,
      "outputs": [
        {
          "output_type": "stream",
          "name": "stdout",
          "text": [
            "3\n",
            "6\n",
            "9\n",
            "10\n"
          ]
        }
      ]
    },
    {
      "cell_type": "code",
      "execution_count": null,
      "metadata": {
        "colab": {
          "base_uri": "https://localhost:8080/"
        },
        "id": "61YOaP6tjmHc",
        "outputId": "a4ac53ff-2169-4ef4-f372-127c7dc41548"
      },
      "outputs": [
        {
          "output_type": "stream",
          "name": "stdout",
          "text": [
            "3\n",
            "6\n",
            "9\n",
            "10\n"
          ]
        }
      ],
      "source": [
        "notas = [3, 6, 9, 10]\n",
        "\n",
        "print(notas[0])\n",
        "print(notas[1])\n",
        "print(notas[2])\n",
        "print(notas[3])"
      ]
    },
    {
      "cell_type": "code",
      "execution_count": 24,
      "metadata": {
        "colab": {
          "base_uri": "https://localhost:8080/"
        },
        "id": "mW2vOdCMjmHd",
        "outputId": "b51c9976-13ad-4a63-bf3f-c25347fc64ea"
      },
      "outputs": [
        {
          "output_type": "stream",
          "name": "stdout",
          "text": [
            "Suspenso\n",
            "Aprobado\n",
            "Aprobado\n",
            "Aprobado\n"
          ]
        }
      ],
      "source": [
        "if notas[0] >= 5:\n",
        "    print(\"Aprobado\")\n",
        "else:\n",
        "    print(\"Suspenso\")\n",
        "\n",
        "if notas[1] >= 5:\n",
        "    print(\"Aprobado\")\n",
        "else:\n",
        "    print(\"Suspenso\")\n",
        "\n",
        "if notas[2] >= 5:\n",
        "    print(\"Aprobado\")\n",
        "else:\n",
        "    print(\"Suspenso\")\n",
        "\n",
        "if notas[3] >= 5:\n",
        "    print(\"Aprobado\")\n",
        "else:\n",
        "    print(\"Suspenso\")\n"
      ]
    },
    {
      "cell_type": "code",
      "execution_count": 25,
      "metadata": {
        "colab": {
          "base_uri": "https://localhost:8080/"
        },
        "id": "jozHbJTfjmHd",
        "outputId": "dcd4d3f6-ee8e-418c-e0d6-bfccdd4b4624"
      },
      "outputs": [
        {
          "output_type": "execute_result",
          "data": {
            "text/plain": [
              "[3, 6, 9, 10]"
            ]
          },
          "metadata": {},
          "execution_count": 25
        }
      ],
      "source": [
        "notas"
      ]
    },
    {
      "cell_type": "code",
      "execution_count": 26,
      "metadata": {
        "colab": {
          "base_uri": "https://localhost:8080/"
        },
        "id": "Sc3dBLkyjmHd",
        "outputId": "8df284b2-3ae2-40af-9d4f-7560b6ff3970"
      },
      "outputs": [
        {
          "output_type": "stream",
          "name": "stdout",
          "text": [
            "Recorriendo nota 3\n",
            "Suspenso\n",
            "Recorriendo nota 6\n",
            "Aprobado\n",
            "Recorriendo nota 9\n",
            "Aprobado\n",
            "Recorriendo nota 10\n",
            "Aprobado\n"
          ]
        }
      ],
      "source": [
        "for nota in notas: # nota = notas[0...]\n",
        "    print(\"Recorriendo nota\", nota)\n",
        "    if nota >= 5:\n",
        "        print(\"Aprobado\")\n",
        "    else:\n",
        "        print(\"Suspenso\")"
      ]
    },
    {
      "cell_type": "markdown",
      "metadata": {
        "id": "SY4QPDPpjmHd"
      },
      "source": [
        "Genial, pero qué ocurre si ahora tienes 30 notas, o simplemente quieres que tu programa no dependa de cuantas notas tienes, unas veces son 30, otras 20..."
      ]
    },
    {
      "cell_type": "code",
      "execution_count": 27,
      "metadata": {
        "colab": {
          "base_uri": "https://localhost:8080/"
        },
        "id": "iShkJqBNjmHe",
        "outputId": "a2f5a7a0-ba88-4524-e33e-71ff1c0367b4"
      },
      "outputs": [
        {
          "output_type": "stream",
          "name": "stdout",
          "text": [
            "[4, 5, 7, 3, 4, 6, 5, 5, 4, 5, 5, 6]\n"
          ]
        }
      ],
      "source": [
        "notas_clase = [4,5,7,3,4,6,5,5,4,5,5,6]\n",
        "print(notas_clase)"
      ]
    },
    {
      "cell_type": "code",
      "execution_count": null,
      "metadata": {
        "colab": {
          "base_uri": "https://localhost:8080/"
        },
        "id": "gm2qlUMwjmHe",
        "outputId": "be3378fd-2c07-4478-f141-5a2da38477f3"
      },
      "outputs": [
        {
          "output_type": "stream",
          "name": "stdout",
          "text": [
            "Suspenso con: 4\n",
            "Aprobado con: 5\n",
            "Aprobado con: 7\n",
            "Suspenso con: 3\n",
            "Suspenso con: 4\n",
            "Aprobado con: 6\n",
            "Aprobado con: 5\n",
            "Aprobado con: 5\n",
            "Suspenso con: 4\n",
            "Aprobado con: 5\n",
            "Aprobado con: 5\n",
            "Aprobado con: 6\n"
          ]
        }
      ],
      "source": [
        "for nota in notas_clase:\n",
        "    if nota >= 5:\n",
        "        print(\"Aprobado con:\", nota)\n",
        "    else:\n",
        "        print(\"Suspenso con:\", nota)"
      ]
    },
    {
      "cell_type": "code",
      "source": [
        "# Fijate que un String también es un iterable\n",
        "\n",
        "for letra in \"Python\":\n",
        "    print(\"comienza iteración\")\n",
        "    print(letra)"
      ],
      "metadata": {
        "colab": {
          "base_uri": "https://localhost:8080/"
        },
        "id": "GoyORlIiT7Uf",
        "outputId": "c32427a1-a252-47c4-e6c6-4b64e1dca1ff"
      },
      "execution_count": 30,
      "outputs": [
        {
          "output_type": "stream",
          "name": "stdout",
          "text": [
            "comienza iteración\n",
            "P\n",
            "comienza iteración\n",
            "y\n",
            "comienza iteración\n",
            "t\n",
            "comienza iteración\n",
            "h\n",
            "comienza iteración\n",
            "o\n",
            "comienza iteración\n",
            "n\n"
          ]
        }
      ]
    },
    {
      "cell_type": "code",
      "execution_count": 37,
      "metadata": {
        "colab": {
          "base_uri": "https://localhost:8080/"
        },
        "id": "eOUTRrzhjmHe",
        "outputId": "79a44d50-1c25-48a1-9174-0f77d027e36c"
      },
      "outputs": [
        {
          "output_type": "stream",
          "name": "stdout",
          "text": [
            "Lunes\n",
            "L\n",
            "u\n",
            "n\n",
            "e\n",
            "s\n",
            "----------------------------------------------------------------------------------------------------\n",
            "Martes\n",
            "M\n",
            "a\n",
            "r\n",
            "t\n",
            "e\n",
            "s\n",
            "----------------------------------------------------------------------------------------------------\n",
            "Miércoles\n",
            "M\n",
            "i\n",
            "é\n",
            "r\n",
            "c\n",
            "o\n",
            "l\n",
            "e\n",
            "s\n",
            "----------------------------------------------------------------------------------------------------\n",
            "Jueves\n",
            "J\n",
            "u\n",
            "e\n",
            "v\n",
            "e\n",
            "s\n",
            "----------------------------------------------------------------------------------------------------\n",
            "Viernes\n",
            "V\n",
            "i\n",
            "e\n",
            "r\n",
            "n\n",
            "e\n",
            "s\n",
            "----------------------------------------------------------------------------------------------------\n",
            "Sábado\n",
            "S\n",
            "á\n",
            "b\n",
            "a\n",
            "d\n",
            "o\n",
            "----------------------------------------------------------------------------------------------------\n",
            "Domingo\n",
            "D\n",
            "o\n",
            "m\n",
            "i\n",
            "n\n",
            "g\n",
            "o\n",
            "----------------------------------------------------------------------------------------------------\n"
          ]
        }
      ],
      "source": [
        "\n",
        "dias_semana = [\"Lunes\", \"Martes\", \"Miércoles\", \"Jueves\", \"Viernes\", \"Sábado\", \"Domingo\"]\n",
        "\n",
        "for dia in dias_semana:\n",
        "    print(dia)\n",
        "    for letra in dia:\n",
        "        print(letra)\n",
        "    print(\"-\"*100)"
      ]
    },
    {
      "cell_type": "markdown",
      "metadata": {
        "id": "QTv1NJQMjmHe"
      },
      "source": [
        "Todo objeto que sea **iterable**, lo podrás recorrer en un `for`. Veremos los iterables más en detalle en las colecciones."
      ]
    },
    {
      "cell_type": "markdown",
      "metadata": {
        "id": "ldN7YFvkjmHe"
      },
      "source": [
        "El bucle for resulta de gran utilidad para **aplicar operaciones a cada elemento**. Hasta ahora solo hemos impreso items por pantalla, pero ¿y si queremos subir la nota de todos los alumnos un punto extra? No puedo hacer `lista + 1`. Tendré que iterar/recorrer cada elemento y aplicarle la operación."
      ]
    },
    {
      "cell_type": "code",
      "execution_count": 38,
      "metadata": {
        "id": "4g8juzXdjmHi"
      },
      "outputs": [],
      "source": [
        "import time"
      ]
    },
    {
      "cell_type": "code",
      "execution_count": 39,
      "metadata": {
        "id": "nyLPMIdGjmHi"
      },
      "outputs": [],
      "source": [
        "notas_clase = [4,5,7]\n",
        "entregas = [False,True,True]"
      ]
    },
    {
      "cell_type": "code",
      "execution_count": 40,
      "metadata": {
        "colab": {
          "base_uri": "https://localhost:8080/"
        },
        "id": "WVNZsdjGjmHi",
        "outputId": "8f7fe1e5-7e68-40c7-dfe1-bb8d3126d1ba"
      },
      "outputs": [
        {
          "output_type": "execute_result",
          "data": {
            "text/plain": [
              "0"
            ]
          },
          "metadata": {},
          "execution_count": 40
        }
      ],
      "source": [
        "nota = 4\n",
        "notas_clase.index(nota)"
      ]
    },
    {
      "cell_type": "code",
      "execution_count": 41,
      "metadata": {
        "colab": {
          "base_uri": "https://localhost:8080/"
        },
        "id": "3xvvVVxnjmHi",
        "outputId": "7305d40b-f8f9-483a-fe30-210fbdef11b2"
      },
      "outputs": [
        {
          "output_type": "execute_result",
          "data": {
            "text/plain": [
              "False"
            ]
          },
          "metadata": {},
          "execution_count": 41
        }
      ],
      "source": [
        "entregas[notas_clase.index(nota)]"
      ]
    },
    {
      "cell_type": "code",
      "execution_count": 47,
      "metadata": {
        "collapsed": true,
        "jupyter": {
          "outputs_hidden": true
        },
        "tags": [],
        "colab": {
          "base_uri": "https://localhost:8080/"
        },
        "id": "9TXLIN0mjmHj",
        "outputId": "ea1d3267-d336-4e8a-f822-4e6774c9b4c4"
      },
      "outputs": [
        {
          "output_type": "stream",
          "name": "stdout",
          "text": [
            "iterando con la nota: 4\n",
            "Cargando siguiente nota\n",
            "iterando con la nota: 5\n",
            "Cargando siguiente nota\n",
            "iterando con la nota: 7\n",
            "Cargando siguiente nota\n",
            "[3, 6, 8]\n"
          ]
        }
      ],
      "source": [
        "notas_clase = [4,5,7]\n",
        "notas_clase_actualizada = []\n",
        "entregas = [False,True,True]\n",
        "\n",
        "\n",
        "for nota in notas_clase:\n",
        "    print(\"iterando con la nota:\", nota)\n",
        "    if entregas[notas_clase.index(nota)]:\n",
        "        notas_clase_actualizada.append(nota + 1)\n",
        "    else:\n",
        "        notas_clase_actualizada.append(nota - 1)\n",
        "    print(\"Cargando siguiente nota\")\n",
        "\n",
        "print(notas_clase_actualizada)"
      ]
    },
    {
      "cell_type": "markdown",
      "metadata": {
        "id": "U3dFOIxljmHj"
      },
      "source": [
        "Dentro de un bucle `for`, podremos anidar más bucles. Esto resulta útil si queremos calcular combinaciones de iterables, por ejemplo, si quiero imprimir por pantalla todas las coordenadas de un tablero de 4x4."
      ]
    },
    {
      "cell_type": "code",
      "execution_count": 61,
      "metadata": {
        "colab": {
          "base_uri": "https://localhost:8080/"
        },
        "id": "3_BVFdTOjmHj",
        "outputId": "d166f03a-6e3a-4cb4-ab14-bf83a9cdecac"
      },
      "outputs": [
        {
          "output_type": "execute_result",
          "data": {
            "text/plain": [
              "[1, 2, 3]"
            ]
          },
          "metadata": {},
          "execution_count": 61
        }
      ],
      "source": [
        "list(range(1, 4))"
      ]
    },
    {
      "cell_type": "code",
      "execution_count": 50,
      "metadata": {
        "collapsed": true,
        "jupyter": {
          "outputs_hidden": true
        },
        "tags": [],
        "colab": {
          "base_uri": "https://localhost:8080/"
        },
        "id": "WULvQNu7jmHk",
        "outputId": "435e47d8-fa24-4bdd-aaf6-ee4ffbf5ff20"
      },
      "outputs": [
        {
          "output_type": "stream",
          "name": "stdout",
          "text": [
            "Coordenada: 1, 1\n",
            "Coordenada: 1, 2\n",
            "Coordenada: 1, 3\n",
            "Coordenada: 2, 1\n",
            "Coordenada: 2, 2\n",
            "Casilla central\n",
            "Coordenada: 2, 3\n",
            "Coordenada: 3, 1\n",
            "Coordenada: 3, 2\n",
            "Coordenada: 3, 3\n"
          ]
        }
      ],
      "source": [
        "# Tablero 3 en raya\n",
        "for i in range(1, 4):\n",
        "\n",
        "    for j in range(1, 4):\n",
        "        print(f'Coordenada: {i}, {j}')\n",
        "        # time.sleep(2)\n",
        "        if i == 2 and j == 2:\n",
        "            print(\"Casilla central\")"
      ]
    },
    {
      "cell_type": "markdown",
      "metadata": {
        "id": "XbrQLbjOjmHk"
      },
      "source": [
        "### Función range\n",
        "Es muy común usar la función `range()` en las condiciones de un bucle. Esta función puede funcionar con un único argumento numérico y su output es un **iterable**, comprendido entre el 0 y el número introducido como argumento.\n",
        "\n",
        "Verás en [la documentación](https://www.w3schools.com/python/ref_func_range.asp) que `range()` tiene más posibilidades, combinando sus argumentos."
      ]
    },
    {
      "cell_type": "code",
      "execution_count": 49,
      "metadata": {
        "colab": {
          "base_uri": "https://localhost:8080/"
        },
        "id": "7qF22UcxjmHk",
        "outputId": "850ffae5-1e82-43c5-9419-9d9e55d98ae1"
      },
      "outputs": [
        {
          "output_type": "execute_result",
          "data": {
            "text/plain": [
              "[1, 2, 3, 4, 5]"
            ]
          },
          "metadata": {},
          "execution_count": 49
        }
      ],
      "source": [
        "list(range(1, 6))"
      ]
    },
    {
      "cell_type": "code",
      "execution_count": 64,
      "metadata": {
        "colab": {
          "base_uri": "https://localhost:8080/"
        },
        "id": "ChbRpUzZjmHk",
        "outputId": "cace6614-fb3d-4310-ba97-382187b8244c"
      },
      "outputs": [
        {
          "output_type": "stream",
          "name": "stdout",
          "text": [
            "[0, 1, 2, 3, 4, 5]\n",
            "[0, 1, 2, 3, 4, 5]\n",
            "[0, 2, 4]\n",
            "[2, 3, 4, 5]\n",
            "[10, 8, 6, 4, 2, 0]\n"
          ]
        }
      ],
      "source": [
        "print(list(range(6)))\n",
        "print(list(range(0, 6, 1)))\n",
        "print(list(range(0, 6, 2)))\n",
        "print(list(range(2, 6, 1)))\n",
        "print(list(range(10, -1, -2)))"
      ]
    },
    {
      "cell_type": "markdown",
      "metadata": {
        "id": "XqSAd7zQjmHl"
      },
      "source": [
        "En ocasiones nos interesa iterar sobre la posición que tiene cada elemento dentro de un iterable. Para ello podemos combinar `range` con `len` dentro de las condiciones del bucle"
      ]
    },
    {
      "cell_type": "code",
      "execution_count": 65,
      "metadata": {
        "colab": {
          "base_uri": "https://localhost:8080/"
        },
        "id": "IZeKwyZ1jmHl",
        "outputId": "2d85c0a6-11ac-4c0a-b222-3a20380d65ba"
      },
      "outputs": [
        {
          "output_type": "execute_result",
          "data": {
            "text/plain": [
              "[0, 1, 2]"
            ]
          },
          "metadata": {},
          "execution_count": 65
        }
      ],
      "source": [
        "list(range(3))"
      ]
    },
    {
      "cell_type": "code",
      "execution_count": 66,
      "metadata": {
        "colab": {
          "base_uri": "https://localhost:8080/"
        },
        "id": "6iUFiirjjmHl",
        "outputId": "6f7c2de9-1872-4146-f90b-e1239ddbf89a"
      },
      "outputs": [
        {
          "output_type": "execute_result",
          "data": {
            "text/plain": [
              "3"
            ]
          },
          "metadata": {},
          "execution_count": 66
        }
      ],
      "source": [
        "colores = ['rojo', 'verde', 'azul']\n",
        "len(colores)"
      ]
    },
    {
      "cell_type": "code",
      "execution_count": 67,
      "metadata": {
        "colab": {
          "base_uri": "https://localhost:8080/"
        },
        "id": "V3TRvfmdjmHl",
        "outputId": "765372ab-d83b-4564-a00f-3a81c435a87b"
      },
      "outputs": [
        {
          "output_type": "stream",
          "name": "stdout",
          "text": [
            "rojo\n",
            "verde\n",
            "azul\n"
          ]
        }
      ],
      "source": [
        "for color in colores:\n",
        "    print(color)"
      ]
    },
    {
      "cell_type": "code",
      "execution_count": 69,
      "metadata": {
        "colab": {
          "base_uri": "https://localhost:8080/"
        },
        "id": "BT5JFx44jmHl",
        "outputId": "d75c26bc-9b06-4592-b349-07d76c7d30e4"
      },
      "outputs": [
        {
          "output_type": "execute_result",
          "data": {
            "text/plain": [
              "[0, 1, 2]"
            ]
          },
          "metadata": {},
          "execution_count": 69
        }
      ],
      "source": [
        "list(range(len(colores)))"
      ]
    },
    {
      "cell_type": "code",
      "execution_count": 70,
      "metadata": {
        "colab": {
          "base_uri": "https://localhost:8080/",
          "height": 35
        },
        "id": "7wXZ4EB8jmHl",
        "outputId": "c83d77a7-a81a-4491-f6b1-25ea5eaf52ea"
      },
      "outputs": [
        {
          "output_type": "execute_result",
          "data": {
            "text/plain": [
              "'azul'"
            ],
            "application/vnd.google.colaboratory.intrinsic+json": {
              "type": "string"
            }
          },
          "metadata": {},
          "execution_count": 70
        }
      ],
      "source": [
        "colores[2]"
      ]
    },
    {
      "cell_type": "code",
      "execution_count": 72,
      "metadata": {
        "colab": {
          "base_uri": "https://localhost:8080/"
        },
        "id": "UNoWpWOxjmHm",
        "outputId": "d4cf72c7-f6c8-41cb-fedd-b140d3a4e014"
      },
      "outputs": [
        {
          "output_type": "stream",
          "name": "stdout",
          "text": [
            "0 rojo\n",
            "1 verde\n",
            "2 azul\n"
          ]
        }
      ],
      "source": [
        "colores = ['rojo', 'verde', 'azul']\n",
        "\n",
        "for i in range(len(colores)):\n",
        "    print(i, colores[i])"
      ]
    },
    {
      "cell_type": "markdown",
      "metadata": {
        "id": "hlAdCiHBjmHm"
      },
      "source": [
        "### Función enumerate\n",
        "¿Y si dentro del bucle necesitamos tanto el elemento del iterable, como su índice? En [la documentación](https://www.w3schools.com/python/ref_func_enumerate.asp) verás que puedes elegir desde qué elemento de la lista quieres empezar."
      ]
    },
    {
      "cell_type": "code",
      "execution_count": 73,
      "metadata": {
        "colab": {
          "base_uri": "https://localhost:8080/"
        },
        "id": "QDMkWiEwjmHm",
        "outputId": "ff05f8a6-6e24-4e82-f39e-70036a91d228"
      },
      "outputs": [
        {
          "output_type": "execute_result",
          "data": {
            "text/plain": [
              "[(0, 'Pedro'), (1, 'Mariano'), (2, 'Jose Luis')]"
            ]
          },
          "metadata": {},
          "execution_count": 73
        }
      ],
      "source": [
        "names = [\"Pedro\", \"Mariano\", \"Jose Luis\"]\n",
        "list(enumerate(names))"
      ]
    },
    {
      "cell_type": "code",
      "execution_count": 74,
      "metadata": {
        "colab": {
          "base_uri": "https://localhost:8080/"
        },
        "id": "iIFSwWgJjmHn",
        "outputId": "e6376e18-f687-400e-df86-b813e95e6000"
      },
      "outputs": [
        {
          "output_type": "stream",
          "name": "stdout",
          "text": [
            "Nombre 0: Pedro\n",
            "0\n",
            "Pedro\n",
            "Nombre 1: Mariano\n",
            "1\n",
            "Mariano\n",
            "Nombre 2: Jose Luis\n",
            "2\n",
            "Jose Luis\n"
          ]
        }
      ],
      "source": [
        "for index, name in enumerate(names):\n",
        "    print(f\"Nombre {index}: {name}\")\n",
        "    print(index)\n",
        "    print(name)"
      ]
    },
    {
      "cell_type": "markdown",
      "metadata": {
        "id": "3H-Vd5hcjmHo"
      },
      "source": [
        "<table align=\"left\">\n",
        " <tr><td width=\"80\"><img src=\"./img/error.png\" style=\"width:auto;height:auto\"></td>\n",
        "     <td style=\"text-align:left\">\n",
        "         <h3>ERRORES en los rangos</h3>\n",
        "         \n",
        " </td></tr>\n",
        "</table>"
      ]
    },
    {
      "cell_type": "markdown",
      "metadata": {
        "id": "pFmI1PqbjmHo"
      },
      "source": [
        "Mucho cuidado al escribir las condiciones del bucle. Lo primero, porque podríamos tener condiciones infinitas de ejecución que ni nosotros, ni nuestro ordenador lo deseamos. Y lo segundo porque si intentamos acceder a un índice de nuestro iterable que no existe, saltará un error. Veamos ejemplo"
      ]
    },
    {
      "cell_type": "code",
      "execution_count": 75,
      "metadata": {
        "colab": {
          "base_uri": "https://localhost:8080/"
        },
        "id": "xdsi-bYjjmHo",
        "outputId": "b51f352f-343b-43a9-f64b-24211eb9877b"
      },
      "outputs": [
        {
          "output_type": "execute_result",
          "data": {
            "text/plain": [
              "[0, 1, 2, 3]"
            ]
          },
          "metadata": {},
          "execution_count": 75
        }
      ],
      "source": [
        "list(range(4))"
      ]
    },
    {
      "cell_type": "code",
      "execution_count": 76,
      "metadata": {
        "colab": {
          "base_uri": "https://localhost:8080/",
          "height": 158
        },
        "id": "RuF6dC9fjmHo",
        "outputId": "3230a3d8-115a-4744-e3db-bf9dd367069a"
      },
      "outputs": [
        {
          "output_type": "error",
          "ename": "IndexError",
          "evalue": "list index out of range",
          "traceback": [
            "\u001b[0;31m---------------------------------------------------------------------------\u001b[0m",
            "\u001b[0;31mIndexError\u001b[0m                                Traceback (most recent call last)",
            "\u001b[0;32m<ipython-input-76-5be09a047358>\u001b[0m in \u001b[0;36m<cell line: 0>\u001b[0;34m()\u001b[0m\n\u001b[1;32m      1\u001b[0m \u001b[0mnames\u001b[0m \u001b[0;34m=\u001b[0m \u001b[0;34m[\u001b[0m\u001b[0;34m\"Pedro\"\u001b[0m\u001b[0;34m,\u001b[0m \u001b[0;34m\"Mariano\"\u001b[0m\u001b[0;34m,\u001b[0m \u001b[0;34m\"Jose Luis\"\u001b[0m\u001b[0;34m]\u001b[0m\u001b[0;34m\u001b[0m\u001b[0;34m\u001b[0m\u001b[0m\n\u001b[0;32m----> 2\u001b[0;31m \u001b[0mnames\u001b[0m\u001b[0;34m[\u001b[0m\u001b[0;36m3\u001b[0m\u001b[0;34m]\u001b[0m\u001b[0;34m\u001b[0m\u001b[0;34m\u001b[0m\u001b[0m\n\u001b[0m",
            "\u001b[0;31mIndexError\u001b[0m: list index out of range"
          ]
        }
      ],
      "source": [
        "names = [\"Pedro\", \"Mariano\", \"Jose Luis\"]\n",
        "names[3]"
      ]
    },
    {
      "cell_type": "code",
      "execution_count": 77,
      "metadata": {
        "colab": {
          "base_uri": "https://localhost:8080/",
          "height": 228
        },
        "id": "MQgy5IJPjmHo",
        "outputId": "1a429f85-7b03-41d9-c169-61f2cb82b06d"
      },
      "outputs": [
        {
          "output_type": "stream",
          "name": "stdout",
          "text": [
            "0 Pedro\n",
            "1 Mariano\n",
            "2 Jose Luis\n"
          ]
        },
        {
          "output_type": "error",
          "ename": "IndexError",
          "evalue": "list index out of range",
          "traceback": [
            "\u001b[0;31m---------------------------------------------------------------------------\u001b[0m",
            "\u001b[0;31mIndexError\u001b[0m                                Traceback (most recent call last)",
            "\u001b[0;32m<ipython-input-77-7edb42d5f667>\u001b[0m in \u001b[0;36m<cell line: 0>\u001b[0;34m()\u001b[0m\n\u001b[1;32m      2\u001b[0m \u001b[0;34m\u001b[0m\u001b[0m\n\u001b[1;32m      3\u001b[0m \u001b[0;32mfor\u001b[0m \u001b[0mi\u001b[0m \u001b[0;32min\u001b[0m \u001b[0mrange\u001b[0m\u001b[0;34m(\u001b[0m\u001b[0;36m4\u001b[0m\u001b[0;34m)\u001b[0m\u001b[0;34m:\u001b[0m\u001b[0;34m\u001b[0m\u001b[0;34m\u001b[0m\u001b[0m\n\u001b[0;32m----> 4\u001b[0;31m     \u001b[0mprint\u001b[0m\u001b[0;34m(\u001b[0m\u001b[0mi\u001b[0m\u001b[0;34m,\u001b[0m \u001b[0mnames\u001b[0m\u001b[0;34m[\u001b[0m\u001b[0mi\u001b[0m\u001b[0;34m]\u001b[0m\u001b[0;34m)\u001b[0m\u001b[0;34m\u001b[0m\u001b[0;34m\u001b[0m\u001b[0m\n\u001b[0m",
            "\u001b[0;31mIndexError\u001b[0m: list index out of range"
          ]
        }
      ],
      "source": [
        "names = [\"Pedro\", \"Mariano\", \"Jose Luis\"]\n",
        "\n",
        "for i in range(4):\n",
        "    print(i, names[i])"
      ]
    },
    {
      "cell_type": "markdown",
      "metadata": {
        "id": "bN-ActKojmHo"
      },
      "source": [
        "Es por ello que se recomienda dejar el código lo más \"en automático\" posible. Poner en el range la longitud del iterable no es una buena práctica, ¿Y si mañana el iterable tiene menos nombres? saltará error. ¿Y si tiene más? No los tendremos en cuenta en el for. Por ello es mejor usar `len`."
      ]
    },
    {
      "cell_type": "markdown",
      "metadata": {
        "id": "EVkUfZabjmHp"
      },
      "source": [
        "## 4. Bucle while\n",
        "Se trata de otra manera de implementar un bucle en programación. Los bucles tienen que ir siempre limitados. En el caso del `for`, le poníamos un número concreto de ejecuciones, según el iterable que estuviésemos recorriendo. Para el `while` es algo diferente. Tiene una **condición de ejecución**, que mientras que se cumpla (`True`), seguirá ejecutando una y otra vez. Por otro lado, el bucle tiene una **variable de ejecucón**, al igual que en el `for`, que se irá actualizando con cada vuelta, y es esa variable la que determina cuándo acaba el bucle.\n",
        "\n",
        "> ```Python\n",
        "> while condición:\n",
        ">     Ejecuta este código mientras se siga cumpliendo la condición\n",
        "> ```"
      ]
    },
    {
      "cell_type": "markdown",
      "metadata": {
        "id": "ibQISzY6jmHq"
      },
      "source": [
        "**Cuidado** con estos bucles ya que es muy fácil olvidarnos de actualiza la variable de ejecución, o equivocarnos en la condición de ejecución. Si esto ocurre el código se quedará corriendo hasta que detengamos el kernel (botón *interrupt the kernel*, arriba al lado del Run)\n",
        "\n",
        "Veamos un ejemplo."
      ]
    },
    {
      "cell_type": "code",
      "execution_count": 78,
      "metadata": {
        "id": "x6dh8Sc9jmHq"
      },
      "outputs": [],
      "source": [
        "import time"
      ]
    },
    {
      "cell_type": "code",
      "execution_count": 91,
      "metadata": {
        "colab": {
          "base_uri": "https://localhost:8080/"
        },
        "id": "gyjb3yLIjmHq",
        "outputId": "143eda81-efcf-4968-9cce-f4f63c76bb4f"
      },
      "outputs": [
        {
          "output_type": "stream",
          "name": "stdout",
          "text": [
            "0\n",
            "1\n",
            "2\n",
            "3\n",
            "4\n",
            "5\n",
            "Fin programa\n"
          ]
        }
      ],
      "source": [
        "i = 0\n",
        "\n",
        "while i < 5:\n",
        "    print(i)\n",
        "\n",
        "    i = i + 1 # i += 1\n",
        "\n",
        "    time.sleep(1)\n",
        "\n",
        "print(i)\n",
        "print(\"Fin programa\")"
      ]
    },
    {
      "cell_type": "code",
      "execution_count": 92,
      "metadata": {
        "colab": {
          "base_uri": "https://localhost:8080/",
          "height": 557
        },
        "id": "_nltyMpijmHq",
        "outputId": "727d7a1e-a130-435f-dfd4-81bf4edb0402"
      },
      "outputs": [
        {
          "output_type": "stream",
          "name": "stdout",
          "text": [
            "0\n",
            "0\n",
            "0\n",
            "0\n",
            "0\n",
            "0\n",
            "0\n",
            "0\n",
            "0\n",
            "0\n",
            "0\n",
            "0\n",
            "0\n",
            "0\n",
            "0\n",
            "0\n",
            "0\n",
            "0\n",
            "0\n",
            "0\n"
          ]
        },
        {
          "output_type": "error",
          "ename": "KeyboardInterrupt",
          "evalue": "",
          "traceback": [
            "\u001b[0;31m---------------------------------------------------------------------------\u001b[0m",
            "\u001b[0;31mKeyboardInterrupt\u001b[0m                         Traceback (most recent call last)",
            "\u001b[0;32m<ipython-input-92-bab528e82ec7>\u001b[0m in \u001b[0;36m<cell line: 0>\u001b[0;34m()\u001b[0m\n\u001b[1;32m      3\u001b[0m \u001b[0;32mwhile\u001b[0m \u001b[0mi\u001b[0m \u001b[0;34m<\u001b[0m \u001b[0;36m5\u001b[0m\u001b[0;34m:\u001b[0m\u001b[0;34m\u001b[0m\u001b[0;34m\u001b[0m\u001b[0m\n\u001b[1;32m      4\u001b[0m     \u001b[0mprint\u001b[0m\u001b[0;34m(\u001b[0m\u001b[0mi\u001b[0m\u001b[0;34m)\u001b[0m\u001b[0;34m\u001b[0m\u001b[0;34m\u001b[0m\u001b[0m\n\u001b[0;32m----> 5\u001b[0;31m     \u001b[0mtime\u001b[0m\u001b[0;34m.\u001b[0m\u001b[0msleep\u001b[0m\u001b[0;34m(\u001b[0m\u001b[0;36m2\u001b[0m\u001b[0;34m)\u001b[0m\u001b[0;34m\u001b[0m\u001b[0;34m\u001b[0m\u001b[0m\n\u001b[0m\u001b[1;32m      6\u001b[0m \u001b[0;34m\u001b[0m\u001b[0m\n\u001b[1;32m      7\u001b[0m \u001b[0mprint\u001b[0m\u001b[0;34m(\u001b[0m\u001b[0;34m\"Fin programa\"\u001b[0m\u001b[0;34m)\u001b[0m\u001b[0;34m\u001b[0m\u001b[0;34m\u001b[0m\u001b[0m\n",
            "\u001b[0;31mKeyboardInterrupt\u001b[0m: "
          ]
        }
      ],
      "source": [
        "i = 0\n",
        "\n",
        "while i < 5:\n",
        "    print(i)\n",
        "    time.sleep(2)\n",
        "\n",
        "print(\"Fin programa\")"
      ]
    },
    {
      "cell_type": "markdown",
      "metadata": {
        "id": "tq2s50xYjmHq"
      },
      "source": [
        "La manera más habitual de implementar estos bucles es:\n",
        "1. Declaro la **variable de ejecución fuera del bucle**\n",
        "2. Establezco una **condición de ejecución** para determinar cuándo queremos que se pare el bucle.\n",
        "3. **Actualizo la variable de ejecución** en cada iteración del bucle.\n"
      ]
    },
    {
      "cell_type": "markdown",
      "metadata": {
        "id": "trrFBgTgjmHq"
      },
      "source": [
        "<table align=\"left\">\n",
        " <tr><td width=\"80\"><img src=\"./img/ejercicio.png\" style=\"width:auto;height:auto\"></td>\n",
        "     <td style=\"text-align:left\">\n",
        "         <h3>Ejercicio bucle while</h3>\n",
        "\n",
        "Mediante un bucle while, calcula cuántas veces deberíamos doblar un folio de papel para alcanzar un grosor de 5 metros, considerando el grosor del folio de 1 milímetro\n",
        "         \n",
        " </td></tr>\n",
        "</table>"
      ]
    },
    {
      "cell_type": "code",
      "execution_count": 93,
      "metadata": {
        "colab": {
          "base_uri": "https://localhost:8080/"
        },
        "id": "VD2Jjko_jmHq",
        "outputId": "364edbac-f78d-4cc8-982e-0d057da98684"
      },
      "outputs": [
        {
          "output_type": "stream",
          "name": "stdout",
          "text": [
            "grosor 2\n",
            "dobles 1\n",
            "grosor 4\n",
            "dobles 2\n",
            "grosor 8\n",
            "dobles 3\n",
            "grosor 16\n",
            "dobles 4\n",
            "grosor 32\n",
            "dobles 5\n",
            "grosor 64\n",
            "dobles 6\n",
            "grosor 128\n",
            "dobles 7\n",
            "grosor 256\n",
            "dobles 8\n",
            "grosor 512\n",
            "dobles 9\n",
            "grosor 1024\n",
            "dobles 10\n",
            "grosor 2048\n",
            "dobles 11\n",
            "grosor 4096\n",
            "dobles 12\n",
            "grosor 8192\n",
            "dobles 13\n",
            "Terminado, el nº de veces que hemos doblado ha sido de 13 y el grosor total alcanzado es de 8192\n"
          ]
        }
      ],
      "source": [
        "grosor = 1\n",
        "dobles = 0\n",
        "\n",
        "while grosor < 5000:\n",
        "    grosor = grosor * 2\n",
        "    dobles = dobles + 1\n",
        "    print('grosor', grosor)\n",
        "    print('dobles', dobles)\n",
        "    time.sleep(1)\n",
        "\n",
        "print(\"Terminado, el nº de veces que hemos doblado ha sido de\", dobles, \"y el grosor total alcanzado es de\", grosor)"
      ]
    },
    {
      "cell_type": "markdown",
      "metadata": {
        "id": "hWGBMN2QjmHr"
      },
      "source": [
        "## 5. Break/continue\n",
        "Son dos sentencias que podemo usar dentro de los bucles para evitar ejecutar código de más.\n",
        "\n",
        "### Break\n",
        "Se usa cuando queremos salir del bucle forzadamente. Imagina que eres una tienda y estás buscando con un for si al menos uno de los pedidos era un abrigo. Si has tenido 1000 pedidos, vas a tener que iterar sobre todos y mediante un `if`, comprobar si es un abrigo. Ahora bien, si el abrigo es el primer elemento de la lista, el `for` va a recorrer igualmente los otros 999 elementos, cuando no es necesario. Con un `break` podremos salirnos del bucle y continuar con el programa."
      ]
    },
    {
      "cell_type": "code",
      "execution_count": 94,
      "metadata": {
        "id": "wjv1vJamjmHr",
        "outputId": "e45c0b68-1e2c-4e15-9e29-1839199b9b24",
        "colab": {
          "base_uri": "https://localhost:8080/"
        }
      },
      "outputs": [
        {
          "output_type": "stream",
          "name": "stdout",
          "text": [
            "1\n",
            "2\n",
            "3\n"
          ]
        }
      ],
      "source": [
        "for i in [1,2,3,4]:\n",
        "    print(i)\n",
        "    if i > 2:\n",
        "        break\n"
      ]
    },
    {
      "cell_type": "code",
      "execution_count": 95,
      "metadata": {
        "id": "vZ-1Kyp3jmHr",
        "outputId": "88f81ac7-3d0e-462f-cfab-d7b3bf5c18e0",
        "colab": {
          "base_uri": "https://localhost:8080/"
        }
      },
      "outputs": [
        {
          "output_type": "stream",
          "name": "stdout",
          "text": [
            "s\n",
            "t\n",
            "r\n",
            "Fin\n"
          ]
        }
      ],
      "source": [
        "for val in \"string\":\n",
        "    if val == \"i\":\n",
        "        break\n",
        "\n",
        "    print(val)\n",
        "\n",
        "print(\"Fin\")"
      ]
    },
    {
      "cell_type": "markdown",
      "metadata": {
        "id": "DGwbiP3qjmHr"
      },
      "source": [
        "### Continue\n",
        "Esta sentencia se usa dentro de un bucle para indicarle que continue con el siguiente elemento del iterable. Al igual que con el `break`, nos sirve para evitar que se ejecute código de más. Volviendo al ejemplo anterior, si después de comprobar que tenemos un abrigo, hay 200 líneas más de código que se utiliza en otros casos, con un `continue` evitamos que se ejecute todo eso, hacemos lo que tengamos que hacer con el abrigo, y le decimos al bucle que pase al siguiente elemento, e ignore el resto del código.\n"
      ]
    },
    {
      "cell_type": "code",
      "execution_count": 96,
      "metadata": {
        "id": "2HdqO2gtjmHr",
        "outputId": "465719d0-0604-49e7-da8d-7b8f8036920e",
        "colab": {
          "base_uri": "https://localhost:8080/"
        }
      },
      "outputs": [
        {
          "output_type": "stream",
          "name": "stdout",
          "text": [
            "s\n",
            "t\n",
            "r\n",
            "n\n",
            "g\n",
            "Fin\n"
          ]
        }
      ],
      "source": [
        "for val in \"string\":\n",
        "    if val == \"i\":\n",
        "        continue\n",
        "        # print(\"hola\")\n",
        "\n",
        "    print(val)\n",
        "\n",
        "\n",
        "print(\"Fin\")"
      ]
    },
    {
      "cell_type": "markdown",
      "metadata": {
        "id": "ugenppN9jmHs"
      },
      "source": [
        "**Los bucles `for` y `while`, así como `break` y `continue`, son sentencias complicadas de entender, y si es la primera vez que programas te va a suponer un cambio en la manera de pensar y de solucionar problemas, por ello te recomiendo que cojas papel y boli y hagas los primeros ejercicios de bucles viendo las iteraciones una a una y calculando manualmente todas las opeaciones de dentro del bucle.**"
      ]
    },
    {
      "cell_type": "markdown",
      "metadata": {
        "id": "UJBUnYpYjmHs"
      },
      "source": [
        "## 6. Try/except\n",
        "¿Qué ocurre cuando hay un error en nuestro código? Se para toda la ejecución. Por muy buenos programadores que seamos, hay que contar siempre con que puede haber errores. Podemos llegar a controlarlos con sentencias `if/else`, por ejemplo si no sabemos muy bien los tipos de los datos, `if type(data) == float:` haces algo con floats, `else` haces otra cosa con otro tipo de datos, pero lo mejor es usar `try/except`.\n",
        "\n",
        "Ahora bien, si intuimos que el comportamiento de nuestro código puede ser algo impredecible, en programación podemos usar las sentencias `try/except` para capturar ese error, tomar decisiones, y que el código pueda continuar ejecutándose.\n",
        "\n",
        "La sintaxis es la siguiente:\n",
        "\n",
        "> ```Python\n",
        "> try:\n",
        ">     Código que puede contener errores\n",
        "> except:\n",
        ">     Qué hacer si nos encontramos con un error\n",
        "> ```"
      ]
    },
    {
      "cell_type": "code",
      "execution_count": 97,
      "metadata": {
        "id": "Kdd5wwPPjmHs",
        "outputId": "a8d9b9c8-54c8-4bc6-9ceb-1fc2518713f2",
        "colab": {
          "base_uri": "https://localhost:8080/",
          "height": 158
        }
      },
      "outputs": [
        {
          "output_type": "error",
          "ename": "NameError",
          "evalue": "name 'variable_' is not defined",
          "traceback": [
            "\u001b[0;31m---------------------------------------------------------------------------\u001b[0m",
            "\u001b[0;31mNameError\u001b[0m                                 Traceback (most recent call last)",
            "\u001b[0;32m<ipython-input-97-e83e41f6d855>\u001b[0m in \u001b[0;36m<cell line: 0>\u001b[0;34m()\u001b[0m\n\u001b[0;32m----> 1\u001b[0;31m \u001b[0mprint\u001b[0m\u001b[0;34m(\u001b[0m\u001b[0mvariable_\u001b[0m\u001b[0;34m)\u001b[0m\u001b[0;34m\u001b[0m\u001b[0;34m\u001b[0m\u001b[0m\n\u001b[0m\u001b[1;32m      2\u001b[0m \u001b[0mprint\u001b[0m\u001b[0;34m(\u001b[0m\u001b[0;34m\"AAA\"\u001b[0m\u001b[0;34m)\u001b[0m\u001b[0;34m\u001b[0m\u001b[0;34m\u001b[0m\u001b[0m\n",
            "\u001b[0;31mNameError\u001b[0m: name 'variable_' is not defined"
          ]
        }
      ],
      "source": [
        "print(variable_)\n",
        "print(\"AAA\")"
      ]
    },
    {
      "cell_type": "code",
      "execution_count": 98,
      "metadata": {
        "colab": {
          "base_uri": "https://localhost:8080/"
        },
        "id": "ggfQSYGujmHs",
        "outputId": "fd29972e-0499-44d2-e2b8-11a33848bf47"
      },
      "outputs": [
        {
          "output_type": "stream",
          "name": "stdout",
          "text": [
            "El codigo tiene errores\n",
            "Se ejecuta igualmente\n",
            "AAA\n"
          ]
        }
      ],
      "source": [
        "try:\n",
        "    print(variable_)\n",
        "except :\n",
        "    print(\"El codigo tiene errores\")\n",
        "    print(\"Se ejecuta igualmente\")\n",
        "\n",
        "print(\"AAA\")"
      ]
    },
    {
      "cell_type": "code",
      "execution_count": 99,
      "metadata": {
        "colab": {
          "base_uri": "https://localhost:8080/",
          "height": 176
        },
        "id": "fvBjwDjsjmHt",
        "outputId": "61faee08-f230-47cb-e97d-d0e818eb7cae"
      },
      "outputs": [
        {
          "output_type": "error",
          "ename": "IndexError",
          "evalue": "list index out of range",
          "traceback": [
            "\u001b[0;31m---------------------------------------------------------------------------\u001b[0m",
            "\u001b[0;31mIndexError\u001b[0m                                Traceback (most recent call last)",
            "\u001b[0;32m<ipython-input-99-fd343718116b>\u001b[0m in \u001b[0;36m<cell line: 0>\u001b[0;34m()\u001b[0m\n\u001b[1;32m      1\u001b[0m \u001b[0mlista\u001b[0m \u001b[0;34m=\u001b[0m \u001b[0;34m[\u001b[0m\u001b[0;36m1\u001b[0m\u001b[0;34m,\u001b[0m\u001b[0;36m2\u001b[0m\u001b[0;34m,\u001b[0m\u001b[0;36m3\u001b[0m\u001b[0;34m]\u001b[0m\u001b[0;34m\u001b[0m\u001b[0;34m\u001b[0m\u001b[0m\n\u001b[0;32m----> 2\u001b[0;31m \u001b[0mprint\u001b[0m\u001b[0;34m(\u001b[0m\u001b[0mlista\u001b[0m\u001b[0;34m[\u001b[0m\u001b[0;36m5\u001b[0m\u001b[0;34m]\u001b[0m\u001b[0;34m)\u001b[0m\u001b[0;34m\u001b[0m\u001b[0;34m\u001b[0m\u001b[0m\n\u001b[0m\u001b[1;32m      3\u001b[0m \u001b[0mprint\u001b[0m\u001b[0;34m(\u001b[0m\u001b[0;34m\"Hola mundo\"\u001b[0m\u001b[0;34m)\u001b[0m\u001b[0;34m\u001b[0m\u001b[0;34m\u001b[0m\u001b[0m\n",
            "\u001b[0;31mIndexError\u001b[0m: list index out of range"
          ]
        }
      ],
      "source": [
        "lista = [1,2,3]\n",
        "print(lista[5])\n",
        "print(\"Hola mundo\")"
      ]
    },
    {
      "cell_type": "code",
      "execution_count": 101,
      "metadata": {
        "colab": {
          "base_uri": "https://localhost:8080/"
        },
        "id": "FoM-B8tojmHt",
        "outputId": "8157a982-d4d9-4382-b0f3-778aa9ef11e4"
      },
      "outputs": [
        {
          "output_type": "stream",
          "name": "stdout",
          "text": [
            "list index out of range\n",
            "AAA\n",
            "BBB\n"
          ]
        }
      ],
      "source": [
        "lista = [1,2,3]\n",
        "\n",
        "try:\n",
        "    print(lista[5])\n",
        "except Exception as e:\n",
        "    print(e)\n",
        "    print('AAA')\n",
        "print('BBB')"
      ]
    },
    {
      "cell_type": "markdown",
      "metadata": {
        "id": "bM1uqcy1jmHt"
      },
      "source": [
        "Hay un error en el código, pero no para el programa.\n",
        "\n",
        "Podemos ser un poco más específicos con los errores, y en función del tipo de error que nos de, tomaremos diferentes caminos"
      ]
    },
    {
      "cell_type": "markdown",
      "metadata": {
        "id": "RpUAahhAjmHt"
      },
      "source": [
        "## 7. Resumen"
      ]
    },
    {
      "cell_type": "code",
      "execution_count": 102,
      "metadata": {
        "id": "CFY3qzVRjmHt",
        "outputId": "be2bddc1-0960-4b0e-e212-be4bccf9a336",
        "colab": {
          "base_uri": "https://localhost:8080/"
        }
      },
      "outputs": [
        {
          "output_type": "stream",
          "name": "stdout",
          "text": [
            "Notable\n",
            "Lunes\n",
            "Martes\n",
            "Miércoles\n",
            "Jueves\n",
            "Viernes\n",
            "Sábado\n",
            "Domingo\n",
            "0\n",
            "1\n",
            "2\n",
            "3\n",
            "4\n",
            "s\n",
            "t\n",
            "r\n",
            "Fin\n",
            "El codigo tiene errores porque la variable 'variable_' no existe\n",
            "Continuo con el programa\n"
          ]
        }
      ],
      "source": [
        "# If/elif/else\n",
        "mi_nota_de_examen = 7\n",
        "\n",
        "if mi_nota_de_examen < 5 :\n",
        "    print(\"A septiembre :(\")\n",
        "\n",
        "elif mi_nota_de_examen < 6 :\n",
        "    print(\"Suficiente\")\n",
        "\n",
        "elif mi_nota_de_examen < 7 :\n",
        "    print(\"Bien\")\n",
        "\n",
        "elif mi_nota_de_examen < 9 :\n",
        "    print(\"Notable\")\n",
        "\n",
        "else:\n",
        "    print(\"Sobresaliente\")\n",
        "\n",
        "\n",
        "# Bucle for\n",
        "dias_semana = [\"Lunes\", \"Martes\", \"Miércoles\", \"Jueves\", \"Viernes\", \"Sábado\", \"Domingo\"]\n",
        "\n",
        "for dia in dias_semana:\n",
        "    print(dia)\n",
        "\n",
        "\n",
        "# Bucle while\n",
        "i = 0\n",
        "\n",
        "while(i < 5):\n",
        "    print(i)\n",
        "    i = i + 1\n",
        "\n",
        "\n",
        "# Break y continue\n",
        "for val in \"string\":\n",
        "    if val == \"i\":\n",
        "        break\n",
        "    print(val)\n",
        "\n",
        "print(\"Fin\")\n",
        "\n",
        "\n",
        "# Try/except\n",
        "try:\n",
        "  print(variable_)\n",
        "except:\n",
        "  print(\"El codigo tiene errores porque la variable 'variable_' no existe\")\n",
        "\n",
        "print(\"Continuo con el programa\")"
      ]
    }
  ],
  "metadata": {
    "kernelspec": {
      "display_name": "Python 3.7.4 64-bit",
      "language": "python",
      "name": "python3"
    },
    "language_info": {
      "codemirror_mode": {
        "name": "ipython",
        "version": 3
      },
      "file_extension": ".py",
      "mimetype": "text/x-python",
      "name": "python",
      "nbconvert_exporter": "python",
      "pygments_lexer": "ipython3",
      "version": "3.11.3"
    },
    "vscode": {
      "interpreter": {
        "hash": "90139cb9a825bf3d63f6f6704e828dbd1ff7edbd4d0c6e906a71235d6efc74af"
      }
    },
    "colab": {
      "provenance": [],
      "include_colab_link": true
    }
  },
  "nbformat": 4,
  "nbformat_minor": 0
}