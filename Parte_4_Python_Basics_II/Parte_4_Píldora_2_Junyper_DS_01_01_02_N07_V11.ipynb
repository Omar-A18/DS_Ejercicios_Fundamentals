{
  "cells": [
    {
      "cell_type": "markdown",
      "metadata": {
        "id": "view-in-github",
        "colab_type": "text"
      },
      "source": [
        "<a href=\"https://colab.research.google.com/github/Omar-A18/DS_Ejercicios_Fundamentals/blob/main/Parte_4_P%C3%ADldora_2_Junyper_DS_01_01_02_N07_V11.ipynb\" target=\"_parent\"><img src=\"https://colab.research.google.com/assets/colab-badge.svg\" alt=\"Open In Colab\"/></a>"
      ]
    },
    {
      "cell_type": "markdown",
      "metadata": {
        "id": "X-DNC9uJXx21"
      },
      "source": [
        "<img src = \"./img/TheBridge_logo_RGB_color.jpg\" width = 500><img src = \"./img/python.jpg\" width = 500>"
      ]
    },
    {
      "cell_type": "markdown",
      "metadata": {
        "id": "s9YILbMrXx24"
      },
      "source": [
        "# Python Basics I"
      ]
    },
    {
      "cell_type": "markdown",
      "metadata": {
        "id": "1MzQ4nIvXx25"
      },
      "source": [
        "## Contenidos"
      ]
    },
    {
      "cell_type": "markdown",
      "metadata": {
        "id": "2GoQJx2zXx25"
      },
      "source": [
        "* [Funciones (I): *Built in*\n",
        "](#Funciones-(I):-*Built-in*\n",
        ")\n",
        "* [Métodos\n",
        "](#Métodos\n",
        ")\n"
      ]
    },
    {
      "cell_type": "markdown",
      "metadata": {
        "id": "g7CkZgMJXx26"
      },
      "source": [
        "## Funciones (I): *Built in*\n",
        "[al indice](#Contenidos)  \n",
        "\n",
        "Hay una serie de funciones internas, que vienen en el intérprete de Python. Algunas de las más comunes son:\n",
        "* **Tipos**: `bool()`, `str()`, `int()`, `float()`\n",
        "* **Min/Max**: `min()`, `max()`\n",
        "* **print()**\n",
        "* **type()**\n",
        "* **range()**\n",
        "* **zip()**\n",
        "* **len()**\n",
        "* ...\n",
        "\n",
        "La sintaxis de la función es:\n",
        "\n",
        "```Python\n",
        "nombre_funcion(argumentos)\n",
        "```\n",
        "\n",
        "Algunas ya las hemos visto. Sin embargo, hay unas cuantas que las iremos descubriendo a lo largo de estos notebooks. Para más detalle, tienes [aquí](https://docs.python.org/3/library/functions.html) todas las funciones *built-in* de la documentación.\n",
        "\n",
        "De momento, en lo que se refiere a funciones, vamos a ir trabajando con funciones ya hechas, pero más adelante crearemos nuestras propias funciones."
      ]
    },
    {
      "cell_type": "code",
      "execution_count": 19,
      "metadata": {
        "id": "HKsNFl76Xx27",
        "colab": {
          "base_uri": "https://localhost:8080/"
        },
        "outputId": "0f7747ff-afa7-4865-c385-5c58ea6b145e"
      },
      "outputs": [
        {
          "output_type": "stream",
          "name": "stdout",
          "text": [
            "33\n",
            "99\n"
          ]
        }
      ],
      "source": [
        "# Len se usa para calcular la longitud de una variable. Ya veras que lo usaremos mucho en colecciones\n",
        "print(len(\"Esto es una cadena de longitud...\"))\n",
        "\n",
        "\n",
        "# Funcion max. Tiene tantos argumentos como cantidad de números entre los cuales queramos sacar su valor máximo.\n",
        "print(max(1,23,54,43,99,5))\n"
      ]
    },
    {
      "cell_type": "code",
      "source": [
        "cadena = \"Esto es una cadena de longitud...\"\n",
        "print(cadena, len(cadena),\"y no es un float\", sep = \"**test**\", end = \"__\")\n",
        "print(\"Esto va en otra linea\")"
      ],
      "metadata": {
        "colab": {
          "base_uri": "https://localhost:8080/"
        },
        "id": "jJFpq_9CKLTZ",
        "outputId": "f7e0a28d-075a-4945-a03d-d8d3a994e385"
      },
      "execution_count": 14,
      "outputs": [
        {
          "output_type": "stream",
          "name": "stdout",
          "text": [
            "Esto es una cadena de longitud...**test**33**test**y no es un float__Esto va en otra linea\n"
          ]
        }
      ]
    },
    {
      "cell_type": "code",
      "source": [],
      "metadata": {
        "id": "DaKBR2TgKM9y"
      },
      "execution_count": 20,
      "outputs": []
    },
    {
      "cell_type": "markdown",
      "metadata": {
        "id": "TUOq5sXJXx28"
      },
      "source": [
        "## Métodos\n",
        "[al indice](#Contenidos)  \n",
        "\n",
        "Se trata de una propiedad MUY utilizada en programación. Son funciones propias de las variables/objetos, y que nos permiten modificarlos u obtener más información de los mismos. Dependiendo del tipo de objeto, tendremos unos métodos disponibles diferentes.\n",
        "\n",
        "Para usar un método se usa la sintaxis `objeto.metodo()`. Ponemos un punto entre el nombre del objeto y el del metodo, y unos paréntesis por si el método necesita de algunos argumentos. **Aunque no necesite de argumentos, los paréntesis hay que ponerlos igualmente.**\n",
        "\n",
        "Veamos algunos ejemplos\n",
        "\n",
        "### String\n",
        "Una variable de tipo string, tiene una serie de métodos que permiten sacarle jugo a la cadena de texto. [Aquí](https://docs.python.org/2.5/lib/string-methods.html) tienes todos los métodos que podemos usar en cadenas de texto"
      ]
    },
    {
      "cell_type": "code",
      "execution_count": 36,
      "metadata": {
        "id": "IGS6Ec5yXx28",
        "colab": {
          "base_uri": "https://localhost:8080/"
        },
        "outputId": "d81e2b24-5e45-488e-d9a3-fd00e20682ed"
      },
      "outputs": [
        {
          "output_type": "stream",
          "name": "stdout",
          "text": [
            "STRING EN MINUSCULAS\n",
            "esto es un ejemplo diferente\n",
            "esto es un ejemplo diferente\n",
            "ctring en minucculac\n",
            "string en minúsculas\n",
            "tring en minucula\n",
            "['Esto', 'se', 'va', 'a', 'convertir', 'en', 'una', 'lsita', 'de', 'strings']\n",
            "10\n"
          ]
        }
      ],
      "source": [
        "string_ejemplo = \"string en minusculas\" # noqa\n",
        "\n",
        "# Metodo para poner un string todo en mayúsculas\n",
        "print(string_ejemplo.upper())\n",
        "\n",
        "# Metodo para poner un string todo en minusculas\n",
        "print(\"ESTO ES UN EJEMPLO DIFERENTE\".lower())\n",
        "stirng_ejemplo_2 = \"ESTO ES UN EJEMPLO DIFERENTE\"\n",
        "print(stirng_ejemplo_2.lower())\n",
        "\n",
        "# Metodo para reemplazar algún carácter o varios\n",
        "print(string_ejemplo.replace(\"s\", \"c\"))\n",
        "print(string_ejemplo.replace(\"minusculas\", \"minúsculas\"))\n",
        "print(string_ejemplo.replace(\"s\", \"\"))\n",
        "\n",
        "# Método para convertir un string en una lista\n",
        "print(\"Esto se va a convertir en una lsita de strings\".split(\" \"))\n",
        "\n",
        "# Método para conocer la posición dentro de un string\n",
        "print(string_ejemplo.index(\"m\"))"
      ]
    },
    {
      "cell_type": "code",
      "execution_count": null,
      "metadata": {
        "id": "FTE_M67tXx28"
      },
      "outputs": [],
      "source": []
    },
    {
      "cell_type": "markdown",
      "metadata": {
        "id": "nVlqQ5hyXx29"
      },
      "source": [
        "Como ves, se pueden hacer muchas cosas en los Strings gracias a sus métodos. Ya verás cómo la cosa se pone más interesante cuando los tipos de los datos sean todavía más complejos.\n",
        "\n",
        "Los métodos son una manera de abstraernos de cierta operativa. Convertir todos los caracteres de una cadena a minuscula, puede ser un poco tedioso si no existiese el método `lower()`. Tendríamos que acudir a bucles o programación funcional."
      ]
    },
    {
      "cell_type": "markdown",
      "metadata": {
        "id": "wK1ciYBLXx29"
      },
      "source": [
        "<table align=\"left\">\n",
        " <tr><td width=\"80\"><img src=\"./img/error.png\" style=\"width:auto;height:auto\"></td>\n",
        "     <td style=\"text-align:left\">\n",
        "         <h3>ERRORES en métodos</h3>\n",
        "         \n",
        " </td></tr>\n",
        "</table>"
      ]
    },
    {
      "cell_type": "code",
      "execution_count": 38,
      "metadata": {
        "scrolled": true,
        "id": "nvEv1If-Xx29",
        "colab": {
          "base_uri": "https://localhost:8080/",
          "height": 158
        },
        "outputId": "d176b591-10fd-498e-f2a9-b857ebf458ef"
      },
      "outputs": [
        {
          "output_type": "error",
          "ename": "TypeError",
          "evalue": "replace expected at least 2 arguments, got 1",
          "traceback": [
            "\u001b[0;31m---------------------------------------------------------------------------\u001b[0m",
            "\u001b[0;31mTypeError\u001b[0m                                 Traceback (most recent call last)",
            "\u001b[0;32m<ipython-input-38-7eddc14a0bb7>\u001b[0m in \u001b[0;36m<cell line: 0>\u001b[0;34m()\u001b[0m\n\u001b[1;32m      1\u001b[0m \u001b[0;31m# Cuando un método necesita ciertos argumentos, y no se los proporcionamos\u001b[0m\u001b[0;34m\u001b[0m\u001b[0;34m\u001b[0m\u001b[0m\n\u001b[0;32m----> 2\u001b[0;31m \u001b[0mstring_ejemplo\u001b[0m\u001b[0;34m.\u001b[0m\u001b[0mreplace\u001b[0m\u001b[0;34m(\u001b[0m\u001b[0;34m\",\"\u001b[0m\u001b[0;34m)\u001b[0m\u001b[0;34m\u001b[0m\u001b[0;34m\u001b[0m\u001b[0m\n\u001b[0m",
            "\u001b[0;31mTypeError\u001b[0m: replace expected at least 2 arguments, got 1"
          ]
        }
      ],
      "source": [
        "# Cuando un método necesita ciertos argumentos, y no se los proporcionamos\n",
        "string_ejemplo.replace(\",\")"
      ]
    },
    {
      "cell_type": "code",
      "execution_count": null,
      "metadata": {
        "id": "DBcbV9eZXx2-"
      },
      "outputs": [],
      "source": []
    },
    {
      "cell_type": "code",
      "execution_count": null,
      "metadata": {
        "id": "jynhoJuJXx2-"
      },
      "outputs": [],
      "source": []
    }
  ],
  "nbformat": 4,
  "nbformat_minor": 0,
  "metadata": {
    "kernelspec": {
      "display_name": "Python 3",
      "language": "python",
      "name": "python3"
    },
    "language_info": {
      "codemirror_mode": {
        "name": "ipython",
        "version": 3
      },
      "file_extension": ".py",
      "mimetype": "text/x-python",
      "name": "python",
      "nbconvert_exporter": "python",
      "pygments_lexer": "ipython3",
      "version": "3.8.3"
    },
    "colab": {
      "provenance": [],
      "include_colab_link": true
    }
  }
}
