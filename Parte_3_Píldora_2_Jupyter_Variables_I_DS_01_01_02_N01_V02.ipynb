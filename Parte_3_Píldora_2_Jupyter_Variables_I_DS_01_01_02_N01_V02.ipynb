{
  "cells": [
    {
      "cell_type": "markdown",
      "metadata": {
        "id": "view-in-github",
        "colab_type": "text"
      },
      "source": [
        "<a href=\"https://colab.research.google.com/github/Omar-A18/ONLINE_DS_THEBRIDGE_repo_example_1/blob/main/Parte_3_P%C3%ADldora_2_Jupyter_Variables_I_DS_01_01_02_N01_V02.ipynb\" target=\"_parent\"><img src=\"https://colab.research.google.com/assets/colab-badge.svg\" alt=\"Open In Colab\"/></a>"
      ]
    },
    {
      "cell_type": "markdown",
      "metadata": {
        "id": "t9k24ilStE3l"
      },
      "source": [
        "<img src=\"./img/TheBridge_logo_RGB_color.jpg\" width = 250>\n",
        "<img src=\"./img/python.jpg\" width = 250>"
      ]
    },
    {
      "cell_type": "markdown",
      "metadata": {
        "id": "3rV0f2u_tE3q"
      },
      "source": [
        "# Python Basics I: Variables\n",
        "\n",
        "\n",
        "Bienvenido a tu primer asalto con Python. Empezamos nuestra aventura declarando variables.\n",
        "\n",
        "Las variables son una manera de etiquetar y conservar los datos del programa para luego poder emplearlos en diferentes sitios."
      ]
    },
    {
      "cell_type": "markdown",
      "metadata": {
        "id": "MwBP-A48tE3r"
      },
      "source": [
        "## Contenidos"
      ]
    },
    {
      "cell_type": "markdown",
      "metadata": {
        "id": "YxEl7TqRtE3s"
      },
      "source": [
        "* [Variables numéricas\n",
        "](#Variables-numéricas\n",
        ")\n",
        "* [Cadenas de texto\n",
        "](#Cadenas-de-texto\n",
        ")\n",
        "* [Escribir mal el nombre\n",
        "](#Escribir-mal-el-nombre\n",
        ")\n",
        "* [Cerrar bien los strings\n",
        "](#Cerrar-bien-los-strings\n",
        ")\n",
        "* [Prohibido espacios en los nombres de las variables\n",
        "](#Prohibido-espacios-en-los-nombres-de-las-variables\n",
        ")\n",
        "* [Números en el nombre de la variable\n",
        "](#Números-en-el-nombre-de-la-variable\n",
        ")\n",
        "* [Sensible a mayusculas\n",
        "](#Sensible-a-mayusculas\n",
        ")\n",
        "* [Palabras reservadas\n",
        "](#Palabras-reservadas\n",
        ")\n",
        "* [Resumen variables\n",
        "](#Resumen-variables\n",
        ")\n"
      ]
    },
    {
      "cell_type": "markdown",
      "metadata": {
        "id": "cYafgflItE3t"
      },
      "source": [
        "### Variables numéricas\n",
        "[al indice](#Contenidos)\n",
        "\n"
      ]
    },
    {
      "cell_type": "code",
      "execution_count": 1,
      "metadata": {
        "id": "MtQbDAoPtE3u"
      },
      "outputs": [],
      "source": [
        "ingresos = 1000\n",
        "gastos = 400"
      ]
    },
    {
      "cell_type": "markdown",
      "metadata": {
        "id": "hQhUdzk5tE3v"
      },
      "source": [
        "**Esto es una asignación**. A la palabra *ingresos*, le asignamos un valor mediante `=`.\n",
        "Si queremos ver el valor de la variable, simplemente escribimos su nombre en una celda."
      ]
    },
    {
      "cell_type": "code",
      "execution_count": 2,
      "metadata": {
        "id": "YEx19cXYtE3v",
        "outputId": "9972f47f-014b-4f83-f855-599c15b8c4be",
        "colab": {
          "base_uri": "https://localhost:8080/"
        }
      },
      "outputs": [
        {
          "output_type": "execute_result",
          "data": {
            "text/plain": [
              "1000"
            ]
          },
          "metadata": {},
          "execution_count": 2
        }
      ],
      "source": [
        "ingresos\n"
      ]
    },
    {
      "cell_type": "code",
      "execution_count": 3,
      "metadata": {
        "id": "rfE5NpJGtE3w",
        "outputId": "a91b6959-05c6-44fd-c0d6-e2c6a52d1e62",
        "colab": {
          "base_uri": "https://localhost:8080/"
        }
      },
      "outputs": [
        {
          "output_type": "execute_result",
          "data": {
            "text/plain": [
              "400"
            ]
          },
          "metadata": {},
          "execution_count": 3
        }
      ],
      "source": [
        "ingresos\n",
        "gastos"
      ]
    },
    {
      "cell_type": "code",
      "execution_count": 4,
      "metadata": {
        "id": "NVNXRKbhtE3w",
        "outputId": "72a265e4-7b38-437d-c8b5-efb4b8bd1cf7",
        "colab": {
          "base_uri": "https://localhost:8080/"
        }
      },
      "outputs": [
        {
          "output_type": "stream",
          "name": "stdout",
          "text": [
            "1000\n",
            "400\n"
          ]
        }
      ],
      "source": [
        "print(ingresos)\n",
        "print(gastos)"
      ]
    },
    {
      "cell_type": "code",
      "execution_count": 5,
      "metadata": {
        "id": "zw12hwr1tE3w"
      },
      "outputs": [],
      "source": [
        "margen = ingresos - gastos"
      ]
    },
    {
      "cell_type": "code",
      "execution_count": 9,
      "metadata": {
        "id": "CwIqfVA7tE3x",
        "outputId": "47d6fb89-6e4e-49c5-b0f0-6d6b3e9e3a2a",
        "colab": {
          "base_uri": "https://localhost:8080/"
        }
      },
      "outputs": [
        {
          "output_type": "execute_result",
          "data": {
            "text/plain": [
              "600"
            ]
          },
          "metadata": {},
          "execution_count": 9
        }
      ],
      "source": [
        "margen\n"
      ]
    },
    {
      "cell_type": "code",
      "execution_count": 8,
      "metadata": {
        "id": "lA_ydwrdtE3x",
        "outputId": "57a28337-42bf-48f6-cd5c-0ebc3041f3b7",
        "colab": {
          "base_uri": "https://localhost:8080/"
        }
      },
      "outputs": [
        {
          "output_type": "stream",
          "name": "stdout",
          "text": [
            "600\n"
          ]
        }
      ],
      "source": [
        "print(margen)\n"
      ]
    },
    {
      "cell_type": "markdown",
      "metadata": {
        "id": "XPdHX1MdtE3y"
      },
      "source": [
        "### Cadenas de texto\n",
        "[al indice](#Contenidos)\n",
        "\n",
        "Las cadenas de texto se declaran con comillas simples o dobles"
      ]
    },
    {
      "cell_type": "code",
      "execution_count": 10,
      "metadata": {
        "id": "6AvotMWTtE3y",
        "outputId": "0c18b694-8a21-4314-c4a7-33fc81c9aa15",
        "colab": {
          "base_uri": "https://localhost:8080/"
        }
      },
      "outputs": [
        {
          "output_type": "stream",
          "name": "stdout",
          "text": [
            "Los ingresos han sido altos\n",
            "Los ingresos han sido altos\n"
          ]
        }
      ],
      "source": [
        "ingresos_text = \"Los ingresos han sido altos\"\n",
        "ingresos_alt = 'Los ingresos han sido altos'\n",
        "print(ingresos_text)\n",
        "print(ingresos_alt)"
      ]
    },
    {
      "cell_type": "code",
      "execution_count": 13,
      "metadata": {
        "id": "a_YQR4rFtE3z"
      },
      "outputs": [],
      "source": [
        "ingresos_text = \"Los 'ingresos' han sido altos\""
      ]
    },
    {
      "cell_type": "code",
      "execution_count": 12,
      "metadata": {
        "id": "ZH8e1YQatE3z",
        "outputId": "0b8312ca-3dc2-47d2-ce9b-2e72ca5a35c0",
        "colab": {
          "base_uri": "https://localhost:8080/",
          "height": 35
        }
      },
      "outputs": [
        {
          "output_type": "execute_result",
          "data": {
            "text/plain": [
              "'Los ingresos han sido altos'"
            ],
            "application/vnd.google.colaboratory.intrinsic+json": {
              "type": "string"
            }
          },
          "metadata": {},
          "execution_count": 12
        }
      ],
      "source": [
        "ingresos_text"
      ]
    },
    {
      "cell_type": "code",
      "execution_count": 15,
      "metadata": {
        "id": "vWfSjgRutE3z",
        "outputId": "0a4ef539-bf83-473f-9fa8-afdfd38aa25a",
        "colab": {
          "base_uri": "https://localhost:8080/",
          "height": 106
        }
      },
      "outputs": [
        {
          "output_type": "error",
          "ename": "SyntaxError",
          "evalue": "invalid syntax (<ipython-input-15-23eb501d85f2>, line 1)",
          "traceback": [
            "\u001b[0;36m  File \u001b[0;32m\"<ipython-input-15-23eb501d85f2>\"\u001b[0;36m, line \u001b[0;32m1\u001b[0m\n\u001b[0;31m    ingresos_text = \"Los \"ingresos\" han sido altos\"\u001b[0m\n\u001b[0m                          ^\u001b[0m\n\u001b[0;31mSyntaxError\u001b[0m\u001b[0;31m:\u001b[0m invalid syntax\n"
          ]
        }
      ],
      "source": [
        "ingresos_text = \"Los \"ingresos\" han sido altos\""
      ]
    },
    {
      "cell_type": "code",
      "source": [
        "ingresos=1000\n",
        "ingresos = 1000\n",
        "ingresos text = \"Los ingresos han sido altos, pero esto da error\""
      ],
      "metadata": {
        "id": "Q8cMGrHs4KfB",
        "outputId": "545e08dc-1ade-4c63-e327-fb05fe0319f4",
        "colab": {
          "base_uri": "https://localhost:8080/",
          "height": 106
        }
      },
      "execution_count": 18,
      "outputs": [
        {
          "output_type": "error",
          "ename": "SyntaxError",
          "evalue": "invalid syntax (<ipython-input-18-2c92811f13d5>, line 3)",
          "traceback": [
            "\u001b[0;36m  File \u001b[0;32m\"<ipython-input-18-2c92811f13d5>\"\u001b[0;36m, line \u001b[0;32m3\u001b[0m\n\u001b[0;31m    ingresos text = \"Los ingresos han sido altos, pero esto da error\"\u001b[0m\n\u001b[0m             ^\u001b[0m\n\u001b[0;31mSyntaxError\u001b[0m\u001b[0;31m:\u001b[0m invalid syntax\n"
          ]
        }
      ]
    },
    {
      "cell_type": "markdown",
      "metadata": {
        "id": "RMqQkmCjtE30"
      },
      "source": [
        "Python es un lenguaje dinámico por lo que siempre podremos actualizar los valores de las variables. **Se recomienda usar nombres descriptivos para declarar las variables, pero no excesivamente largos**. Así evitamos sobreescribirlas sin querer.\n",
        "\n",
        "Por otro lado, cuidado con los caracteres ele y uno (`l` vs `1`), así como con cero y o (`0` vs `O`). Se suelen confundir.\n",
        "\n",
        "fatal vs fata1\n",
        "\n",
        "clarO vs clar0\n",
        "\n",
        "Reasignamos valor a gastos"
      ]
    },
    {
      "cell_type": "code",
      "execution_count": 19,
      "metadata": {
        "id": "NP-5U4aLtE30"
      },
      "outputs": [],
      "source": [
        "gastos = 200"
      ]
    },
    {
      "cell_type": "code",
      "execution_count": 20,
      "metadata": {
        "id": "1pGee75-tE31",
        "outputId": "3e45af48-765d-4314-c94e-1d32fa228968",
        "colab": {
          "base_uri": "https://localhost:8080/"
        }
      },
      "outputs": [
        {
          "output_type": "stream",
          "name": "stdout",
          "text": [
            "200\n"
          ]
        }
      ],
      "source": [
        "print(gastos)"
      ]
    },
    {
      "cell_type": "markdown",
      "metadata": {
        "id": "xPVtK8jStE31"
      },
      "source": [
        "Ahora la variable gastos vale 200. Si la última línea de una celda es una variable, su valor será el *output* de la celda: 200.\n",
        "\n",
        "Vale, ¿y de qué nos sirve guardar variables?\n",
        "\n",
        "Podremos usar estos datos posteriormente, en otro lugar del programa. Por ejemplo, si ahora en una celda nueva queremos obtener el beneficio, simplemente restamos los nombres de las variables"
      ]
    },
    {
      "cell_type": "code",
      "execution_count": 22,
      "metadata": {
        "id": "8MHi4eFetE31"
      },
      "outputs": [],
      "source": [
        "gastos = 100"
      ]
    },
    {
      "cell_type": "code",
      "execution_count": 24,
      "metadata": {
        "id": "4ltH3iPUtE32"
      },
      "outputs": [],
      "source": [
        "beneficios = ingresos - gastos"
      ]
    },
    {
      "cell_type": "code",
      "source": [
        "print(beneficios)"
      ],
      "metadata": {
        "id": "TaGfRWE85Joh",
        "outputId": "ea9bc5e2-ec34-429b-9668-d6618b360340",
        "colab": {
          "base_uri": "https://localhost:8080/"
        }
      },
      "execution_count": 25,
      "outputs": [
        {
          "output_type": "stream",
          "name": "stdout",
          "text": [
            "900\n"
          ]
        }
      ]
    },
    {
      "cell_type": "markdown",
      "source": [],
      "metadata": {
        "id": "zx8OKUX-5JL3"
      }
    },
    {
      "cell_type": "markdown",
      "metadata": {
        "id": "DB10vsSatE32"
      },
      "source": [
        "<table align=\"left\">\n",
        " <tr><td width=\"80\"><img src=\"img/error.png\" style=\"width:auto;height:auto\"></td>\n",
        "     <td style=\"text-align:left\">\n",
        "         <h3>ERRORES en variables</h3>\n",
        "         \n",
        " </td></tr>\n",
        "</table>"
      ]
    },
    {
      "cell_type": "markdown",
      "metadata": {
        "id": "ZYUauRIatE33"
      },
      "source": [
        "### Escribir mal el nombre\n",
        "[al indice](#Contenidos)\n",
        "\n",
        "Un error típico cuando declaramos variables es **escribir su nombre mal, o llamar despues a la variable de forma errónea**. En tal caso, aparece un `NameError: name 'variable_que_no_existe' is not defined`"
      ]
    },
    {
      "cell_type": "code",
      "execution_count": 26,
      "metadata": {
        "id": "4ZbzHTYwtE33",
        "outputId": "301ee325-683f-44bc-943f-ce5102b54690",
        "colab": {
          "base_uri": "https://localhost:8080/",
          "height": 141
        }
      },
      "outputs": [
        {
          "output_type": "error",
          "ename": "NameError",
          "evalue": "name 'gstos' is not defined",
          "traceback": [
            "\u001b[0;31m---------------------------------------------------------------------------\u001b[0m",
            "\u001b[0;31mNameError\u001b[0m                                 Traceback (most recent call last)",
            "\u001b[0;32m<ipython-input-26-406f5bf58ceb>\u001b[0m in \u001b[0;36m<cell line: 0>\u001b[0;34m()\u001b[0m\n\u001b[0;32m----> 1\u001b[0;31m \u001b[0mgstos\u001b[0m\u001b[0;34m\u001b[0m\u001b[0;34m\u001b[0m\u001b[0m\n\u001b[0m",
            "\u001b[0;31mNameError\u001b[0m: name 'gstos' is not defined"
          ]
        }
      ],
      "source": [
        "gstos"
      ]
    },
    {
      "cell_type": "markdown",
      "metadata": {
        "id": "r2kVKhEutE34"
      },
      "source": [
        "Fíjate que te indica la línea donde se produce el error, el tipo de error (`NameError`), y una breve descripción del error."
      ]
    },
    {
      "cell_type": "markdown",
      "metadata": {
        "id": "ZbioKWXatE35"
      },
      "source": [
        "### Cerrar bien los strings\n",
        "[al indice](#Contenidos)\n",
        "\n",
        "\n",
        "Cuidado tambien cuando definamos una cadena de texto, y se nos olvide cerrarla con sus correspondientes comillas. Nos dará un `SyntaxError: EOL while scanning string literal` (End Of Line)"
      ]
    },
    {
      "cell_type": "code",
      "execution_count": 27,
      "metadata": {
        "id": "EiLxnbnttE35",
        "outputId": "53bb2e45-e327-4157-9082-c838a38c9ab3",
        "colab": {
          "base_uri": "https://localhost:8080/",
          "height": 106
        }
      },
      "outputs": [
        {
          "output_type": "error",
          "ename": "SyntaxError",
          "evalue": "unterminated string literal (detected at line 1) (<ipython-input-27-4b2f05de908f>, line 1)",
          "traceback": [
            "\u001b[0;36m  File \u001b[0;32m\"<ipython-input-27-4b2f05de908f>\"\u001b[0;36m, line \u001b[0;32m1\u001b[0m\n\u001b[0;31m    texto = \"Error sin comillas\u001b[0m\n\u001b[0m            ^\u001b[0m\n\u001b[0;31mSyntaxError\u001b[0m\u001b[0;31m:\u001b[0m unterminated string literal (detected at line 1)\n"
          ]
        }
      ],
      "source": [
        "texto = \"Error sin comillas"
      ]
    },
    {
      "cell_type": "code",
      "execution_count": null,
      "metadata": {
        "id": "7dTv8vvqtE36"
      },
      "outputs": [],
      "source": []
    },
    {
      "cell_type": "markdown",
      "metadata": {
        "id": "9vdLLFPEtE37"
      },
      "source": [
        "### Prohibido espacios en los nombres de las variables\n",
        "[al indice](#Contenidos)\n",
        "\n",
        "\n",
        "También dará error si tenemos un espacio en la declaración de la variable. Se recomienda mínusculas y guiones bajos para simular los espacios.\n",
        "\n",
        "**Los espacios que encuentres alrededor del igual se pueden usar perfectamente**. Es pura estética a la hora de leer el código."
      ]
    },
    {
      "cell_type": "code",
      "execution_count": 32,
      "metadata": {
        "id": "WPjckNTMtE38"
      },
      "outputs": [],
      "source": []
    },
    {
      "cell_type": "code",
      "execution_count": 32,
      "metadata": {
        "id": "_T213ZjhtE38"
      },
      "outputs": [],
      "source": []
    },
    {
      "cell_type": "markdown",
      "metadata": {
        "id": "SQk2oMDztE38"
      },
      "source": [
        "### Números en el nombre de la variable\n",
        "[al indice](#Contenidos)\n",
        "\n",
        "Ojo con los números cuando declaremos variables. En ocasiones es determinante describir nuestra variable con algún número. En tal caso, ponlo siempre al final del nombre de la variable, ya que sino saltará un error."
      ]
    },
    {
      "cell_type": "code",
      "execution_count": 31,
      "metadata": {
        "id": "I5UZ1sQWtE39",
        "outputId": "2c978fde-d036-4abb-b201-9af9e4c844bd",
        "colab": {
          "base_uri": "https://localhost:8080/",
          "height": 106
        }
      },
      "outputs": [
        {
          "output_type": "error",
          "ename": "SyntaxError",
          "evalue": "invalid decimal literal (<ipython-input-31-87fff1b6285c>, line 1)",
          "traceback": [
            "\u001b[0;36m  File \u001b[0;32m\"<ipython-input-31-87fff1b6285c>\"\u001b[0;36m, line \u001b[0;32m1\u001b[0m\n\u001b[0;31m    2009_ingresos\u001b[0m\n\u001b[0m        ^\u001b[0m\n\u001b[0;31mSyntaxError\u001b[0m\u001b[0;31m:\u001b[0m invalid decimal literal\n"
          ]
        }
      ],
      "source": [
        "2009_ingresos"
      ]
    },
    {
      "cell_type": "code",
      "execution_count": 32,
      "metadata": {
        "id": "FdEhMMn_tE39"
      },
      "outputs": [],
      "source": [
        "ingresos_2009 = 25000"
      ]
    },
    {
      "cell_type": "markdown",
      "metadata": {
        "id": "SFaxnvWctE39"
      },
      "source": [
        "### Sensible a mayusculas\n",
        "[al indice](#Contenidos)\n",
        "\n",
        "\n",
        "Mucho cuidado con las mayusculas y minusculas porque Python no las ignora. Si todas las letras de una variable están en mayusculas, tendremos que usarla en mayusculas, sino dará un error de que no encuentra la variable."
      ]
    },
    {
      "cell_type": "code",
      "execution_count": 33,
      "metadata": {
        "id": "gJyO5-VStE3-",
        "outputId": "3161dc73-6bef-4d06-9d77-04f222f98ad6",
        "colab": {
          "base_uri": "https://localhost:8080/",
          "height": 141
        }
      },
      "outputs": [
        {
          "output_type": "error",
          "ename": "NameError",
          "evalue": "name 'Ingresos_2009' is not defined",
          "traceback": [
            "\u001b[0;31m---------------------------------------------------------------------------\u001b[0m",
            "\u001b[0;31mNameError\u001b[0m                                 Traceback (most recent call last)",
            "\u001b[0;32m<ipython-input-33-1a5543b782c9>\u001b[0m in \u001b[0;36m<cell line: 0>\u001b[0;34m()\u001b[0m\n\u001b[0;32m----> 1\u001b[0;31m \u001b[0mprint\u001b[0m\u001b[0;34m(\u001b[0m\u001b[0mIngresos_2009\u001b[0m\u001b[0;34m)\u001b[0m\u001b[0;34m\u001b[0m\u001b[0;34m\u001b[0m\u001b[0m\n\u001b[0m",
            "\u001b[0;31mNameError\u001b[0m: name 'Ingresos_2009' is not defined"
          ]
        }
      ],
      "source": [
        "print(Ingresos_2009)"
      ]
    },
    {
      "cell_type": "code",
      "execution_count": null,
      "metadata": {
        "id": "MfCnT548tE3_"
      },
      "outputs": [],
      "source": []
    },
    {
      "cell_type": "markdown",
      "metadata": {
        "id": "dWZypPVKtE3_"
      },
      "source": [
        "### Palabras reservadas\n",
        "[al indice](#Contenidos)\n",
        "\n",
        "\n",
        "En Python, como en otros lenguajes, hay una serie de palabras reservadas que tienen un significado para el intérprete de Python y por lo tanto no podemos usar para ponerle nombre a nuestras variables.\n",
        "\n",
        "Por ejemplo, `def` se usa para definir funciones en Python (lo veremos en otros notebooks), por lo que no podemos emplear `def` para nombrar a nuestras variables"
      ]
    },
    {
      "cell_type": "code",
      "execution_count": 35,
      "metadata": {
        "id": "oGXjiD6gtE4A",
        "outputId": "ffc6174b-35af-4822-8d0c-b1cc1df3209f",
        "colab": {
          "base_uri": "https://localhost:8080/",
          "height": 106
        }
      },
      "outputs": [
        {
          "output_type": "error",
          "ename": "SyntaxError",
          "evalue": "invalid syntax (<ipython-input-35-62f5cf358967>, line 1)",
          "traceback": [
            "\u001b[0;36m  File \u001b[0;32m\"<ipython-input-35-62f5cf358967>\"\u001b[0;36m, line \u001b[0;32m1\u001b[0m\n\u001b[0;31m    def = 10\u001b[0m\n\u001b[0m        ^\u001b[0m\n\u001b[0;31mSyntaxError\u001b[0m\u001b[0;31m:\u001b[0m invalid syntax\n"
          ]
        }
      ],
      "source": [
        "def = 10"
      ]
    },
    {
      "cell_type": "markdown",
      "metadata": {
        "id": "qoGOB0y0tE4B"
      },
      "source": [
        "Consulta la lista de palabras reservadas de Python"
      ]
    },
    {
      "cell_type": "code",
      "execution_count": 36,
      "metadata": {
        "id": "uOUoeAbvtE4B",
        "outputId": "d1ed2782-66ef-4798-a097-828d0b0d6fba",
        "colab": {
          "base_uri": "https://localhost:8080/"
        }
      },
      "outputs": [
        {
          "output_type": "stream",
          "name": "stdout",
          "text": [
            "['False', 'None', 'True', 'and', 'as', 'assert', 'async', 'await', 'break', 'class', 'continue', 'def', 'del', 'elif', 'else', 'except', 'finally', 'for', 'from', 'global', 'if', 'import', 'in', 'is', 'lambda', 'nonlocal', 'not', 'or', 'pass', 'raise', 'return', 'try', 'while', 'with', 'yield']\n"
          ]
        }
      ],
      "source": [
        "import keyword\n",
        "print(keyword.kwlist)"
      ]
    },
    {
      "cell_type": "code",
      "execution_count": 39,
      "metadata": {
        "id": "iwNSgwQxtE4C",
        "outputId": "ae2b212d-51ff-4dad-c470-7d2c3c478781",
        "colab": {
          "base_uri": "https://localhost:8080/"
        }
      },
      "outputs": [
        {
          "output_type": "stream",
          "name": "stdout",
          "text": [
            "\n",
            "Here is a list of the Python keywords.  Enter any keyword to get more help.\n",
            "\n",
            "False               class               from                or\n",
            "None                continue            global              pass\n",
            "True                def                 if                  raise\n",
            "and                 del                 import              return\n",
            "as                  elif                in                  try\n",
            "assert              else                is                  while\n",
            "async               except              lambda              with\n",
            "await               finally             nonlocal            yield\n",
            "break               for                 not                 \n",
            "\n"
          ]
        }
      ],
      "source": [
        "help(\"keywords\")"
      ]
    },
    {
      "cell_type": "markdown",
      "metadata": {
        "id": "ruqMFYGotE4C"
      },
      "source": [
        "### Resumen variables\n",
        "[al indice](#Contenidos)\n",
        "\n",
        "\n",
        "En resumen:\n",
        "* Usar minusculas. Sensible a mayusculas/minusculas\n",
        "* No usar espacios\n",
        "* No usar palabras reservadas\n",
        "* No usar numeros al principio de la variable\n",
        "* Cuidado con los caracteres `l`, `1`, `O`, `0`"
      ]
    },
    {
      "cell_type": "code",
      "execution_count": null,
      "metadata": {
        "id": "Zl6zXwnCtE4D"
      },
      "outputs": [],
      "source": []
    },
    {
      "cell_type": "code",
      "execution_count": null,
      "metadata": {
        "id": "niJSVJ_qtE4D"
      },
      "outputs": [],
      "source": []
    },
    {
      "cell_type": "code",
      "execution_count": null,
      "metadata": {
        "id": "PCoKUu9btE4E"
      },
      "outputs": [],
      "source": []
    }
  ],
  "nbformat": 4,
  "nbformat_minor": 0,
  "metadata": {
    "kernelspec": {
      "display_name": "Python 3 (ipykernel)",
      "language": "python",
      "name": "python3"
    },
    "language_info": {
      "codemirror_mode": {
        "name": "ipython",
        "version": 3
      },
      "file_extension": ".py",
      "mimetype": "text/x-python",
      "name": "python",
      "nbconvert_exporter": "python",
      "pygments_lexer": "ipython3",
      "version": "3.11.5"
    },
    "nbTranslate": {
      "displayLangs": [
        "*"
      ],
      "hotkey": "alt-t",
      "langInMainMenu": true,
      "sourceLang": "en",
      "targetLang": "fr",
      "useGoogleTranslate": true
    },
    "varInspector": {
      "cols": {
        "lenName": 16,
        "lenType": 16,
        "lenVar": 40
      },
      "kernels_config": {
        "python": {
          "delete_cmd_postfix": "",
          "delete_cmd_prefix": "del ",
          "library": "var_list.py",
          "varRefreshCmd": "print(var_dic_list())"
        },
        "r": {
          "delete_cmd_postfix": ") ",
          "delete_cmd_prefix": "rm(",
          "library": "var_list.r",
          "varRefreshCmd": "cat(var_dic_list()) "
        }
      },
      "types_to_exclude": [
        "module",
        "function",
        "builtin_function_or_method",
        "instance",
        "_Feature"
      ],
      "window_display": false
    },
    "colab": {
      "provenance": [],
      "include_colab_link": true
    }
  }
}