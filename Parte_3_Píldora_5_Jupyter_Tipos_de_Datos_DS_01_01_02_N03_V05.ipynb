{
  "cells": [
    {
      "cell_type": "markdown",
      "metadata": {
        "id": "view-in-github",
        "colab_type": "text"
      },
      "source": [
        "<a href=\"https://colab.research.google.com/github/Omar-A18/DS_Ejercicios_Fundamentals/blob/main/Parte_3_P%C3%ADldora_5_Jupyter_Tipos_de_Datos_DS_01_01_02_N03_V05.ipynb\" target=\"_parent\"><img src=\"https://colab.research.google.com/assets/colab-badge.svg\" alt=\"Open In Colab\"/></a>"
      ]
    },
    {
      "cell_type": "markdown",
      "metadata": {
        "id": "BP_-oaC0uqQs"
      },
      "source": [
        "<img src = \"./img/TheBridge_logo_RGB_color.jpg\" width = 500><img src = \"./img/python.jpg\" width = 500>"
      ]
    },
    {
      "cell_type": "markdown",
      "metadata": {
        "id": "FG9qbtJBuqQx"
      },
      "source": [
        "# Python Basics I\n"
      ]
    },
    {
      "cell_type": "markdown",
      "metadata": {
        "id": "r6eHVXpkuqQz"
      },
      "source": [
        "## Tipos de los datos\n",
        "Python es un lenguaje fuertemente tipado. Eso significa que las variables que usamos pertenecen a un tipo de datos: numero entero (int), real (float), texto (String), u otro tipo de objetos.\n",
        "\n",
        "**¿Por qué es importante saber bien de que tipos son los datos?** Porque cada tipo de dato tiene una serie propiedades y operaciones asociadas. Por ejemplo, a un texto no lo puedo sumar 5. Por lo que cuando vayamos a hacer operaciones entre ellos, tenemos que asegurarnos de que son del mismo tipo para que el resultado sea el esperado. `texto + 5` no tiene sentido y va a dar error. Parece obvio, pero hay ocasiones en las que los tipos de los datos no son los esperados.\n",
        "\n",
        "**¿Cuántos tipos de datos hay?** Básicamente aquí no hay límites. En este notebook veremos los más básicos, pero en notebooks posteriores verás que puedes crearte tus propios tipos de datos mediante las **clases**. En Python hay una serie de tipos de datos básicos, que podremos usar sin importar ningun módulo externo, son los llamados [*built-in Types*](https://docs.python.org/3/library/stdtypes.html). Estos son los más comunes:\n",
        "\n",
        "* **Numérico**: tenemos `int`, `float` y `complex`. Dependiendo de si es un numero entero, uno real o un complejo.\n",
        "* **String**: o Cadena. Cadena de texto plano\n",
        "* **Booleano**: o Lógico. `True`/`False`\n",
        "\n",
        "**¿Cómo sabemos el tipo de datos de una variable?** Mediante `type(nombre_variable)`"
      ]
    },
    {
      "cell_type": "markdown",
      "metadata": {
        "id": "5Eu8d6YguqQ1"
      },
      "source": [
        "## Contenidos"
      ]
    },
    {
      "cell_type": "markdown",
      "metadata": {
        "id": "muSH95_BuqQ1"
      },
      "source": [
        "* [Numéricos](#Numéricos)\n",
        "* [Strings\n",
        "](#Strings\n",
        ")\n",
        "* [Booleano\n",
        "](#Booleano\n",
        ")\n"
      ]
    },
    {
      "cell_type": "markdown",
      "metadata": {
        "id": "1tdL9J4SuqQ2"
      },
      "source": [
        "### Numéricos[al indice](#Contenidos)\n"
      ]
    },
    {
      "cell_type": "code",
      "execution_count": 1,
      "metadata": {
        "id": "LFhyivipuqQ3",
        "outputId": "fe65486f-cbf9-4658-a2ca-a193a2714d2a",
        "colab": {
          "base_uri": "https://localhost:8080/"
        }
      },
      "outputs": [
        {
          "output_type": "execute_result",
          "data": {
            "text/plain": [
              "int"
            ]
          },
          "metadata": {},
          "execution_count": 1
        }
      ],
      "source": [
        "numero = 22\n",
        "type(numero)"
      ]
    },
    {
      "cell_type": "markdown",
      "metadata": {
        "id": "CdN0TQMpuqQ5"
      },
      "source": [
        "Bien, es un ***int***, un número entero. Si lo que quiero es un numero real, es decir, que tenga decimales, le añado un punto"
      ]
    },
    {
      "cell_type": "code",
      "execution_count": 3,
      "metadata": {
        "id": "r9nxTpcluqQ5",
        "outputId": "11680499-0fc3-460a-f9ca-6cd86d4e917f",
        "colab": {
          "base_uri": "https://localhost:8080/"
        }
      },
      "outputs": [
        {
          "output_type": "stream",
          "name": "stdout",
          "text": [
            "<class 'float'>\n"
          ]
        }
      ],
      "source": [
        "numero_real = 22.0\n",
        "print(type(numero_real))"
      ]
    },
    {
      "cell_type": "markdown",
      "metadata": {
        "id": "ysbEylhiuqQ6"
      },
      "source": [
        "Aunque no le haya añadido decimales como tal, ya le estoy diciendo a Python que esta variable es un numero real (***float***)."
      ]
    },
    {
      "cell_type": "code",
      "execution_count": 4,
      "metadata": {
        "id": "b7T3x7heuqQ8",
        "outputId": "3876059a-d748-42bf-928d-d34dde4732f7",
        "colab": {
          "base_uri": "https://localhost:8080/"
        }
      },
      "outputs": [
        {
          "output_type": "execute_result",
          "data": {
            "text/plain": [
              "float"
            ]
          },
          "metadata": {},
          "execution_count": 4
        }
      ],
      "source": [
        "numero_real_decimales = 22.41223\n",
        "type(numero_real_decimales)"
      ]
    },
    {
      "cell_type": "markdown",
      "metadata": {
        "id": "01b3VZgjuqQ8"
      },
      "source": [
        "Algunas operaciones básicas que podemos hacer con los numeros:\n",
        "* Sumar: `+`\n",
        "* Restar: `-`\n",
        "* Multiplicar: `*`\n",
        "* Dividir: `/`\n",
        "* Elevar: `**`\n",
        "* Cociente division: `//`\n",
        "* Resto de la división: `%`"
      ]
    },
    {
      "cell_type": "code",
      "execution_count": 5,
      "metadata": {
        "id": "rSxGsfwhuqQ9",
        "outputId": "a8b826c0-20f8-43bc-b324-6b0d1a98fbeb",
        "colab": {
          "base_uri": "https://localhost:8080/"
        }
      },
      "outputs": [
        {
          "output_type": "stream",
          "name": "stdout",
          "text": [
            "Sumas/restas\n",
            "3\n",
            "3.0\n",
            "3.0\n",
            "-1\n",
            "Multiplicaciones/Divisiones\n",
            "4\n",
            "4.0\n",
            "1.0\n",
            "100.0\n",
            "Resto de la división\n",
            "3.3333333333333335\n",
            "3\n",
            "1\n"
          ]
        }
      ],
      "source": [
        "print(\"Sumas/restas\")\n",
        "print(1 + 2)\n",
        "print(1.0 + 2) # Fijate que cuando fuerzo a que alguno de los numeros sea float, el resultado es float\n",
        "print(1 + 2.0)\n",
        "print(1-2)\n",
        "\n",
        "print(\"Multiplicaciones/Divisiones\")\n",
        "print(2 * 2)\n",
        "print(2.0 * 2) # Ocurre lo mismo que en las sumas, cuando ponemos uno de los numeros como float.\n",
        "print(2/2) # Al hacer la división, directamente convierte el numero en float, a pesar de que los dos son enteros y el resultado también.\n",
        "print(1000/10)\n",
        "\n",
        "print(\"Resto de la división\")\n",
        "print(10/3)\n",
        "print(int(10/3)) # Me quedo con el entero de la division\n",
        "print(10 % 3) # Me quedo con el resto de la division"
      ]
    },
    {
      "cell_type": "code",
      "source": [
        "n = 758869974\n",
        "print(\"¿Es\", n, \"par\")\n",
        "resto = n % 2\n",
        "print(\"El resto de la division es\", resto)\n",
        "if resto == 0:\n",
        "    print(\"Es par\")\n",
        "else:\n",
        "    print(\"Es impar\")"
      ],
      "metadata": {
        "id": "B_7OzFrvl6az",
        "outputId": "a9900e49-ed60-4bde-9f68-a04346f7bcb4",
        "colab": {
          "base_uri": "https://localhost:8080/"
        }
      },
      "execution_count": 8,
      "outputs": [
        {
          "output_type": "stream",
          "name": "stdout",
          "text": [
            "¿Es 758869974 par\n",
            "El resto de la division es 0\n",
            "Es par\n"
          ]
        }
      ]
    },
    {
      "cell_type": "markdown",
      "metadata": {
        "id": "yA13Hs27uqQ_"
      },
      "source": [
        "### Strings\n",
        "[al indice](#Contenidos)\n",
        "El tercer tipo de datos más común es el *String*, o cadena de texto. Hay varias maneras de declararlo:"
      ]
    },
    {
      "cell_type": "code",
      "execution_count": 9,
      "metadata": {
        "id": "4goCVot_uqRA",
        "outputId": "a780ad8e-13e2-475c-fa94-ba108d772894",
        "colab": {
          "base_uri": "https://localhost:8080/"
        }
      },
      "outputs": [
        {
          "output_type": "stream",
          "name": "stdout",
          "text": [
            "Esto es una variable de tipo String\n",
            "Esto también es una variable de tipo String\n"
          ]
        }
      ],
      "source": [
        "# Con comillas dobles\n",
        "cadena = \"Esto es una variable de tipo String\"\n",
        "\n",
        "# Con comillas simples\n",
        "cadena_2 = 'Esto también es una variable de tipo String'\n",
        "print(cadena)\n",
        "print(cadena_2)"
      ]
    },
    {
      "cell_type": "markdown",
      "metadata": {
        "id": "IY2mww-1uqRA"
      },
      "source": [
        "Si da la casualidad de que en el texto hay comillas, tenemos la posibilidad de que Python las interprete como parte del texto y no como comando de inicio/cierre de String"
      ]
    },
    {
      "cell_type": "code",
      "execution_count": 10,
      "metadata": {
        "id": "xRz_6JlguqRB",
        "outputId": "56278268-cbcb-498b-b213-720d5ffe96b2",
        "colab": {
          "base_uri": "https://localhost:8080/"
        }
      },
      "outputs": [
        {
          "output_type": "stream",
          "name": "stdout",
          "text": [
            "String con 'simples'\n",
            "String con \"dobles\"\n",
            "String con 'simples' dentro\n",
            "String con \"dobles\" dentro\n"
          ]
        }
      ],
      "source": [
        "print(\"String con 'simples'\")\n",
        "print('String con \"dobles\"')\n",
        "print('String con \\'simples\\' dentro')\n",
        "print(\"String con \\\"dobles\\\" dentro\")"
      ]
    },
    {
      "cell_type": "markdown",
      "metadata": {
        "id": "dReNlP-luqRB"
      },
      "source": [
        "En ocasiones queremos poner saltos de línea o tabulaciones en los prints, o simplemente en una variable de tipo String. Para ello usamos los [*escape characters*](https://www.w3schools.com/python/gloss_python_escape_characters.asp) como `\\n` para saltos de línea o `\\t` para tabulaciones."
      ]
    },
    {
      "cell_type": "code",
      "execution_count": 18,
      "metadata": {
        "id": "ReM5-dxYuqRC",
        "outputId": "3fdd56ac-157a-4c6b-9fdb-9f965153dd42",
        "colab": {
          "base_uri": "https://localhost:8080/"
        }
      },
      "outputs": [
        {
          "output_type": "stream",
          "name": "stdout",
          "text": [
            "Primera linea \n",
            " Segunda linea\n",
            "\tTercera linea tabulada\n"
          ]
        }
      ],
      "source": [
        "print(\"Primera linea \\n Segunda linea\\n\\tTercera linea tabulada\")"
      ]
    },
    {
      "cell_type": "markdown",
      "metadata": {
        "id": "f38LkB9cuqRC"
      },
      "source": [
        "Para unir dos variables de tipo String, simplemente usamos el `+`"
      ]
    },
    {
      "cell_type": "code",
      "execution_count": 19,
      "metadata": {
        "id": "8_iDQCz2uqRD",
        "outputId": "e34a51eb-d22c-40e8-a4f0-35be23022e05",
        "colab": {
          "base_uri": "https://localhost:8080/"
        }
      },
      "outputs": [
        {
          "output_type": "stream",
          "name": "stdout",
          "text": [
            "Primera Linea\n",
            "Segunda Linea\n",
            "\tºltima linea tabulada\n"
          ]
        }
      ],
      "source": [
        "mi_string = \"Primera Linea\\nSegunda Linea\\n\\tºltima linea tabulada\"\n",
        "print(mi_string)"
      ]
    },
    {
      "cell_type": "code",
      "source": [
        "nombre = \"Antonia\"\n",
        "apellido = \"Scott\"\n",
        "\n",
        "nombre_apellido = nombre + \" \" + apellido\n",
        "print(nombre_apellido)\n",
        "print(type(nombre_apellido))"
      ],
      "metadata": {
        "id": "PGmgDT-IptrY",
        "outputId": "4e5288f5-281c-438b-949f-ca1cfda70b95",
        "colab": {
          "base_uri": "https://localhost:8080/"
        }
      },
      "execution_count": 31,
      "outputs": [
        {
          "output_type": "stream",
          "name": "stdout",
          "text": [
            "Antonia Scott\n",
            "<class 'str'>\n"
          ]
        }
      ]
    },
    {
      "cell_type": "code",
      "source": [
        "esto_es_una_prueba = \"Pues eso, que estamos jugando\"\n",
        "un_entero = 100\n",
        "print(esto_es_una_prueba + un_entero)"
      ],
      "metadata": {
        "id": "oqGsIqHHqMlx",
        "outputId": "475698b0-6ed1-4074-f215-3feadf651e27",
        "colab": {
          "base_uri": "https://localhost:8080/",
          "height": 211
        }
      },
      "execution_count": 21,
      "outputs": [
        {
          "output_type": "error",
          "ename": "TypeError",
          "evalue": "can only concatenate str (not \"int\") to str",
          "traceback": [
            "\u001b[0;31m---------------------------------------------------------------------------\u001b[0m",
            "\u001b[0;31mTypeError\u001b[0m                                 Traceback (most recent call last)",
            "\u001b[0;32m<ipython-input-21-7cda299afa64>\u001b[0m in \u001b[0;36m<cell line: 0>\u001b[0;34m()\u001b[0m\n\u001b[1;32m      1\u001b[0m \u001b[0mesto_es_una_prueba\u001b[0m \u001b[0;34m=\u001b[0m \u001b[0;34m\"Pues eso, que estamos jugando\"\u001b[0m\u001b[0;34m\u001b[0m\u001b[0;34m\u001b[0m\u001b[0m\n\u001b[1;32m      2\u001b[0m \u001b[0mun_entero\u001b[0m \u001b[0;34m=\u001b[0m \u001b[0;36m100\u001b[0m\u001b[0;34m\u001b[0m\u001b[0;34m\u001b[0m\u001b[0m\n\u001b[0;32m----> 3\u001b[0;31m \u001b[0mprint\u001b[0m\u001b[0;34m(\u001b[0m\u001b[0mesto_es_una_prueba\u001b[0m \u001b[0;34m+\u001b[0m \u001b[0mun_entero\u001b[0m\u001b[0;34m)\u001b[0m\u001b[0;34m\u001b[0m\u001b[0;34m\u001b[0m\u001b[0m\n\u001b[0m",
            "\u001b[0;31mTypeError\u001b[0m: can only concatenate str (not \"int\") to str"
          ]
        }
      ]
    },
    {
      "cell_type": "markdown",
      "metadata": {
        "id": "wDAkMt23uqRD"
      },
      "source": [
        "### Booleano\n",
        "[al indice](#Contenidos)\n",
        "Por último, el cuarto tipo de datos basiquísimo es el *booleano*: `True`/`False`. Para que Python reconoza este tipo de datos, hay que escribirlos con la primera letra en mayúscula"
      ]
    },
    {
      "cell_type": "code",
      "execution_count": 25,
      "metadata": {
        "id": "mlyZHhDRuqRD",
        "outputId": "e514af42-0ecc-4ac7-ad95-3ee59995c734",
        "colab": {
          "base_uri": "https://localhost:8080/"
        }
      },
      "outputs": [
        {
          "output_type": "execute_result",
          "data": {
            "text/plain": [
              "True"
            ]
          },
          "metadata": {},
          "execution_count": 25
        }
      ],
      "source": [
        "True\n",
        "False"
      ]
    },
    {
      "cell_type": "code",
      "source": [
        "ya_se_de_python = True\n",
        "print(type(ya_se_de_python))"
      ],
      "metadata": {
        "id": "a79hHmrdq-4D",
        "outputId": "91f55bc3-858c-4c5a-ff6a-aa98c0a4585f",
        "colab": {
          "base_uri": "https://localhost:8080/"
        }
      },
      "execution_count": 26,
      "outputs": [
        {
          "output_type": "stream",
          "name": "stdout",
          "text": [
            "<class 'bool'>\n"
          ]
        }
      ]
    },
    {
      "cell_type": "code",
      "source": [
        "dinerito = 5\n",
        "dinerito >= 15"
      ],
      "metadata": {
        "id": "twjvJmh2rMld",
        "outputId": "d0120aa8-4ca4-4085-b9c2-ec365aa6a576",
        "colab": {
          "base_uri": "https://localhost:8080/"
        }
      },
      "execution_count": 40,
      "outputs": [
        {
          "output_type": "execute_result",
          "data": {
            "text/plain": [
              "False"
            ]
          },
          "metadata": {},
          "execution_count": 40
        }
      ]
    },
    {
      "cell_type": "code",
      "source": [
        "dinerito = 15\n",
        "cond_1 = dinerito >= 15\n",
        "print(cond_1)\n",
        "print(type(cond_1))"
      ],
      "metadata": {
        "id": "3q33ypg8ra-s",
        "outputId": "1190ffa4-ce2e-4c0b-9133-803d8a7d899d",
        "colab": {
          "base_uri": "https://localhost:8080/"
        }
      },
      "execution_count": 39,
      "outputs": [
        {
          "output_type": "stream",
          "name": "stdout",
          "text": [
            "True\n",
            "<class 'bool'>\n"
          ]
        }
      ]
    },
    {
      "cell_type": "markdown",
      "metadata": {
        "id": "gWKealPpuqRE"
      },
      "source": [
        "Tipos de datos hay muchos, verás más adelante cómo crear tus propios tipos de datos mediante las clases y los objetos. Pero por ahora, quédate con los tipos de datos más simples:\n",
        "* **int**: entero\n",
        "* **float**: real\n",
        "* **str**: cadena de texto\n",
        "* **bool**: true/false"
      ]
    },
    {
      "cell_type": "markdown",
      "metadata": {
        "id": "sWHxjqccuqRE"
      },
      "source": [
        "En otros lenguajes de programación el valor numérico suele ir más desagregado dependiendo del volumen del mismo. No es lo mismo tener un `double`, que un `float`. Por suerte en Python no hay que preocuparse de eso :)\n",
        "\n",
        "Veamos más ejemplos"
      ]
    },
    {
      "cell_type": "code",
      "execution_count": 32,
      "metadata": {
        "id": "7lqR02I2uqRF",
        "outputId": "dbfa933f-b1e5-482d-8e8b-a14d60018816",
        "colab": {
          "base_uri": "https://localhost:8080/"
        }
      },
      "outputs": [
        {
          "output_type": "stream",
          "name": "stdout",
          "text": [
            "<class 'float'>\n"
          ]
        }
      ],
      "source": [
        "print(type(1.0))"
      ]
    },
    {
      "cell_type": "code",
      "execution_count": 34,
      "metadata": {
        "id": "Q4PSshpauqRF",
        "outputId": "168dc750-2e58-4d5a-eb12-6f889797011e",
        "colab": {
          "base_uri": "https://localhost:8080/"
        }
      },
      "outputs": [
        {
          "output_type": "stream",
          "name": "stdout",
          "text": [
            "<class 'int'>\n"
          ]
        }
      ],
      "source": [
        "print(type(-74))"
      ]
    },
    {
      "cell_type": "code",
      "source": [
        "print(type(\"3.45\"))"
      ],
      "metadata": {
        "id": "zv6GpdF-sjjd",
        "outputId": "1b0fe27b-d514-4d24-b82f-f6198f04e439",
        "colab": {
          "base_uri": "https://localhost:8080/"
        }
      },
      "execution_count": 35,
      "outputs": [
        {
          "output_type": "stream",
          "name": "stdout",
          "text": [
            "<class 'str'>\n"
          ]
        }
      ]
    },
    {
      "cell_type": "code",
      "source": [
        "print(type(True))"
      ],
      "metadata": {
        "id": "JqO9-7nJsp22",
        "outputId": "ec870b92-02aa-4e40-a381-2588b7d76582",
        "colab": {
          "base_uri": "https://localhost:8080/"
        }
      },
      "execution_count": 36,
      "outputs": [
        {
          "output_type": "stream",
          "name": "stdout",
          "text": [
            "<class 'bool'>\n"
          ]
        }
      ]
    },
    {
      "cell_type": "code",
      "source": [
        "print(type(cond_1))"
      ],
      "metadata": {
        "id": "hNfJLfSsssTL",
        "outputId": "17be24b1-8b1c-4e2d-ed19-2ee204c52734",
        "colab": {
          "base_uri": "https://localhost:8080/"
        }
      },
      "execution_count": 41,
      "outputs": [
        {
          "output_type": "stream",
          "name": "stdout",
          "text": [
            "<class 'bool'>\n"
          ]
        }
      ]
    }
  ],
  "nbformat": 4,
  "nbformat_minor": 0,
  "metadata": {
    "kernelspec": {
      "display_name": "Python 3",
      "language": "python",
      "name": "python3"
    },
    "language_info": {
      "codemirror_mode": {
        "name": "ipython",
        "version": 3
      },
      "file_extension": ".py",
      "mimetype": "text/x-python",
      "name": "python",
      "nbconvert_exporter": "python",
      "pygments_lexer": "ipython3",
      "version": "3.8.3"
    },
    "colab": {
      "provenance": [],
      "include_colab_link": true
    }
  }
}