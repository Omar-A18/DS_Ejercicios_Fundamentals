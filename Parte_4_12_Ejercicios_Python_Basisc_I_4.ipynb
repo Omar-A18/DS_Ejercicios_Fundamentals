{
  "cells": [
    {
      "cell_type": "markdown",
      "metadata": {
        "id": "view-in-github",
        "colab_type": "text"
      },
      "source": [
        "<a href=\"https://colab.research.google.com/github/Omar-A18/DS_Ejercicios_Fundamentals/blob/main/Parte_4_12_Ejercicios_Python_Basisc_I_4.ipynb\" target=\"_parent\"><img src=\"https://colab.research.google.com/assets/colab-badge.svg\" alt=\"Open In Colab\"/></a>"
      ]
    },
    {
      "cell_type": "markdown",
      "metadata": {
        "id": "ONEn17ULlCeX"
      },
      "source": [
        "![imagen](./img/ejercicios.png)"
      ]
    },
    {
      "cell_type": "markdown",
      "metadata": {
        "id": "U0_NP3rqlCeY"
      },
      "source": [
        "## EJERCICIOS PYTHON BASICO 4:\n",
        "## Funciones, métodos, listas"
      ]
    },
    {
      "cell_type": "markdown",
      "metadata": {
        "id": "0RxsYVZylCeY"
      },
      "source": [
        "Completa los siguiente ejercicios, la solución completa a los mismos se publicarán en el repo del curso a lo largo del sprint. En algunos ejercicios se muestra la solución final, para que puedas comprobar que lo has hecho bien, pero lo importante es el código que generes. ¡Vaaamos, a ello...!"
      ]
    },
    {
      "cell_type": "markdown",
      "metadata": {
        "id": "WxSEj3IhlCeY"
      },
      "source": [
        "![ejercicio.png](./img/ejercicio.png)\n",
        "\n",
        "## Ejercicio 1\n",
        "Para este ejercicio vamos a poner en práctica [las funciones built in](https://docs.python.org/3/library/functions.html).\n",
        "\n",
        "1. Calcula el máximo de la lista: [4, 6, 8, -1]\n",
        "2. Suma todos los elementos de la lista anterior\n",
        "3. Redondea este float a 3 dígitos decimales: 63.451256965\n",
        "4. Valor absoluto de: -74"
      ]
    },
    {
      "cell_type": "code",
      "execution_count": 6,
      "metadata": {
        "colab": {
          "base_uri": "https://localhost:8080/"
        },
        "id": "HWxRUMD6lCeY",
        "outputId": "735a6604-a5a7-46ed-ea79-9e628dddca13"
      },
      "outputs": [
        {
          "output_type": "stream",
          "name": "stdout",
          "text": [
            "8\n",
            "17\n",
            "63.451\n",
            "74\n"
          ]
        }
      ],
      "source": [
        "lista = [4, 6, 8, -1]\n",
        "print(max(lista))\n",
        "\n",
        "suma_lista = sum(lista)\n",
        "print(suma_lista)\n",
        "\n",
        "numero = 63.451256965\n",
        "numero_redondeado = round(numero, 3)\n",
        "print(numero_redondeado)\n",
        "\n",
        "numero_negativo = -74\n",
        "numero_absoluto = (numero_negativo * -1)\n",
        "print(numero_absoluto)"
      ]
    },
    {
      "cell_type": "markdown",
      "metadata": {
        "id": "RWbRiaDTlCeZ"
      },
      "source": [
        "![ejercicio.png](./img/ejercicio.png)\n",
        "\n",
        "## Ejercicio 2\n",
        "Para el siguiente string se pide imprimir por pantalla los siguientes casos\n",
        "\n",
        "    \"En un lugar de la Mancha, de cuyo nombre no quiero acordarme.\"\n",
        "\n",
        "1. Pásalo todo a mayúsculas\n",
        "2. Pásalo todo a minúsculas\n",
        "3. Solo la primera letra de cada palabra en mayúscula, el resto en minúscula\n",
        "4. Crea una lista dividiéndolo por sus espacios\n",
        "5. Sustituye las comas `,` por puntos y comas `;`\n",
        "6. Elimina las `a` minúsculas"
      ]
    },
    {
      "cell_type": "code",
      "execution_count": 27,
      "metadata": {
        "colab": {
          "base_uri": "https://localhost:8080/"
        },
        "id": "UqP_nomVlCeZ",
        "outputId": "faf92be9-d228-498c-9d4a-e485b0084999"
      },
      "outputs": [
        {
          "output_type": "stream",
          "name": "stdout",
          "text": [
            "EN UN LUGAR DE LA MANCHA, DE CUYO NOMBRE NO QUIERO ACORDARME.\n",
            "en un lugar de la mancha, de cuyo nombre no quiero acordarme.\n",
            "En Un Lugar De La Mancha, De Cuyo Nombre No Quiero Acordarme.\n",
            "['En', 'un', 'lugar', 'de', 'la', 'Mancha,', 'de', 'cuyo', 'nombre', 'no', 'quiero', 'acordarme.']\n",
            "En un lugar de la Mancha. de cuyo nombre no quiero acordarme.\n",
            "E\n",
            "M\n"
          ]
        }
      ],
      "source": [
        "quijote = \"En un lugar de la Mancha, de cuyo nombre no quiero acordarme.\"\n",
        "print(quijote.upper())\n",
        "print(quijote.lower())\n",
        "print(quijote.title())\n",
        "print(quijote.split())\n",
        "print(quijote.replace(\",\", \".\"))\n",
        "\n",
        "for letra in quijote:\n",
        "  if (letra.isupper()):\n",
        "    print(letra)\n",
        "\n",
        "\n"
      ]
    },
    {
      "cell_type": "markdown",
      "metadata": {
        "id": "RZhk_x3ClCea"
      },
      "source": [
        "![ejercicio.png](./img/ejercicio.png)\n",
        "\n",
        "## Ejercicio 3\n",
        "1. Crea una lista con 3 elementos numéricos\n",
        "2. Añade un cuarto elemento\n",
        "3. Calcula la suma de todos\n",
        "4. Elimina el segundo elemento de la lista\n",
        "5. Añade otro elemento en la posicion 3 de la lista\n",
        "6. Crea otra lista con 4 elementos y concaténala a la que ya tenías.\n",
        "7. Ordena la lista de menor a mayor.\n",
        "8. BONUS: Ordena la lista de mayor a menor.  \n",
        "(*PISTA: Para hacer 8, tendrás que buscar en la información del método...*)  \n",
        "  \n",
        "  \n",
        "NOTA: Pinta por pantalla el resultado de cada paso."
      ]
    },
    {
      "cell_type": "code",
      "execution_count": 50,
      "metadata": {
        "colab": {
          "base_uri": "https://localhost:8080/"
        },
        "id": "0bh2JkwLlCea",
        "outputId": "efe70e5a-5ee6-416e-94d2-aac617b70d80"
      },
      "outputs": [
        {
          "output_type": "stream",
          "name": "stdout",
          "text": [
            "[1, 2, 3, 4]\n",
            "10\n",
            "[1, 3, 4]\n",
            "[1, 3, 11, 4]\n",
            "[1, 3, 11, 4, 99, 88, 77, 66]\n",
            "[1, 3, 4, 11, 66, 77, 88, 99]\n",
            "[99, 88, 77, 66, 11, 4, 3, 1]\n"
          ]
        }
      ],
      "source": [
        "lista_1 = [1,2,3]\n",
        "\n",
        "lista_1.append(4)\n",
        "print(lista_1)\n",
        "\n",
        "print(sum(lista_1))\n",
        "\n",
        "lista_1.remove(2)\n",
        "print(lista_1)\n",
        "\n",
        "lista_1.insert(2, 11)\n",
        "print(lista_1)\n",
        "\n",
        "lista_2 = [99,88,77,66]\n",
        "suma_listas_1 = lista_1 + lista_2\n",
        "print(suma_listas_1)\n",
        "\n",
        "suma_listas_1.sort()\n",
        "print(suma_listas_1)\n",
        "\n",
        "suma_listas_1.sort(reverse = True)\n",
        "print(suma_listas_1)\n"
      ]
    },
    {
      "cell_type": "code",
      "source": [],
      "metadata": {
        "id": "Ip2Mz8_VoQmH"
      },
      "execution_count": null,
      "outputs": []
    }
  ],
  "metadata": {
    "kernelspec": {
      "display_name": "Curso_Online_DATA",
      "language": "python",
      "name": "python3"
    },
    "language_info": {
      "codemirror_mode": {
        "name": "ipython",
        "version": 3
      },
      "file_extension": ".py",
      "mimetype": "text/x-python",
      "name": "python",
      "nbconvert_exporter": "python",
      "pygments_lexer": "ipython3",
      "version": "3.11.5"
    },
    "orig_nbformat": 4,
    "colab": {
      "provenance": [],
      "include_colab_link": true
    }
  },
  "nbformat": 4,
  "nbformat_minor": 0
}