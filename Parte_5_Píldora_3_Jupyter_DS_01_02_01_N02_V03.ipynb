{
  "cells": [
    {
      "cell_type": "markdown",
      "metadata": {
        "id": "view-in-github",
        "colab_type": "text"
      },
      "source": [
        "<a href=\"https://colab.research.google.com/github/Omar-A18/DS_Ejercicios_Fundamentals/blob/main/Parte_5_P%C3%ADldora_3_Jupyter_DS_01_02_01_N02_V03.ipynb\" target=\"_parent\"><img src=\"https://colab.research.google.com/assets/colab-badge.svg\" alt=\"Open In Colab\"/></a>"
      ]
    },
    {
      "cell_type": "markdown",
      "metadata": {
        "id": "wnSo9KBNiIVp"
      },
      "source": [
        "##  Colecciones Python: Tuplas\n"
      ]
    },
    {
      "cell_type": "markdown",
      "metadata": {
        "id": "KTpiVcm9iIVp"
      },
      "source": [
        "### Contenidos\n"
      ]
    },
    {
      "cell_type": "markdown",
      "metadata": {
        "id": "62FwLzm0iIVq"
      },
      "source": [
        "* [Introducción](#Introducción)\n",
        "\n",
        "* [Listas y tuplas](#Listas-y-tuplas)\n",
        "\n"
      ]
    },
    {
      "cell_type": "markdown",
      "metadata": {
        "id": "KWcxoKeWiIVq"
      },
      "source": [
        "### Introducción\n",
        "[al indice](#Contenidos)  \n",
        "\n",
        "Muy similares a las listas. Si en Notebooks anteriores definíamos a las listas como ordenadas y mutables, las tuplas son ordenadas e inmutables.\n",
        "\n",
        "* **Inmutables**: una vez creada la tupla con sus elementos iniciales, no se puede modificar\n",
        "* **Ordenadas**: podemos acceder a sus elementos a través del indice y reordenar la tupla según queramos\n",
        "\n",
        "Las tuplas se suelen usar para pequeñas colecciones de datos que no van a cambiar a lo largo del programa, como es el caso de las constantes.\n",
        "\n",
        "Si las listas se construían mediante corchetes `[]`, las tuplas lo hacen con los paréntesis `()`"
      ]
    },
    {
      "cell_type": "code",
      "execution_count": 1,
      "metadata": {
        "id": "abzRjOF0iIVr",
        "outputId": "547a2179-985f-4f48-b3fa-b65e05292720",
        "colab": {
          "base_uri": "https://localhost:8080/"
        }
      },
      "outputs": [
        {
          "output_type": "stream",
          "name": "stdout",
          "text": [
            "(3, 'Texto')\n",
            "<class 'tuple'>\n"
          ]
        }
      ],
      "source": [
        "tupla_ejemplo = (3, \"Texto\")\n",
        "print(tupla_ejemplo)\n",
        "print(type(tupla_ejemplo))"
      ]
    },
    {
      "cell_type": "markdown",
      "metadata": {
        "id": "WRozbvpBiIVr"
      },
      "source": [
        "Los paréntesis ya se usan para reordenar operaciones `5 * (3 + 4)`, por lo que hay que añadir una coma cuando definamos una tupla con un único elemento, sino Python lo interpretará como un número."
      ]
    },
    {
      "cell_type": "code",
      "execution_count": 2,
      "metadata": {
        "id": "sgQDRnPjiIVr",
        "outputId": "2cc3f0ad-1304-454f-a508-042e6f078532",
        "colab": {
          "base_uri": "https://localhost:8080/"
        }
      },
      "outputs": [
        {
          "output_type": "stream",
          "name": "stdout",
          "text": [
            "El primer elemento es 3\n",
            "El segundo elemento es Texto\n"
          ]
        }
      ],
      "source": [
        "print(\"El primer elemento es\", tupla_ejemplo[0])\n",
        "print(\"El segundo elemento es\", tupla_ejemplo[1])"
      ]
    },
    {
      "cell_type": "code",
      "execution_count": 6,
      "metadata": {
        "id": "HZn_JB2WiIVs",
        "outputId": "9e0287de-908b-4dc4-f28a-f45caf5a3bb4",
        "colab": {
          "base_uri": "https://localhost:8080/"
        }
      },
      "outputs": [
        {
          "output_type": "stream",
          "name": "stdout",
          "text": [
            "<class 'int'> 24\n",
            "<class 'tuple'> (24,)\n"
          ]
        }
      ],
      "source": [
        "from re import M\n",
        "mala_tupla = (24)\n",
        "print(type(mala_tupla), mala_tupla)\n",
        "buena_tupla = (24,)\n",
        "print(type(buena_tupla), buena_tupla)"
      ]
    },
    {
      "cell_type": "code",
      "source": [
        "# Anidación tupla\n",
        "tupla_anid = (1, 2, 3, (\"A\", \"B\", \"C\"))\n",
        "print(tupla_anid)\n",
        "print(len(tupla_anid))"
      ],
      "metadata": {
        "id": "1oCJjTdTn8tQ",
        "outputId": "dd619079-6442-4d91-e46a-70c8c780dedd",
        "colab": {
          "base_uri": "https://localhost:8080/"
        }
      },
      "execution_count": 7,
      "outputs": [
        {
          "output_type": "stream",
          "name": "stdout",
          "text": [
            "(1, 2, 3, ('A', 'B', 'C'))\n",
            "4\n"
          ]
        }
      ]
    },
    {
      "cell_type": "code",
      "source": [
        "print(tupla_anid[2])\n",
        "print(tupla_anid[3][1])"
      ],
      "metadata": {
        "id": "qXP4U4qYofDq",
        "outputId": "8fec8268-5a19-4c2a-a49b-f89c5572e7d8",
        "colab": {
          "base_uri": "https://localhost:8080/"
        }
      },
      "execution_count": 10,
      "outputs": [
        {
          "output_type": "stream",
          "name": "stdout",
          "text": [
            "3\n",
            "B\n"
          ]
        }
      ]
    },
    {
      "cell_type": "code",
      "source": [
        "# Son iterables\n",
        "for i in tupla_anid:\n",
        "  print(i)"
      ],
      "metadata": {
        "id": "RbC3opKFpDwF",
        "outputId": "99f11b94-7802-4ce5-a696-65276ef93c9d",
        "colab": {
          "base_uri": "https://localhost:8080/"
        }
      },
      "execution_count": 11,
      "outputs": [
        {
          "output_type": "stream",
          "name": "stdout",
          "text": [
            "1\n",
            "2\n",
            "3\n",
            "('A', 'B', 'C')\n"
          ]
        }
      ]
    },
    {
      "cell_type": "code",
      "source": [
        "# Slicing\n",
        "tupla_bis = tupla_anid[2:]\n",
        "print(tupla_bis)"
      ],
      "metadata": {
        "id": "A5yM7_JjpSy7",
        "outputId": "5ab675b8-8275-4082-8738-f4f2a511e399",
        "colab": {
          "base_uri": "https://localhost:8080/"
        }
      },
      "execution_count": 12,
      "outputs": [
        {
          "output_type": "stream",
          "name": "stdout",
          "text": [
            "(3, ('A', 'B', 'C'))\n"
          ]
        }
      ]
    },
    {
      "cell_type": "code",
      "source": [],
      "metadata": {
        "id": "PznS_9UppSfV"
      },
      "execution_count": null,
      "outputs": []
    },
    {
      "cell_type": "markdown",
      "metadata": {
        "id": "fviVMFxRiIVs"
      },
      "source": [
        "<table align=\"left\">\n",
        " <tr>\n",
        "     <td style=\"text-align:left\">\n",
        "         <h3>ERRORES tuplas</h3>\n",
        "         \n",
        " </td></tr>\n",
        "</table>"
      ]
    },
    {
      "cell_type": "markdown",
      "metadata": {
        "id": "xaShEHgriIVs"
      },
      "source": [
        "Cuidado que las tuplas son inmutables, y una vez creadas no las podrás modificar después"
      ]
    },
    {
      "cell_type": "code",
      "execution_count": 13,
      "metadata": {
        "id": "xrkuW6z1iIVs",
        "outputId": "2c3b2a43-90f0-4da6-bd29-f2727f1d2c59",
        "colab": {
          "base_uri": "https://localhost:8080/",
          "height": 158
        }
      },
      "outputs": [
        {
          "output_type": "error",
          "ename": "TypeError",
          "evalue": "'tuple' object does not support item assignment",
          "traceback": [
            "\u001b[0;31m---------------------------------------------------------------------------\u001b[0m",
            "\u001b[0;31mTypeError\u001b[0m                                 Traceback (most recent call last)",
            "\u001b[0;32m<ipython-input-13-6356a240c256>\u001b[0m in \u001b[0;36m<cell line: 0>\u001b[0;34m()\u001b[0m\n\u001b[1;32m      1\u001b[0m \u001b[0mtupla_error\u001b[0m \u001b[0;34m=\u001b[0m \u001b[0;34m(\u001b[0m\u001b[0;36m1\u001b[0m\u001b[0;34m,\u001b[0m \u001b[0;36m2\u001b[0m\u001b[0;34m,\u001b[0m \u001b[0;36m3\u001b[0m\u001b[0;34m,\u001b[0m \u001b[0;36m4\u001b[0m\u001b[0;34m,\u001b[0m \u001b[0;36m5\u001b[0m\u001b[0;34m)\u001b[0m\u001b[0;34m\u001b[0m\u001b[0;34m\u001b[0m\u001b[0m\n\u001b[0;32m----> 2\u001b[0;31m \u001b[0mtupla_error\u001b[0m\u001b[0;34m[\u001b[0m\u001b[0;36m3\u001b[0m\u001b[0;34m]\u001b[0m \u001b[0;34m=\u001b[0m \u001b[0;36m23\u001b[0m\u001b[0;34m\u001b[0m\u001b[0;34m\u001b[0m\u001b[0m\n\u001b[0m",
            "\u001b[0;31mTypeError\u001b[0m: 'tuple' object does not support item assignment"
          ]
        }
      ],
      "source": [
        "tupla_error = (1, 2, 3, 4, 5)\n",
        "tupla_error[3] = 23"
      ]
    },
    {
      "cell_type": "code",
      "execution_count": 16,
      "metadata": {
        "id": "HlKeg_2WiIVs",
        "outputId": "703b5383-40f7-4968-d060-754c80b57d75",
        "colab": {
          "base_uri": "https://localhost:8080/"
        }
      },
      "outputs": [
        {
          "output_type": "stream",
          "name": "stdout",
          "text": [
            "(1, 2, 3, 4, 5, 6)\n",
            "(1, 2, 3, 4, 5, 6)\n",
            "(1, 2, 3, 4, 5, 6)\n"
          ]
        }
      ],
      "source": [
        "# Si queremos añadir elementos, podemos meterlos en otra tupla y sumarlas para que se concatenen\n",
        "tupla_1 = (1,2,3)\n",
        "tupla_2 = (4,5,6)\n",
        "\n",
        "print(tupla_1 + tupla_2)\n",
        "tupla_3 = tupla_1 + tupla_2\n",
        "tupla_1 = tupla_1 + tupla_2 # Reasignacion de tupla, no se cambian las tuplas\n",
        "print(tupla_3)\n",
        "print(tupla_1)"
      ]
    },
    {
      "cell_type": "markdown",
      "metadata": {
        "id": "14Z8ted2iIVt"
      },
      "source": [
        "### Listas y tuplas\n",
        "[al indice](#Contenidos)  \n",
        "\n",
        "Podemos combinar listas y tuplas que no tendremos ningún problema, siempre y cuando respetemos las propiedades de cada tipo de dato."
      ]
    },
    {
      "cell_type": "code",
      "execution_count": 17,
      "metadata": {
        "id": "ZdQuJL9hiIVt",
        "outputId": "5e19ad8f-e934-40b0-cbaa-6c24d6aa0428",
        "colab": {
          "base_uri": "https://localhost:8080/"
        }
      },
      "outputs": [
        {
          "output_type": "stream",
          "name": "stdout",
          "text": [
            "['Fresas', ('naranjas', 'limones'), 'kiwis'] <class 'list'>\n",
            "('Fresas', ['Naranjas', 'limones'], 'kiwis') <class 'tuple'>\n"
          ]
        }
      ],
      "source": [
        "lista_ejemplo =[\"Fresas\", (\"naranjas\", \"limones\"), \"kiwis\"]\n",
        "tupla_lista = (\"Fresas\",[\"Naranjas\", \"limones\"], \"kiwis\")\n",
        "print(lista_ejemplo, type(lista_ejemplo))\n",
        "print(tupla_lista, type(tupla_lista))"
      ]
    },
    {
      "cell_type": "code",
      "execution_count": 21,
      "metadata": {
        "id": "xZH_-h4niIVt",
        "outputId": "55fa0038-f765-407a-dc6d-dcdec59dc82e",
        "colab": {
          "base_uri": "https://localhost:8080/"
        }
      },
      "outputs": [
        {
          "output_type": "stream",
          "name": "stdout",
          "text": [
            "('Fresas', ['Manzana', 'limones'], 'kiwis')\n"
          ]
        }
      ],
      "source": [
        "tupla_lista[1][0] = \"Manzana\" # Una lista dentro de una tupla es mutable como cualquier otra lista, pero el resto de la tupla es inmutable.\n",
        "print(tupla_lista)"
      ]
    },
    {
      "cell_type": "code",
      "source": [],
      "metadata": {
        "id": "4-lXbfW4sj3J"
      },
      "execution_count": null,
      "outputs": []
    }
  ],
  "metadata": {
    "kernelspec": {
      "display_name": "Python 3 (ipykernel)",
      "language": "python",
      "name": "python3"
    },
    "language_info": {
      "codemirror_mode": {
        "name": "ipython",
        "version": 3
      },
      "file_extension": ".py",
      "mimetype": "text/x-python",
      "name": "python",
      "nbconvert_exporter": "python",
      "pygments_lexer": "ipython3",
      "version": "3.9.7"
    },
    "colab": {
      "provenance": [],
      "include_colab_link": true
    }
  },
  "nbformat": 4,
  "nbformat_minor": 0
}