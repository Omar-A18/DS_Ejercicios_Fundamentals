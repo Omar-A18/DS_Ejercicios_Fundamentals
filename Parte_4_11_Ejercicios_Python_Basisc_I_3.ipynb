{
  "cells": [
    {
      "cell_type": "markdown",
      "metadata": {
        "id": "view-in-github",
        "colab_type": "text"
      },
      "source": [
        "<a href=\"https://colab.research.google.com/github/Omar-A18/DS_Ejercicios_Fundamentals/blob/main/Parte_4_11_Ejercicios_Python_Basisc_I_3.ipynb\" target=\"_parent\"><img src=\"https://colab.research.google.com/assets/colab-badge.svg\" alt=\"Open In Colab\"/></a>"
      ]
    },
    {
      "cell_type": "markdown",
      "metadata": {
        "id": "kuOIjfzw1nPG"
      },
      "source": [
        "![imagen](./img/ejercicios.png)"
      ]
    },
    {
      "cell_type": "markdown",
      "metadata": {
        "id": "JtdRH5fJ1nPG"
      },
      "source": [
        "## EJERCICIOS PYTHON BASICO 3:\n",
        "## Operaciones matemáticas, comparación y booleanas"
      ]
    },
    {
      "cell_type": "markdown",
      "metadata": {
        "id": "lgrD2WeZ1nPH"
      },
      "source": [
        "Completa los siguiente ejercicios, la solución completa a los mismos se publicarán en el repo del curso a lo largo del sprint. En algunos ejercicios se muestra la solución final, para que puedas comprobar que lo has hecho bien, pero lo importante es el código que generes. ¡Vaaamos, a ello...!"
      ]
    },
    {
      "cell_type": "markdown",
      "metadata": {
        "id": "M8u4LCPc1nPH"
      },
      "source": [
        "![ejercicio.png](./img/ejercicio.png)\n",
        "\n",
        "\n",
        "## Ejercicio 1\n",
        "Tenemos las siguientes variables:\n",
        "\n",
        "```Python\n",
        "A = 4\n",
        "B = \"Text\"\n",
        "C = 4.1\n",
        "```\n",
        "\n",
        "Comprueba:\n",
        "1. Si A y B son equivalentes\n",
        "2. Si A y C NO son equivalentes\n",
        "3. Si A es mayor que C\n",
        "4. Si C es menor o igual que A\n",
        "5. Si B NO es equivalente a C"
      ]
    },
    {
      "cell_type": "code",
      "execution_count": 8,
      "metadata": {
        "colab": {
          "base_uri": "https://localhost:8080/"
        },
        "id": "sfeTtDFv1nPH",
        "outputId": "539ac11c-4b34-41db-901a-b453a3498168"
      },
      "outputs": [
        {
          "output_type": "execute_result",
          "data": {
            "text/plain": [
              "True"
            ]
          },
          "metadata": {},
          "execution_count": 8
        }
      ],
      "source": [
        "A = 4\n",
        "B = \"Text\"\n",
        "C = 4.1\n",
        "A == C\n",
        "A != C\n",
        "A > C\n",
        "C <= A\n",
        "B != C\n"
      ]
    },
    {
      "cell_type": "markdown",
      "metadata": {
        "id": "Te-1cQ4x1nPI"
      },
      "source": [
        "![ejercicio.png](./img/ejercicio.png)\n",
        "\n",
        "## Ejercicio 2\n",
        "Crea un programa donde se recojan dos inputs del usuario, y el output del programa sea si esos inputs son iguales o no"
      ]
    },
    {
      "cell_type": "code",
      "execution_count": 11,
      "metadata": {
        "colab": {
          "base_uri": "https://localhost:8080/"
        },
        "id": "SCv1sz6T1nPI",
        "outputId": "1e08464d-5d56-48b8-fdbf-520fbea32f32"
      },
      "outputs": [
        {
          "output_type": "stream",
          "name": "stdout",
          "text": [
            "Escribe aqui el dato 1: 22\n",
            "Escribe aqui el dato 2: 33\n",
            "La comparativa a si son iguales los datos es:  False\n"
          ]
        }
      ],
      "source": [
        "dato_1 = input(\"Escribe aqui el dato 1: \")\n",
        "dato_2 = input(\"Escribe aqui el dato 2: \")\n",
        "comparativa = dato_1 == dato_2\n",
        "print(\"La comparativa a si son iguales los datos es: \", comparativa)"
      ]
    },
    {
      "cell_type": "markdown",
      "metadata": {
        "id": "fbrL_rX41nPI"
      },
      "source": [
        "![ejercicio.png](./img/ejercicio.png)\n",
        "\n",
        "## Ejercicio 3\n",
        "Mismo programa que en 2, pero en esta ocasión tienen que ser tres inputs y dos salidas. Una de las salidas que nos indique si todos son iguales, y la otra si al menos dos inputs sí que lo son"
      ]
    },
    {
      "cell_type": "code",
      "execution_count": 15,
      "metadata": {
        "colab": {
          "base_uri": "https://localhost:8080/"
        },
        "id": "TFEaUfiY1nPI",
        "outputId": "d30a05d9-174c-4376-c500-414cd552fa23"
      },
      "outputs": [
        {
          "output_type": "stream",
          "name": "stdout",
          "text": [
            "Escribe aqui el dato 1: 11\n",
            "Escribe aqui el dato 2: 11\n",
            "Escribe aqui el dato 3: 11\n",
            "La comparativa a si son iguales los datos es:  True\n",
            "Al menos dos si son iguales:  True\n"
          ]
        }
      ],
      "source": [
        "dato_1 = input(\"Escribe aqui el dato 1: \")\n",
        "dato_2 = input(\"Escribe aqui el dato 2: \")\n",
        "dato_3 = input(\"Escribe aqui el dato 3: \")\n",
        "comparativa_1 = dato_1 == dato_2 == dato_3\n",
        "comparativa_2 = dato_1 == dato_2 or dato_2 == dato_3 or dato_1 == dato_3\n",
        "print(\"La comparativa a si son iguales los datos es: \", comparativa_1)\n",
        "print(\"Al menos dos si son iguales: \", comparativa_2)"
      ]
    },
    {
      "cell_type": "markdown",
      "metadata": {
        "id": "l6cGgViW1nPJ"
      },
      "source": [
        "![ejercicio.png](./img/ejercicio.png)\n",
        "\n",
        "## Ejercicio 4\n",
        "Razona sin ejecutar código el output que obtendremos de las siguientes sentencias\n",
        "1. True and True and False\n",
        "2. not ((True or False) and (True or False))\n",
        "3. (False or False or False or True) and False\n",
        "4. not False and True and not True"
      ]
    },
    {
      "cell_type": "markdown",
      "source": [
        "1. **False:** porque una de las condiciones es false y como se aplica AND en todo momento, no puede ser True.\n",
        "\n",
        "2. **True:** porque las dos condiciones dentro del paréntesis (True or False) son True. Luego, True and True da True. Finalmente, not True da False\n",
        "\n",
        "3. **False:** La primera condicion puede ser cualquiera asi que es True pero la segunda al llevar el AND y ser False, no puede considerarse True.\n",
        "\n",
        "4. **False:** porque not True es equivalente a False y al tener condicion AND,\n",
        "False and True es False."
      ],
      "metadata": {
        "id": "HtIzH1iBJOQh"
      }
    },
    {
      "cell_type": "code",
      "source": [],
      "metadata": {
        "id": "FTUGMCv3LQi7"
      },
      "execution_count": null,
      "outputs": []
    }
  ],
  "metadata": {
    "kernelspec": {
      "display_name": "Curso_Online_DATA",
      "language": "python",
      "name": "python3"
    },
    "language_info": {
      "codemirror_mode": {
        "name": "ipython",
        "version": 3
      },
      "file_extension": ".py",
      "mimetype": "text/x-python",
      "name": "python",
      "nbconvert_exporter": "python",
      "pygments_lexer": "ipython3",
      "version": "3.11.5"
    },
    "orig_nbformat": 4,
    "colab": {
      "provenance": [],
      "include_colab_link": true
    }
  },
  "nbformat": 4,
  "nbformat_minor": 0
}