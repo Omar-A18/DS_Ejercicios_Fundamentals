{
  "cells": [
    {
      "cell_type": "markdown",
      "metadata": {
        "id": "view-in-github",
        "colab_type": "text"
      },
      "source": [
        "<a href=\"https://colab.research.google.com/github/Omar-A18/DS_Ejercicios_Fundamentals/blob/main/Parte_6_Programaci%C3%B3n_Orientada_a_Objetos_(POO)/Parte_6_P%C3%ADldora_3_Junyper_DS_01_02_02_N03_V03.ipynb\" target=\"_parent\"><img src=\"https://colab.research.google.com/assets/colab-badge.svg\" alt=\"Open In Colab\"/></a>"
      ]
    },
    {
      "cell_type": "markdown",
      "metadata": {
        "id": "0q48yD4ZCeq6"
      },
      "source": [
        "##  Atributos\n"
      ]
    },
    {
      "cell_type": "markdown",
      "metadata": {
        "id": "Bu8ihqbuCeq7"
      },
      "source": [
        "### Contenidos\n"
      ]
    },
    {
      "cell_type": "markdown",
      "metadata": {
        "id": "f5xM7vZTCeq8"
      },
      "source": [
        "* [Introducción  ](#Introducción--)\n"
      ]
    },
    {
      "cell_type": "markdown",
      "metadata": {
        "id": "qIU907cMCeq-"
      },
      "source": [
        "### Introducción  \n",
        "[al indice](#Contenidos)  \n",
        "Son las **características que definen a los objetos de una clase**. La marca, el color, potencia del coche. Estos son atributos, que se definen de manera genérica en la clase y luego cada objeto *Coche* tendrá un valor para cada uno de sus atributos.\n",
        "\n",
        "Los atributos los definimos tras la declaración de la clase. Y luego se accede a ellos mediante la sintaxis `objeto.atributo`\n",
        "\n",
        "Vamos a empezar a definir atributos en los coches."
      ]
    },
    {
      "cell_type": "code",
      "execution_count": 1,
      "metadata": {
        "id": "kMmA5J4ZCeq_"
      },
      "outputs": [],
      "source": [
        "class Coche:\n",
        "  puertas = 4\n",
        "  ruedas = 4"
      ]
    },
    {
      "cell_type": "markdown",
      "metadata": {
        "id": "1U7lMW-iCerB"
      },
      "source": [
        "Ahora todos los coches que creamos, tendrán 4 puertas y 4 ruedas."
      ]
    },
    {
      "cell_type": "code",
      "execution_count": 3,
      "metadata": {
        "id": "5Lyh5PuzCerC",
        "outputId": "0e53ff40-c24d-4843-b383-fdd1d74104d1",
        "colab": {
          "base_uri": "https://localhost:8080/"
        }
      },
      "outputs": [
        {
          "output_type": "stream",
          "name": "stdout",
          "text": [
            "4\n",
            "4\n"
          ]
        }
      ],
      "source": [
        "tesla = Coche()\n",
        "print(tesla.puertas)\n",
        "print(tesla.ruedas)"
      ]
    },
    {
      "cell_type": "markdown",
      "metadata": {
        "id": "Mtcti_iECerD"
      },
      "source": [
        "También podemos modificar los atributos. Esto Python lo hace muy sencillo, los cambiamos directamente reasignando valores. En otros lenguajes de programación hay que implementar esto mediante métodos  denominados `getters` y `setters`."
      ]
    },
    {
      "cell_type": "code",
      "execution_count": 4,
      "metadata": {
        "id": "w3GQHOQ5CerE",
        "outputId": "79ed060f-94d8-4d49-c073-bf0d341be06c",
        "colab": {
          "base_uri": "https://localhost:8080/"
        }
      },
      "outputs": [
        {
          "output_type": "stream",
          "name": "stdout",
          "text": [
            "3\n",
            "4\n"
          ]
        }
      ],
      "source": [
        "mercedes = Coche()\n",
        "mercedes.puertas = 3\n",
        "\n",
        "print(mercedes.puertas)\n",
        "print(tesla.puertas)"
      ]
    },
    {
      "cell_type": "code",
      "source": [
        "peugeot = Coche()\n",
        "print(peugeot.puertas)"
      ],
      "metadata": {
        "id": "Heo5X7azjUoH",
        "outputId": "7d67a4b8-ce5f-42cf-eda6-8b6c283dc158",
        "colab": {
          "base_uri": "https://localhost:8080/"
        }
      },
      "execution_count": 5,
      "outputs": [
        {
          "output_type": "stream",
          "name": "stdout",
          "text": [
            "4\n"
          ]
        }
      ]
    },
    {
      "cell_type": "markdown",
      "metadata": {
        "id": "qKcdVYSZCerE"
      },
      "source": [
        "<table align=\"left\">\n",
        " <tr><td width=\"80\"><img src=\"./img/error.png\" style=\"width:auto;height:auto\"></td>\n",
        "     <td style=\"text-align:left\">\n",
        "         <h3>ERRORES atributos que no existen</h3>\n",
        "         \n",
        " </td></tr>\n",
        "</table>"
      ]
    },
    {
      "cell_type": "code",
      "execution_count": 6,
      "metadata": {
        "id": "of0wj87yCerF",
        "outputId": "00de058b-93b5-4cf7-a37f-d29572faf4a3",
        "colab": {
          "base_uri": "https://localhost:8080/",
          "height": 141
        }
      },
      "outputs": [
        {
          "output_type": "error",
          "ename": "AttributeError",
          "evalue": "'Coche' object has no attribute 'motor'",
          "traceback": [
            "\u001b[0;31m---------------------------------------------------------------------------\u001b[0m",
            "\u001b[0;31mAttributeError\u001b[0m                            Traceback (most recent call last)",
            "\u001b[0;32m<ipython-input-6-e9f6506acf7a>\u001b[0m in \u001b[0;36m<cell line: 0>\u001b[0;34m()\u001b[0m\n\u001b[0;32m----> 1\u001b[0;31m \u001b[0mprint\u001b[0m\u001b[0;34m(\u001b[0m\u001b[0mmercedes\u001b[0m\u001b[0;34m.\u001b[0m\u001b[0mmotor\u001b[0m\u001b[0;34m)\u001b[0m\u001b[0;34m\u001b[0m\u001b[0;34m\u001b[0m\u001b[0m\n\u001b[0m",
            "\u001b[0;31mAttributeError\u001b[0m: 'Coche' object has no attribute 'motor'"
          ]
        }
      ],
      "source": [
        "print(mercedes.motor)"
      ]
    },
    {
      "cell_type": "markdown",
      "metadata": {
        "id": "fEEOW_ZHCerG"
      },
      "source": [
        "Seguimos sin poder diferenciar claramente un coche de otro, pero ya vamos definiendo sus características, que será posible ir modificándolas tanto en la inicialización del objeto, como después. De momento, tenemos características comunes a todos los coches... o no, ¿todos los coches tienen 4 puertas?"
      ]
    },
    {
      "cell_type": "code",
      "source": [
        "bmw = Coche()\n",
        "bmw.puertas = 6\n",
        "bmw.ruedas = 8"
      ],
      "metadata": {
        "id": "U_8MbH1TjvdK"
      },
      "execution_count": null,
      "outputs": []
    }
  ],
  "metadata": {
    "kernelspec": {
      "display_name": "Python 3 (ipykernel)",
      "language": "python",
      "name": "python3"
    },
    "language_info": {
      "codemirror_mode": {
        "name": "ipython",
        "version": 3
      },
      "file_extension": ".py",
      "mimetype": "text/x-python",
      "name": "python",
      "nbconvert_exporter": "python",
      "pygments_lexer": "ipython3",
      "version": "3.9.7"
    },
    "colab": {
      "provenance": [],
      "include_colab_link": true
    }
  },
  "nbformat": 4,
  "nbformat_minor": 0
}