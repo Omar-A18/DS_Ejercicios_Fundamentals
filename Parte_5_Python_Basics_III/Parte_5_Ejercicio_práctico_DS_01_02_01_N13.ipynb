{
  "cells": [
    {
      "cell_type": "markdown",
      "metadata": {
        "id": "view-in-github",
        "colab_type": "text"
      },
      "source": [
        "<a href=\"https://colab.research.google.com/github/Omar-A18/DS_Ejercicios_Fundamentals/blob/main/Parte_5_Python_Basics_III/Parte_5_Ejercicio_pr%C3%A1ctico_DS_01_02_01_N13.ipynb\" target=\"_parent\"><img src=\"https://colab.research.google.com/assets/colab-badge.svg\" alt=\"Open In Colab\"/></a>"
      ]
    },
    {
      "cell_type": "markdown",
      "metadata": {
        "id": "AyOlWS2nRWxH"
      },
      "source": [
        "## PRACTICA OBLIGATORIA: COLECCIONES Y FUNCIONES"
      ]
    },
    {
      "cell_type": "markdown",
      "metadata": {
        "id": "6UOgb0KVRWxH"
      },
      "source": [
        "* La práctica obligatoria de esta unidad consiste varios ejercicios de programación libre a completar sobre Colecciones y Funciones. Descarga este notebook en tu ordenador y trabaja en local.  \n",
        "* Recuerda que debes subirla a tu repositorio personal antes de la sesión en vivo para que puntúe adecuadamente y puedas participar en dicha sesión.  \n",
        "* Recuerda también que no es necesario que esté perfecta, sólo es necesario que se vea el esfuerzo.\n",
        "* Esta práctica se resolverá en la sesión en vivo correspondiente y la solución se publicará en el repo del curso."
      ]
    },
    {
      "cell_type": "markdown",
      "metadata": {
        "id": "j3yu-tEjRWxH"
      },
      "source": [
        "### Contenidos"
      ]
    },
    {
      "cell_type": "markdown",
      "metadata": {
        "id": "kO-fLH39RWxH"
      },
      "source": [
        "## Ejercicio 1\n",
        "Eleva todos los elementos de la lista al cuadrado\n",
        "> ```ejer_2 = [1,2,3,4,5]```"
      ]
    },
    {
      "cell_type": "code",
      "execution_count": 1,
      "metadata": {
        "id": "ks5l3yi7RWxH",
        "colab": {
          "base_uri": "https://localhost:8080/"
        },
        "outputId": "17bccff8-0a65-4bf5-fbf2-3938f62f04b4"
      },
      "outputs": [
        {
          "output_type": "stream",
          "name": "stdout",
          "text": [
            "[1, 4, 9, 16, 25]\n"
          ]
        }
      ],
      "source": [
        "ejer_2 = [1,2,3,4,5]\n",
        "\n",
        "resultado = []\n",
        "for x in ejer_2:\n",
        "    resultado.append(x ** 2)\n",
        "\n",
        "print(resultado)"
      ]
    },
    {
      "cell_type": "markdown",
      "metadata": {
        "id": "kI_Xr5oFRWxI"
      },
      "source": [
        "## Ejercicio 2\n",
        "Haz un programa que detecte todos los duplicados de un elemento en una lista:\n",
        "* Utiliza una variable duplicado para asignarle el valor del elemento del que queremos encontrar todos sus duplicados.\n",
        "* El programa debe devolver todos los índices de los elementos duplicados.\n",
        "* Aplícalo para encontrar los duplicados de \"un\", \"es\" y \"binario\" de:  \n",
        "\n",
        ">```ejer_3 = [\"Un\", \"árbol\", \"binario\", \"es\", \"una\", \"estructura\", \"de\", \"un\", \"tipo\", \"particular\", \"a\", \"veces\", \"no\", \"es\", \"ni\", \"binario\"]```\n"
      ]
    },
    {
      "cell_type": "code",
      "execution_count": 2,
      "metadata": {
        "id": "cLY9WB7YRWxI",
        "colab": {
          "base_uri": "https://localhost:8080/"
        },
        "outputId": "de9c99d0-70e9-4b5c-e478-a77225c6cc40"
      },
      "outputs": [
        {
          "output_type": "stream",
          "name": "stdout",
          "text": [
            "[0, 2, 3, 7, 13, 15]\n"
          ]
        }
      ],
      "source": [
        "ejer_3 = [\"Un\", \"árbol\", \"binario\", \"es\", \"una\", \"estructura\", \"de\", \"un\", \"tipo\", \"particular\", \"a\", \"veces\", \"no\", \"es\", \"ni\", \"binario\"]\n",
        "duplicado = []\n",
        "\n",
        "for i in range(len(ejer_3)):\n",
        "  if ejer_3[i].lower() == \"un\" or ejer_3[i].lower() == \"es\" or ejer_3[i].lower() == \"binario\":\n",
        "    duplicado.append(i)\n",
        "\n",
        "print(duplicado)\n",
        "\n",
        ""
      ]
    },
    {
      "cell_type": "markdown",
      "metadata": {
        "id": "3WrBd5QaRWxI"
      },
      "source": [
        "## Ejercicio 3\n",
        "1. ¿Cuántas veces se repite el 3 en la siguiente tupla?\n",
        "2. Crea una tupla nueva con los elementos desde la posicion 5 a la 10.\n",
        "3. ¿Cuántos elementos tiene la tupla `ejer_3`?\n",
        "> ```ejer_9 = (3, 20, 3, 47, 19, 3, 29, 45, 67, 78, 90, 3, 3, 5, 2, 4, 7, 9, 4, 2, 4, 3, 3, 4, 6, 7)```"
      ]
    },
    {
      "cell_type": "code",
      "execution_count": 3,
      "metadata": {
        "id": "bkv_R5LYRWxI",
        "colab": {
          "base_uri": "https://localhost:8080/"
        },
        "outputId": "90194c22-69f6-4514-83f1-e672c3bfdc51"
      },
      "outputs": [
        {
          "output_type": "stream",
          "name": "stdout",
          "text": [
            "1. El 3 se repite 7 veces\n",
            "2. La nueva tupla es: (19, 3, 29, 45, 67, 78)\n",
            "3. La tupla ejer_9 tiene: 26 elementos\n"
          ]
        }
      ],
      "source": [
        "ejer_9 = (3, 20, 3, 47, 19, 3, 29, 45, 67, 78, 90, 3, 3, 5, 2, 4, 7, 9, 4, 2, 4, 3, 3, 4, 6, 7)\n",
        "x = 0\n",
        "\n",
        "for i in range(len(ejer_9)):\n",
        "  if ejer_9[i] == 3:\n",
        "    x = x + 1\n",
        "print(f\"1. El 3 se repite {x} veces\")\n",
        "\n",
        "tupla_nueva = ejer_9[4:10]\n",
        "print(f\"2. La nueva tupla es: {tupla_nueva}\")\n",
        "\n",
        "print(f\"3. La tupla ejer_9 tiene: {len(ejer_9)} elementos\")\n",
        "\n"
      ]
    },
    {
      "cell_type": "markdown",
      "metadata": {
        "id": "6g8Y54AeRWxI"
      },
      "source": [
        "## Ejercicio 4\n",
        "Comprueba si el numero 60 esta en la tupla del ejercicio 3"
      ]
    },
    {
      "cell_type": "code",
      "execution_count": 83,
      "metadata": {
        "id": "F8VTEZonRWxI",
        "colab": {
          "base_uri": "https://localhost:8080/"
        },
        "outputId": "6c3e1a72-3eec-41b3-e471-216984a3c90a"
      },
      "outputs": [
        {
          "output_type": "stream",
          "name": "stdout",
          "text": [
            "No está el numero 60 dentro de la tupla\n"
          ]
        }
      ],
      "source": [
        "for i in range(len(ejer_9)):\n",
        "  if ejer_9[i] == 60:\n",
        "    print(\"Si que está el numero 60 dentro de la tupla\")\n",
        "    break\n",
        "  else:\n",
        "    print(\"No está el numero 60 dentro de la tupla\")\n",
        "    break"
      ]
    },
    {
      "cell_type": "markdown",
      "metadata": {
        "id": "y0fg-ZA6RWxI"
      },
      "source": [
        "## Ejercicio 5\n",
        "1. Convierte la tupla del ejercicio 3 en una lista\n",
        "2. Convierte la tupla del ejercicio 3 en un set\n",
        "3. Convierte la tupla del ejercicio 3 en un diccionario. Usa también los indices"
      ]
    },
    {
      "cell_type": "code",
      "execution_count": 4,
      "metadata": {
        "id": "_O5hXr01RWxI",
        "colab": {
          "base_uri": "https://localhost:8080/"
        },
        "outputId": "cab920d3-a796-4ba3-c93b-6ebf401841e4"
      },
      "outputs": [
        {
          "output_type": "stream",
          "name": "stdout",
          "text": [
            "1.  [3, 20, 3, 47, 19, 3, 29, 45, 67, 78, 90, 3, 3, 5, 2, 4, 7, 9, 4, 2, 4, 3, 3, 4, 6, 7]\n",
            "2.  {2, 3, 67, 5, 4, 7, 6, 9, 45, 78, 47, 19, 20, 90, 29}\n",
            "3.  {0: 3, 1: 20, 2: 3, 3: 47, 4: 19, 5: 3, 6: 29, 7: 45, 8: 67, 9: 78, 10: 90, 11: 3, 12: 3, 13: 5, 14: 2, 15: 4, 16: 7, 17: 9, 18: 4, 19: 2, 20: 4, 21: 3, 22: 3, 23: 4, 24: 6, 25: 7}\n"
          ]
        }
      ],
      "source": [
        "lista_ejer_9 = list(ejer_9)\n",
        "set_ejer_9 = set(ejer_9)\n",
        "dicc_ejer_9 = dict(enumerate(ejer_9))\n",
        "\n",
        "print(\"1. \", lista_ejer_9)\n",
        "print(\"2. \", set_ejer_9)\n",
        "print(\"3. \", dicc_ejer_9)\n"
      ]
    },
    {
      "cell_type": "markdown",
      "metadata": {
        "id": "eOdWWbxvRWxJ"
      },
      "source": [
        "## Ejercicio 6\n",
        "Multiplica todos los valores del diccionario\n",
        "> ```ejer_6 = {1: 11, 2: 22, 3: 33, 4: 44, 5: 55}```"
      ]
    },
    {
      "cell_type": "code",
      "execution_count": 6,
      "metadata": {
        "id": "KcuByovKRWxJ",
        "colab": {
          "base_uri": "https://localhost:8080/"
        },
        "outputId": "9593282e-5165-4771-a1d0-03e52d48fb2c"
      },
      "outputs": [
        {
          "output_type": "stream",
          "name": "stdout",
          "text": [
            "19326120\n"
          ]
        }
      ],
      "source": [
        "import math\n",
        "ejer_6 = {1: 11, 2: 22, 3: 33, 4: 44, 5: 55}\n",
        "print(math.prod(ejer_6.values()))"
      ]
    },
    {
      "cell_type": "markdown",
      "metadata": {
        "id": "W7TUSaKRRWxJ"
      },
      "source": [
        "## Ejercicio 7\n",
        "\n",
        "1. Crea un diccionario que describa un libro, con los siguientes campos o claves: \"titulo\",\"autor\",\"idioma original\",\"año de publicación\".\n",
        "2. Crea un a lista, llamada librería.\n",
        "3. Añade cuatro libros a tu elección a la librería."
      ]
    },
    {
      "cell_type": "code",
      "execution_count": 7,
      "metadata": {
        "vscode": {
          "languageId": "plaintext"
        },
        "id": "d-IMRvxRRWxJ",
        "colab": {
          "base_uri": "https://localhost:8080/"
        },
        "outputId": "98dc4e30-8d9a-4d77-88fb-d103f7a2032d"
      },
      "outputs": [
        {
          "output_type": "stream",
          "name": "stdout",
          "text": [
            "[{'autor': 'Gabriel García Márquez',\n",
            "  'año de publicación': 1967,\n",
            "  'idioma original': 'Español',\n",
            "  'titulo': 'Cien años de soledad'},\n",
            " {'autor': 'George Orwell',\n",
            "  'año de publicación': 1949,\n",
            "  'idioma original': 'Inglés',\n",
            "  'titulo': '1984'},\n",
            " {'autor': 'F. Scott Fitzgerald',\n",
            "  'año de publicación': 1925,\n",
            "  'idioma original': 'Inglés',\n",
            "  'titulo': 'El Gran Gatsby'},\n",
            " {'autor': 'Homero',\n",
            "  'año de publicación': -800,\n",
            "  'idioma original': 'Griego',\n",
            "  'titulo': 'La Odisea'}]\n"
          ]
        }
      ],
      "source": [
        "import pprint\n",
        "dicc_libro = {\n",
        "    \"titulo\":\"\",\n",
        "    \"autor\":\"\",\n",
        "    \"idioma original\": \"\",\n",
        "    \"año de publicación\": \"\"\n",
        "    }\n",
        "libreria = [{\n",
        "        \"titulo\": \"Cien años de soledad\",\n",
        "        \"autor\": \"Gabriel García Márquez\",\n",
        "        \"idioma original\": \"Español\",\n",
        "        \"año de publicación\": 1967\n",
        "    },\n",
        "    {\n",
        "        \"titulo\": \"1984\",\n",
        "        \"autor\": \"George Orwell\",\n",
        "        \"idioma original\": \"Inglés\",\n",
        "        \"año de publicación\": 1949\n",
        "    },\n",
        "    {\n",
        "        \"titulo\": \"El Gran Gatsby\",\n",
        "        \"autor\": \"F. Scott Fitzgerald\",\n",
        "        \"idioma original\": \"Inglés\",\n",
        "        \"año de publicación\": 1925\n",
        "    },\n",
        "    {\n",
        "        \"titulo\": \"La Odisea\",\n",
        "        \"autor\": \"Homero\",\n",
        "        \"idioma original\": \"Griego\",\n",
        "        \"año de publicación\": -800\n",
        "    }]\n",
        "\n",
        "pprint.pprint(libreria)"
      ]
    },
    {
      "cell_type": "markdown",
      "metadata": {
        "id": "glMoedjYRWxJ"
      },
      "source": [
        "## Ejercicio 8\n",
        "Modifica los valores del idioma de todos los libros del ejercicio anterior para que sea \"esperanto\"\n"
      ]
    },
    {
      "cell_type": "code",
      "execution_count": 8,
      "metadata": {
        "id": "veNdC-uwRWxJ",
        "colab": {
          "base_uri": "https://localhost:8080/"
        },
        "outputId": "30d74cfd-7565-422a-ae92-adecf3837ef3"
      },
      "outputs": [
        {
          "output_type": "stream",
          "name": "stdout",
          "text": [
            "[{'autor': 'Gabriel García Márquez',\n",
            "  'año de publicación': 1967,\n",
            "  'idioma original': 'Esperanto',\n",
            "  'titulo': 'Cien años de soledad'},\n",
            " {'autor': 'George Orwell',\n",
            "  'año de publicación': 1949,\n",
            "  'idioma original': 'Esperanto',\n",
            "  'titulo': '1984'},\n",
            " {'autor': 'F. Scott Fitzgerald',\n",
            "  'año de publicación': 1925,\n",
            "  'idioma original': 'Esperanto',\n",
            "  'titulo': 'El Gran Gatsby'},\n",
            " {'autor': 'Homero',\n",
            "  'año de publicación': -800,\n",
            "  'idioma original': 'Esperanto',\n",
            "  'titulo': 'La Odisea'}]\n"
          ]
        }
      ],
      "source": [
        "for libro in libreria:\n",
        "    if \"idioma original\" in libro:\n",
        "        libro[\"idioma original\"] = \"Esperanto\"\n",
        "pprint.pprint(libreria)"
      ]
    },
    {
      "cell_type": "markdown",
      "metadata": {
        "id": "DRCJG04KRWxJ"
      },
      "source": [
        "## Ejercicio 9\n",
        "1. Escribe un programa que dada una variable titulo busque los libros que hay en la librería con ese título. Si no se encuentra debe devolver el mensaje `Ese no lo tengo, ¿mola?`\n",
        "2. Prueba el programa con uno de tus libros y con otro que no contenga tu librería."
      ]
    },
    {
      "cell_type": "code",
      "execution_count": 9,
      "metadata": {
        "id": "eWHdJi9BRWxJ",
        "colab": {
          "base_uri": "https://localhost:8080/"
        },
        "outputId": "bd9bb52b-8e43-4405-c0d9-84719de1f959"
      },
      "outputs": [
        {
          "output_type": "stream",
          "name": "stdout",
          "text": [
            "Escribe el libro que quieras buscar: dwe\n",
            "Ese no lo tengo, ¿mola?\n"
          ]
        }
      ],
      "source": [
        "busqueda_libro = input(\"Escribe el libro que quieras buscar: \")\n",
        "\n",
        "for libro in libreria:\n",
        "    if libro[\"titulo\"] == busqueda_libro:\n",
        "      pprint.pprint(libro)\n",
        "      break\n",
        "else:\n",
        "    print(\"Ese no lo tengo, ¿mola?\")\n",
        "\n"
      ]
    },
    {
      "cell_type": "markdown",
      "metadata": {
        "id": "17YOpYuFRWxJ"
      },
      "source": [
        "## Ejercicio 10\n",
        "Convierte el programa del ejercicio 2 en una función al que se le pase el valor a buscar como un argumento posicional"
      ]
    },
    {
      "cell_type": "code",
      "execution_count": 32,
      "metadata": {
        "id": "xbj0LgvnRWxJ",
        "colab": {
          "base_uri": "https://localhost:8080/"
        },
        "outputId": "dc084b01-d79e-4fa9-df22-962c0910771f"
      },
      "outputs": [
        {
          "output_type": "stream",
          "name": "stdout",
          "text": [
            "Escribe la palabra a buscar TIPO\n",
            "[8]\n"
          ]
        }
      ],
      "source": [
        "ejer_3 = [\"Un\", \"árbol\", \"binario\", \"es\", \"una\", \"estructura\", \"de\", \"un\", \"tipo\", \"particular\", \"a\", \"veces\", \"no\", \"es\", \"ni\", \"binario\"]\n",
        "\n",
        "\n",
        "entrada = input(\"Escribe la palabra a buscar \")\n",
        "\n",
        "def buscador_duplicados(entrada):\n",
        "  duplicado = []\n",
        "  for i in range(len(ejer_3)):\n",
        "    if ejer_3[i].lower() == entrada.lower():\n",
        "      duplicado.append(i)\n",
        "  if duplicado:\n",
        "    return duplicado\n",
        "  else:\n",
        "    return \"Palabra no encontrada\"\n",
        "\n",
        "\n",
        "print(buscador_duplicados(entrada.lower()))"
      ]
    },
    {
      "cell_type": "markdown",
      "metadata": {
        "id": "xZ-sWJxPRWxJ"
      },
      "source": [
        "## Ejercicio 11\n",
        "Convierte el programa del ejercicio 9 en una función al que se le pasen como argumentos la librería, posicional, y el título, argumento keyword con valor \"ninguno\", por defecto."
      ]
    },
    {
      "cell_type": "code",
      "execution_count": 38,
      "metadata": {
        "id": "4-JrsMdNRWxK",
        "colab": {
          "base_uri": "https://localhost:8080/"
        },
        "outputId": "6a04fc50-9c2b-4479-c955-83c29e52091b"
      },
      "outputs": [
        {
          "output_type": "stream",
          "name": "stdout",
          "text": [
            "Escribe el libro que quieras buscar: 1984\n",
            "{'autor': 'George Orwell',\n",
            " 'año de publicación': 1949,\n",
            " 'idioma original': 'Esperanto',\n",
            " 'titulo': '1984'}\n"
          ]
        }
      ],
      "source": [
        "def programa_libros(libreria, titulo=\"ninguno\"):\n",
        "    for libro in libreria:\n",
        "        if libro[\"titulo\"].lower() == titulo.lower():\n",
        "            pprint.pprint(libro)\n",
        "            break\n",
        "    else:\n",
        "        print(\"Ese no lo tengo, ¿mola?\")\n",
        "\n",
        "\n",
        "busqueda_libro = input(\"Escribe el libro que quieras buscar: \")\n",
        "\n",
        "programa_libros(libreria, titulo=busqueda_libro)\n"
      ]
    },
    {
      "cell_type": "markdown",
      "metadata": {
        "id": "FtJir95QRWxK"
      },
      "source": [
        "## Ejercicio 12\n",
        "Solicitar al usuario que ingrese su dirección email. Imprimir un mensaje indicando si la dirección es válida o no, valiéndose de una función para decidirlo. Una dirección se considerará válida si contiene el símbolo \"@\"."
      ]
    },
    {
      "cell_type": "code",
      "execution_count": 50,
      "metadata": {
        "id": "sk852IZ8RWxK",
        "colab": {
          "base_uri": "https://localhost:8080/"
        },
        "outputId": "825475ef-f754-4bae-fd5a-b5837a475b04"
      },
      "outputs": [
        {
          "output_type": "stream",
          "name": "stdout",
          "text": [
            "Direccion de email: oiernboir@\n",
            "email valido\n"
          ]
        }
      ],
      "source": [
        "email = input(\"Direccion de email: \")\n",
        "\n",
        "def comprobacion_email(email):\n",
        "  if \"@\" in email:\n",
        "    return \"email valido\"\n",
        "  else:\n",
        "    return \"email no valido\"\n",
        "\n",
        "print(comprobacion_email(email))"
      ]
    },
    {
      "cell_type": "markdown",
      "metadata": {
        "id": "Kw1MWBwBRWxK"
      },
      "source": [
        "\n",
        "## Ejercicio 13\n",
        "Escribe una función que compruebe si un DNI es válido, devolviendo `True` en caso afirmativo.  \n",
        "En primer lugar, el DNI debe tener entre 7 y 8 dígitos numéricos.  \n",
        "Para saber si la letra del DNI es correcta puedes utilizar el siguiente fragmento de código:\n",
        ">```Python\n",
        ">DNI= 55555555\n",
        ">palabra='TRWAGMYFPDXBNJZSQVHLCKE'\n",
        ">print('La letra del DNI es: ', palabra[DNI%23])\n",
        ">````\n"
      ]
    },
    {
      "cell_type": "code",
      "execution_count": 78,
      "metadata": {
        "id": "F5Z9rSHqRWxK",
        "colab": {
          "base_uri": "https://localhost:8080/"
        },
        "outputId": "7bfed6ec-4880-4fca-e159-239cd62cab06"
      },
      "outputs": [
        {
          "output_type": "stream",
          "name": "stdout",
          "text": [
            "La letra del DNI es:  K\n"
          ]
        }
      ],
      "source": [
        "DNI= 55555555\n",
        "palabra='TRWAGMYFPDXBNJZSQVHLCKE'\n",
        "\n",
        "def comprobar_dni(DNI):\n",
        "  if len(str(DNI)) >= 7 and len(str(DNI)) <= 8:\n",
        "    DNI_int = int(DNI)\n",
        "    return DNI_int\n",
        "  else:\n",
        "    return \"El DNI debe tener entre 7 y 8 dígitos\"\n",
        "\n",
        "validado = comprobar_dni(DNI)\n",
        "\n",
        "if isinstance(validado, int):\n",
        "    print('La letra del DNI es: ', palabra[validado % 23])\n",
        "else:\n",
        "    print(validado)"
      ]
    },
    {
      "cell_type": "code",
      "source": [],
      "metadata": {
        "id": "ZTyPT7JulXut"
      },
      "execution_count": null,
      "outputs": []
    }
  ],
  "metadata": {
    "language_info": {
      "name": "python"
    },
    "orig_nbformat": 4,
    "colab": {
      "provenance": [],
      "include_colab_link": true
    },
    "kernelspec": {
      "name": "python3",
      "display_name": "Python 3"
    }
  },
  "nbformat": 4,
  "nbformat_minor": 0
}