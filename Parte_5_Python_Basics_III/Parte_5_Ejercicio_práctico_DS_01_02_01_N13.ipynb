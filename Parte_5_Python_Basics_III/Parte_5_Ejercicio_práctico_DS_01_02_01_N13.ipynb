{
  "cells": [
    {
      "cell_type": "markdown",
      "metadata": {
        "id": "view-in-github",
        "colab_type": "text"
      },
      "source": [
        "<a href=\"https://colab.research.google.com/github/Omar-A18/DS_Ejercicios_Fundamentals/blob/main/Parte_5_Python_Basics_III/Parte_5_Ejercicio_pr%C3%A1ctico_DS_01_02_01_N13.ipynb\" target=\"_parent\"><img src=\"https://colab.research.google.com/assets/colab-badge.svg\" alt=\"Open In Colab\"/></a>"
      ]
    },
    {
      "cell_type": "markdown",
      "metadata": {
        "id": "AyOlWS2nRWxH"
      },
      "source": [
        "## PRACTICA OBLIGATORIA: COLECCIONES Y FUNCIONES"
      ]
    },
    {
      "cell_type": "markdown",
      "metadata": {
        "id": "6UOgb0KVRWxH"
      },
      "source": [
        "* La práctica obligatoria de esta unidad consiste varios ejercicios de programación libre a completar sobre Colecciones y Funciones. Descarga este notebook en tu ordenador y trabaja en local.  \n",
        "* Recuerda que debes subirla a tu repositorio personal antes de la sesión en vivo para que puntúe adecuadamente y puedas participar en dicha sesión.  \n",
        "* Recuerda también que no es necesario que esté perfecta, sólo es necesario que se vea el esfuerzo.\n",
        "* Esta práctica se resolverá en la sesión en vivo correspondiente y la solución se publicará en el repo del curso."
      ]
    },
    {
      "cell_type": "markdown",
      "metadata": {
        "id": "j3yu-tEjRWxH"
      },
      "source": [
        "### Contenidos"
      ]
    },
    {
      "cell_type": "markdown",
      "metadata": {
        "id": "kO-fLH39RWxH"
      },
      "source": [
        "## Ejercicio 1\n",
        "Eleva todos los elementos de la lista al cuadrado\n",
        "> ```ejer_2 = [1,2,3,4,5]```"
      ]
    },
    {
      "cell_type": "code",
      "execution_count": 1,
      "metadata": {
        "id": "ks5l3yi7RWxH",
        "colab": {
          "base_uri": "https://localhost:8080/"
        },
        "outputId": "0966e97d-4d49-4a12-9309-77dd8f2934ed"
      },
      "outputs": [
        {
          "output_type": "stream",
          "name": "stdout",
          "text": [
            "[1, 4, 9, 16, 25]\n"
          ]
        }
      ],
      "source": [
        "ejer_2 = [1,2,3,4,5]\n",
        "\n",
        "resultado = []\n",
        "for x in ejer_2:\n",
        "    resultado.append(x ** 2)\n",
        "\n",
        "print(resultado)"
      ]
    },
    {
      "cell_type": "markdown",
      "metadata": {
        "id": "kI_Xr5oFRWxI"
      },
      "source": [
        "## Ejercicio 2\n",
        "Haz un programa que detecte todos los duplicados de un elemento en una lista:\n",
        "* Utiliza una variable duplicado para asignarle el valor del elemento del que queremos encontrar todos sus duplicados.\n",
        "* El programa debe devolver todos los índices de los elementos duplicados.\n",
        "* Aplícalo para encontrar los duplicados de \"un\", \"es\" y \"binario\" de:  \n",
        "\n",
        ">```ejer_3 = [\"Un\", \"árbol\", \"binario\", \"es\", \"una\", \"estructura\", \"de\", \"un\", \"tipo\", \"particular\", \"a\", \"veces\", \"no\", \"es\", \"ni\", \"binario\"]```\n"
      ]
    },
    {
      "cell_type": "code",
      "execution_count": 54,
      "metadata": {
        "id": "cLY9WB7YRWxI",
        "colab": {
          "base_uri": "https://localhost:8080/"
        },
        "outputId": "88b28355-0042-4302-abdf-888613829def"
      },
      "outputs": [
        {
          "output_type": "stream",
          "name": "stdout",
          "text": [
            "[0, 2, 3, 7, 13, 15]\n"
          ]
        }
      ],
      "source": [
        "ejer_3 = [\"Un\", \"árbol\", \"binario\", \"es\", \"una\", \"estructura\", \"de\", \"un\", \"tipo\", \"particular\", \"a\", \"veces\", \"no\", \"es\", \"ni\", \"binario\"]\n",
        "duplicado = []\n",
        "\n",
        "for i in range(len(ejer_3)):\n",
        "  if ejer_3[i].lower() == \"un\" or ejer_3[i].lower() == \"es\" or ejer_3[i].lower() == \"binario\":\n",
        "    duplicado.append(i)\n",
        "\n",
        "print(duplicado)\n",
        "\n",
        ""
      ]
    },
    {
      "cell_type": "markdown",
      "metadata": {
        "id": "3WrBd5QaRWxI"
      },
      "source": [
        "## Ejercicio 3\n",
        "1. ¿Cuántas veces se repite el 3 en la siguiente tupla?\n",
        "2. Crea una tupla nueva con los elementos desde la posicion 5 a la 10.\n",
        "3. ¿Cuántos elementos tiene la tupla `ejer_3`?\n",
        "> ```ejer_9 = (3, 20, 3, 47, 19, 3, 29, 45, 67, 78, 90, 3, 3, 5, 2, 4, 7, 9, 4, 2, 4, 3, 3, 4, 6, 7)```"
      ]
    },
    {
      "cell_type": "code",
      "execution_count": 76,
      "metadata": {
        "id": "bkv_R5LYRWxI",
        "colab": {
          "base_uri": "https://localhost:8080/"
        },
        "outputId": "150b0b75-50b2-41da-b683-064a302e5cbd"
      },
      "outputs": [
        {
          "output_type": "stream",
          "name": "stdout",
          "text": [
            "1. El 3 se repite 7 veces\n",
            "2. La nueva tupla es: (19, 3, 29, 45, 67, 78)\n",
            "3. La tupla ejer_9 tiene: 26 elementos\n"
          ]
        }
      ],
      "source": [
        "ejer_9 = (3, 20, 3, 47, 19, 3, 29, 45, 67, 78, 90, 3, 3, 5, 2, 4, 7, 9, 4, 2, 4, 3, 3, 4, 6, 7)\n",
        "x = 0\n",
        "\n",
        "for i in range(len(ejer_9)):\n",
        "  if ejer_9[i] == 3:\n",
        "    x = x + 1\n",
        "print(f\"1. El 3 se repite {x} veces\")\n",
        "\n",
        "tupla_nueva = ejer_9[4:10]\n",
        "print(f\"2. La nueva tupla es: {tupla_nueva}\")\n",
        "\n",
        "print(f\"3. La tupla ejer_9 tiene: {len(ejer_9)} elementos\")\n",
        "\n"
      ]
    },
    {
      "cell_type": "markdown",
      "metadata": {
        "id": "6g8Y54AeRWxI"
      },
      "source": [
        "## Ejercicio 4\n",
        "Comprueba si el numero 60 esta en la tupla del ejercicio 3"
      ]
    },
    {
      "cell_type": "code",
      "execution_count": 83,
      "metadata": {
        "id": "F8VTEZonRWxI",
        "colab": {
          "base_uri": "https://localhost:8080/"
        },
        "outputId": "6c3e1a72-3eec-41b3-e471-216984a3c90a"
      },
      "outputs": [
        {
          "output_type": "stream",
          "name": "stdout",
          "text": [
            "No está el numero 60 dentro de la tupla\n"
          ]
        }
      ],
      "source": [
        "for i in range(len(ejer_9)):\n",
        "  if ejer_9[i] == 60:\n",
        "    print(\"Si que está el numero 60 dentro de la tupla\")\n",
        "    break\n",
        "  else:\n",
        "    print(\"No está el numero 60 dentro de la tupla\")\n",
        "    break"
      ]
    },
    {
      "cell_type": "markdown",
      "metadata": {
        "id": "y0fg-ZA6RWxI"
      },
      "source": [
        "## Ejercicio 5\n",
        "1. Convierte la tupla del ejercicio 3 en una lista\n",
        "2. Convierte la tupla del ejercicio 3 en un set\n",
        "3. Convierte la tupla del ejercicio 3 en un diccionario. Usa también los indices"
      ]
    },
    {
      "cell_type": "code",
      "execution_count": null,
      "metadata": {
        "id": "_O5hXr01RWxI"
      },
      "outputs": [],
      "source": []
    },
    {
      "cell_type": "markdown",
      "metadata": {
        "id": "eOdWWbxvRWxJ"
      },
      "source": [
        "## Ejercicio 6\n",
        "Multiplica todos los valores del diccionario\n",
        "> ```ejer_6 = {1: 11, 2: 22, 3: 33, 4: 44, 5: 55}```"
      ]
    },
    {
      "cell_type": "code",
      "execution_count": null,
      "metadata": {
        "id": "KcuByovKRWxJ"
      },
      "outputs": [],
      "source": []
    },
    {
      "cell_type": "markdown",
      "metadata": {
        "id": "W7TUSaKRRWxJ"
      },
      "source": [
        "## Ejercicio 7\n",
        "\n",
        "1. Crea un diccionario que describa un libro, con los siguientes campos o claves: \"titulo\",\"autor\",\"idioma original\",\"año de publicación\".\n",
        "2. Crea un a lista, llamada librería.\n",
        "3. Añade cuatro libros a tu elección a la librería."
      ]
    },
    {
      "cell_type": "code",
      "execution_count": null,
      "metadata": {
        "vscode": {
          "languageId": "plaintext"
        },
        "id": "d-IMRvxRRWxJ"
      },
      "outputs": [],
      "source": []
    },
    {
      "cell_type": "markdown",
      "metadata": {
        "id": "glMoedjYRWxJ"
      },
      "source": [
        "## Ejercicio 8\n",
        "Modifica los valores del idioma de todos los libros del ejercicio anterior para que sea \"esperanto\"\n"
      ]
    },
    {
      "cell_type": "code",
      "execution_count": null,
      "metadata": {
        "id": "veNdC-uwRWxJ"
      },
      "outputs": [],
      "source": []
    },
    {
      "cell_type": "markdown",
      "metadata": {
        "id": "DRCJG04KRWxJ"
      },
      "source": [
        "## Ejercicio 9\n",
        "1. Escribe un programa que dada una variable titulo busque los libros que hay en la librería con ese título. Si no se encuentra debe devolver el mensaje `Ese no lo tengo, ¿mola?`\n",
        "2. Pruena que el programa con uno de tus libros y con otro que no contenga tu librería."
      ]
    },
    {
      "cell_type": "code",
      "execution_count": null,
      "metadata": {
        "id": "eWHdJi9BRWxJ"
      },
      "outputs": [],
      "source": []
    },
    {
      "cell_type": "markdown",
      "metadata": {
        "id": "17YOpYuFRWxJ"
      },
      "source": [
        "## Ejercicio 10\n",
        "Convierte el programa del ejercicio 2 en una función al que se le pase el valor a buscar como un argumento posicional"
      ]
    },
    {
      "cell_type": "code",
      "execution_count": null,
      "metadata": {
        "id": "xbj0LgvnRWxJ"
      },
      "outputs": [],
      "source": []
    },
    {
      "cell_type": "markdown",
      "metadata": {
        "id": "xZ-sWJxPRWxJ"
      },
      "source": [
        "## Ejercicio 11\n",
        "Convierte el programa del ejercicio 9 en una función al que se le pasen como argumentos la librería, posicional, y el título, argumento keyword con valor \"ninguno\", por defecto."
      ]
    },
    {
      "cell_type": "code",
      "execution_count": null,
      "metadata": {
        "id": "4-JrsMdNRWxK"
      },
      "outputs": [],
      "source": []
    },
    {
      "cell_type": "markdown",
      "metadata": {
        "id": "FtJir95QRWxK"
      },
      "source": [
        "## Ejercicio 12\n",
        "Solicitar al usuario que ingrese su dirección email. Imprimir un mensaje indicando si la dirección es válida o no, valiéndose de una función para decidirlo. Una dirección se considerará válida si contiene el símbolo \"@\"."
      ]
    },
    {
      "cell_type": "code",
      "execution_count": null,
      "metadata": {
        "id": "sk852IZ8RWxK"
      },
      "outputs": [],
      "source": []
    },
    {
      "cell_type": "markdown",
      "metadata": {
        "id": "Kw1MWBwBRWxK"
      },
      "source": [
        "## Ejercicio 13\n",
        "Escribe una función que compruebe si un DNI es válido, devolviendo `True` en caso afirmativo.  \n",
        "En primer lugar, el DNI debe tener entre 7 y 8 dígitos numéricos.  \n",
        "Para saber si la letra del DNI es correcta puedes utilizar el siguiente fragmento de código:\n",
        ">```Python\n",
        ">DNI= 55555555\n",
        ">palabra='TRWAGMYFPDXBNJZSQVHLCKE'\n",
        ">print('La letra del DNI es: ', palabra[DNI%23])\n",
        ">````\n"
      ]
    },
    {
      "cell_type": "code",
      "execution_count": null,
      "metadata": {
        "id": "F5Z9rSHqRWxK"
      },
      "outputs": [],
      "source": []
    }
  ],
  "metadata": {
    "language_info": {
      "name": "python"
    },
    "orig_nbformat": 4,
    "colab": {
      "provenance": [],
      "include_colab_link": true
    },
    "kernelspec": {
      "name": "python3",
      "display_name": "Python 3"
    }
  },
  "nbformat": 4,
  "nbformat_minor": 0
}