{
  "cells": [
    {
      "cell_type": "markdown",
      "metadata": {
        "id": "view-in-github",
        "colab_type": "text"
      },
      "source": [
        "<a href=\"https://colab.research.google.com/github/Omar-A18/DS_Ejercicios_Fundamentals/blob/main/Parte_5_P%C3%ADldora_9_Jupyter_DS_01_02_01_N08_V09.ipynb\" target=\"_parent\"><img src=\"https://colab.research.google.com/assets/colab-badge.svg\" alt=\"Open In Colab\"/></a>"
      ]
    },
    {
      "cell_type": "markdown",
      "metadata": {
        "id": "m8UbzTFYqsE1"
      },
      "source": [
        "##  Argumentos variables\n"
      ]
    },
    {
      "cell_type": "markdown",
      "metadata": {
        "id": "hT2A2julqsE1"
      },
      "source": [
        "### Contenidos\n"
      ]
    },
    {
      "cell_type": "markdown",
      "metadata": {
        "id": "VUHc7U49qsE2"
      },
      "source": [
        "* [Introducción  ](#Introducción--)\n"
      ]
    },
    {
      "cell_type": "markdown",
      "metadata": {
        "id": "xAIAA0zDqsE2"
      },
      "source": [
        "### Introducción  \n",
        "[al indice](#Contenidos)  \n",
        "En los ejemplos de la sesión anterior teníamos que fijar un número concreto de argumentos para nuestras funciones, pero hay ocasiones que no tenemos seguro cuántos argumentos son. Por suerte, las funciones de Python nos aportan esa flexibilidad mediante `*`\n",
        "\n",
        "Veamos cómo implementar una función multiplicadora con numero variable de argumentos"
      ]
    },
    {
      "cell_type": "code",
      "execution_count": 5,
      "metadata": {
        "id": "QVOsZi47qsE2",
        "outputId": "e93e1ca1-501b-4c07-d926-b7a81a681f77",
        "colab": {
          "base_uri": "https://localhost:8080/"
        }
      },
      "outputs": [
        {
          "output_type": "stream",
          "name": "stdout",
          "text": [
            "(2, 3, 5)\n",
            "<class 'tuple'>\n",
            "(1, 2, 3, 4, 56, 4)\n",
            "<class 'tuple'>\n"
          ]
        }
      ],
      "source": [
        "def multiplica(*argumentos):\n",
        "  print(argumentos)\n",
        "  print(type(argumentos))\n",
        "\n",
        "multiplica(2,3,5)\n",
        "multiplica(1,2,3,4,56,4)"
      ]
    },
    {
      "cell_type": "code",
      "source": [
        "def multiplica(*args):\n",
        "  resultado = 1\n",
        "  for indice, elemento in enumerate (args):\n",
        "    print(\"El siguiente elemento es\", args[indice])\n",
        "    resultado = resultado * elemento\n",
        "    print(\"El resultado es\", resultado)\n",
        "    return resultado\n",
        "\n",
        "multiplica(2,3,4)\n",
        "multiplica(22,55)\n",
        "multiplica()"
      ],
      "metadata": {
        "id": "h9WBB3WRrKRy",
        "outputId": "04062fa4-8d1d-433b-a508-8eb0d43fcfc6",
        "colab": {
          "base_uri": "https://localhost:8080/"
        }
      },
      "execution_count": 10,
      "outputs": [
        {
          "output_type": "stream",
          "name": "stdout",
          "text": [
            "El siguiente elemento es 2\n",
            "El resultado es 2\n",
            "El siguiente elemento es 22\n",
            "El resultado es 22\n"
          ]
        }
      ]
    },
    {
      "cell_type": "markdown",
      "metadata": {
        "id": "XaWLXGlOqsE2"
      },
      "source": [
        "Ten en cuenta que `*args` es algo variable con X elementos. Como no sabemos a priori cuantos son, tendremos que recorrerlos con un `for`, y para cada argumento, aplicarle una operación. Por tanto, `*args` es un iterable, en concreto una **tupla**. Lo que le está dando la funcionalidad de \"argumentos variables\" es `*`, no `args`. Igual que ponemos `*args`, podemos poner `*argumentos`.\n",
        "\n",
        "Puedes combinar argumentos posicionales con los `*args`"
      ]
    },
    {
      "cell_type": "code",
      "execution_count": 11,
      "metadata": {
        "id": "g9HHDdvSqsE3",
        "outputId": "50d3844a-be4d-43af-f217-25b6895a5c96",
        "colab": {
          "base_uri": "https://localhost:8080/",
          "height": 176
        }
      },
      "outputs": [
        {
          "output_type": "error",
          "ename": "TypeError",
          "evalue": "multiplica_divide() missing 1 required keyword-only argument: 'div'",
          "traceback": [
            "\u001b[0;31m---------------------------------------------------------------------------\u001b[0m",
            "\u001b[0;31mTypeError\u001b[0m                                 Traceback (most recent call last)",
            "\u001b[0;32m<ipython-input-11-a25f0aef2242>\u001b[0m in \u001b[0;36m<cell line: 0>\u001b[0;34m()\u001b[0m\n\u001b[1;32m      8\u001b[0m   \u001b[0;32mreturn\u001b[0m \u001b[0mresultado\u001b[0m\u001b[0;34m\u001b[0m\u001b[0;34m\u001b[0m\u001b[0m\n\u001b[1;32m      9\u001b[0m \u001b[0;34m\u001b[0m\u001b[0m\n\u001b[0;32m---> 10\u001b[0;31m \u001b[0mmultiplica_divide\u001b[0m\u001b[0;34m(\u001b[0m\u001b[0;36m10\u001b[0m\u001b[0;34m,\u001b[0m\u001b[0;36m34\u001b[0m\u001b[0;34m,\u001b[0m\u001b[0;36m21\u001b[0m\u001b[0;34m,\u001b[0m\u001b[0;36m5\u001b[0m\u001b[0;34m)\u001b[0m\u001b[0;34m\u001b[0m\u001b[0;34m\u001b[0m\u001b[0m\n\u001b[0m",
            "\u001b[0;31mTypeError\u001b[0m: multiplica_divide() missing 1 required keyword-only argument: 'div'"
          ]
        }
      ],
      "source": [
        "# En este ejemplo, uso el ultimo argumento para dividir todo lo que habiamos multiplicado por este argumento\n",
        "\n",
        "def multiplica_divide(*args, div):\n",
        "  resultado = 1\n",
        "  for i in args:\n",
        "    resultado = resultado * i\n",
        "  resultado = resultado / div\n",
        "  return resultado\n",
        "\n",
        "multiplica_divide(10,34,21,5)"
      ]
    },
    {
      "cell_type": "code",
      "source": [
        "def multiplica_divide(*args, div):\n",
        "  resultado = 1\n",
        "  for i in args:\n",
        "    resultado = resultado * i\n",
        "  resultado = resultado / div\n",
        "  return resultado\n",
        "\n",
        "multiplica_divide(10,34,21,div = 5)"
      ],
      "metadata": {
        "id": "67lyw5hottFb",
        "outputId": "c78efe5d-d658-4e18-babc-b75c948b83b9",
        "colab": {
          "base_uri": "https://localhost:8080/"
        }
      },
      "execution_count": 12,
      "outputs": [
        {
          "output_type": "execute_result",
          "data": {
            "text/plain": [
              "1428.0"
            ]
          },
          "metadata": {},
          "execution_count": 12
        }
      ]
    },
    {
      "cell_type": "code",
      "source": [
        "def multiplica_divide(div, *args):\n",
        "  resultado = 1\n",
        "  for i in args:\n",
        "    resultado = resultado * i\n",
        "  resultado = resultado / div\n",
        "  return resultado\n",
        "\n",
        "multiplica_divide(5,10,34,21)"
      ],
      "metadata": {
        "id": "xa1mHmWwt3E3",
        "outputId": "52d334ac-0196-4814-86c2-8f3ccc5cb79f",
        "colab": {
          "base_uri": "https://localhost:8080/"
        }
      },
      "execution_count": 15,
      "outputs": [
        {
          "output_type": "execute_result",
          "data": {
            "text/plain": [
              "1428.0"
            ]
          },
          "metadata": {},
          "execution_count": 15
        }
      ]
    },
    {
      "cell_type": "markdown",
      "metadata": {
        "id": "moFUOyQzqsE3"
      },
      "source": [
        "<table align=\"left\">\n",
        " <tr>\n",
        "     <td style=\"text-align:left\">\n",
        "         <h3>ERRORES con argumentos variables</h3>\n",
        "         \n",
        " </td></tr>\n",
        "</table>"
      ]
    },
    {
      "cell_type": "markdown",
      "metadata": {
        "id": "L0hKrf7GqsE3"
      },
      "source": [
        "Declara los argumentos variables al principio, y los fijos al final para evitar errores. Además, si los combinas, tendrás que concretar cuáles son los argumentos fijos"
      ]
    },
    {
      "cell_type": "code",
      "execution_count": null,
      "metadata": {
        "id": "tNto5PPZqsE4"
      },
      "outputs": [],
      "source": []
    },
    {
      "cell_type": "code",
      "execution_count": null,
      "metadata": {
        "id": "JsoRCNJEqsE4"
      },
      "outputs": [],
      "source": []
    }
  ],
  "metadata": {
    "kernelspec": {
      "display_name": "Python 3 (ipykernel)",
      "language": "python",
      "name": "python3"
    },
    "language_info": {
      "codemirror_mode": {
        "name": "ipython",
        "version": 3
      },
      "file_extension": ".py",
      "mimetype": "text/x-python",
      "name": "python",
      "nbconvert_exporter": "python",
      "pygments_lexer": "ipython3",
      "version": "3.9.7"
    },
    "colab": {
      "provenance": [],
      "include_colab_link": true
    }
  },
  "nbformat": 4,
  "nbformat_minor": 0
}
