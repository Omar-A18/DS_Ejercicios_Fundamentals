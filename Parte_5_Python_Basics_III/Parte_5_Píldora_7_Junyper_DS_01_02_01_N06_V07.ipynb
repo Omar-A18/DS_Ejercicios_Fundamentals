{
  "cells": [
    {
      "cell_type": "markdown",
      "metadata": {
        "id": "view-in-github",
        "colab_type": "text"
      },
      "source": [
        "<a href=\"https://colab.research.google.com/github/Omar-A18/DS_Ejercicios_Fundamentals/blob/main/Parte_5_P%C3%ADldora_7_Junyper_DS_01_02_01_N06_V07.ipynb\" target=\"_parent\"><img src=\"https://colab.research.google.com/assets/colab-badge.svg\" alt=\"Open In Colab\"/></a>"
      ]
    },
    {
      "cell_type": "markdown",
      "metadata": {
        "id": "qq2AHWrLPXjJ"
      },
      "source": [
        "##  Funciones de usuario II"
      ]
    },
    {
      "cell_type": "markdown",
      "metadata": {
        "id": "Qbs02RZBPXjK"
      },
      "source": [
        "### Contenidos"
      ]
    },
    {
      "cell_type": "markdown",
      "metadata": {
        "id": "z72V6eqyPXjK"
      },
      "source": [
        "* [Return](#Return)\n",
        "\n",
        "* [Tipos de datos de los argumentos](#Tipos-de-datos-de-los-argumentos)\n",
        "\n",
        "* [Errores típicos con funciones](#Errores-típicos-con-funciones)\n",
        "\n"
      ]
    },
    {
      "cell_type": "markdown",
      "metadata": {
        "id": "Gdb6qrS8PXjL"
      },
      "source": [
        "### Return\n",
        "[al indice](#Contenidos)  \n",
        "\n",
        "\n",
        "Continuamos con las funciones definidas por el usuario. Recuerda que la sintaxis que vimos en el anterior notebook era:\n",
        "\n",
        "\n",
        "> ```Python\n",
        "> def nombre_funcion(entrada):\n",
        ">    operaciones varias\n",
        ">    return output\n",
        "> ```\n",
        "\n",
        "Hicimos un ejemplo de función que nos devolvía un resultado (output) que podíamos almacenar en una variable... pero las funciones **tampoco tienen por qué llevar un `return`**. No siempre es necesario un output. En tal caso, devuelve `None`"
      ]
    },
    {
      "cell_type": "code",
      "execution_count": 1,
      "metadata": {
        "id": "SOCJKtcBPXjL"
      },
      "outputs": [],
      "source": [
        "from datetime import datetime\n",
        "\n",
        "def que_hora_es():\n",
        "    now = datetime.now().time()\n",
        "    print(now)\n"
      ]
    },
    {
      "cell_type": "code",
      "source": [
        "hora = que_hora_es()\n",
        "print(hora, type(hora))"
      ],
      "metadata": {
        "id": "2-PPRxe-QH5k",
        "outputId": "ebe66bf2-dc2d-4701-f6e5-4907d3142f74",
        "colab": {
          "base_uri": "https://localhost:8080/"
        }
      },
      "execution_count": 2,
      "outputs": [
        {
          "output_type": "stream",
          "name": "stdout",
          "text": [
            "11:13:04.975160\n",
            "None <class 'NoneType'>\n"
          ]
        }
      ]
    },
    {
      "cell_type": "code",
      "source": [
        "print(now)"
      ],
      "metadata": {
        "id": "_M4RPDJPQlTc",
        "outputId": "0a75f6bf-ef99-4250-e639-5a14ce325b66",
        "colab": {
          "base_uri": "https://localhost:8080/",
          "height": 141
        }
      },
      "execution_count": 5,
      "outputs": [
        {
          "output_type": "error",
          "ename": "NameError",
          "evalue": "name 'now' is not defined",
          "traceback": [
            "\u001b[0;31m---------------------------------------------------------------------------\u001b[0m",
            "\u001b[0;31mNameError\u001b[0m                                 Traceback (most recent call last)",
            "\u001b[0;32m<ipython-input-5-8f809bfe5504>\u001b[0m in \u001b[0;36m<cell line: 0>\u001b[0;34m()\u001b[0m\n\u001b[0;32m----> 1\u001b[0;31m \u001b[0mprint\u001b[0m\u001b[0;34m(\u001b[0m\u001b[0mnow\u001b[0m\u001b[0;34m)\u001b[0m\u001b[0;34m\u001b[0m\u001b[0;34m\u001b[0m\u001b[0m\n\u001b[0m",
            "\u001b[0;31mNameError\u001b[0m: name 'now' is not defined"
          ]
        }
      ]
    },
    {
      "cell_type": "markdown",
      "metadata": {
        "id": "LKxAFJd9PXjM"
      },
      "source": [
        "También **puedes poner varias salidas en el return**. En ese caso, si no se especifica nada más la salida de la función será de tipo \"tupla\" (tuple). Pero generalmente los agrupamos en una colección."
      ]
    },
    {
      "cell_type": "code",
      "execution_count": 13,
      "metadata": {
        "id": "piHBPs5nPXjM"
      },
      "outputs": [],
      "source": [
        "def conversor_km_millas(distancia):\n",
        "    millas = 0.62 * distancia\n",
        "    metros = 1000 * distancia\n",
        "    return [round(millas,1), millas, metros] # Podemor retornar una lsita, tupla, funcion o cualquier dato"
      ]
    },
    {
      "cell_type": "code",
      "source": [
        "salida = conversor_km_millas(2221)\n",
        "print(salida)\n",
        "print(type(salida))"
      ],
      "metadata": {
        "id": "btrjmrvMRAm4",
        "outputId": "d938b7ad-63a7-46d1-e9b8-42ffb639a306",
        "colab": {
          "base_uri": "https://localhost:8080/"
        }
      },
      "execution_count": 14,
      "outputs": [
        {
          "output_type": "stream",
          "name": "stdout",
          "text": [
            "[1377.0, 1377.02, 2221000]\n",
            "<class 'list'>\n"
          ]
        }
      ]
    },
    {
      "cell_type": "markdown",
      "metadata": {
        "id": "8RqCOmO0PXjN"
      },
      "source": [
        "### Tipos de datos de los argumentos\n",
        "[al indice](#Contenidos)  \n",
        "\n",
        "Lo que quieras: numeros, texto, listas, tuplas, diccionarios, objetos de clases que hayas definido..."
      ]
    },
    {
      "cell_type": "code",
      "execution_count": 17,
      "metadata": {
        "id": "EOYQhHhcPXjN"
      },
      "outputs": [],
      "source": [
        "def recibe_mix(tupla, lista, diccionario):\n",
        "  print(\"tupla contiene:\")\n",
        "  print(tupla)\n",
        "  print(\"y es de tipo:\", type(tupla))\n",
        "  print(\"tupla contiene:\")\n",
        "  print(lista)\n",
        "  print(\"y es de tipo:\", type(lista))\n",
        "  print(\"tupla contiene:\")\n",
        "  print(diccionario)\n",
        "  print(\"y es de tipo:\", type(diccionario))\n",
        "  return [type(tupla), type(lista), type(diccionario)]"
      ]
    },
    {
      "cell_type": "code",
      "source": [
        "recibe_mix((12,34,23), [\"Esto\", \"es\", \"una\", \"lista\"], {\"key1\":\"valor1\"})"
      ],
      "metadata": {
        "id": "yUKmrU9mScEH",
        "outputId": "c67d43ea-381a-46cd-ad01-14ec0169d9cc",
        "colab": {
          "base_uri": "https://localhost:8080/"
        }
      },
      "execution_count": 18,
      "outputs": [
        {
          "output_type": "stream",
          "name": "stdout",
          "text": [
            "tupla contiene:\n",
            "(12, 34, 23)\n",
            "y es de tipo: <class 'tuple'>\n",
            "tupla contiene:\n",
            "['Esto', 'es', 'una', 'lista']\n",
            "y es de tipo: <class 'list'>\n",
            "tupla contiene:\n",
            "{'key1': 'valor1'}\n",
            "y es de tipo: <class 'dict'>\n"
          ]
        },
        {
          "output_type": "execute_result",
          "data": {
            "text/plain": [
              "[tuple, list, dict]"
            ]
          },
          "metadata": {},
          "execution_count": 18
        }
      ]
    },
    {
      "cell_type": "code",
      "source": [
        "recibe_mix(1,\"Hola\", True)"
      ],
      "metadata": {
        "id": "HPh290KmThca",
        "outputId": "f3f937f2-9ada-461f-9ad3-c17096abaabf",
        "colab": {
          "base_uri": "https://localhost:8080/"
        }
      },
      "execution_count": 19,
      "outputs": [
        {
          "output_type": "stream",
          "name": "stdout",
          "text": [
            "tupla contiene:\n",
            "1\n",
            "y es de tipo: <class 'int'>\n",
            "tupla contiene:\n",
            "Hola\n",
            "y es de tipo: <class 'str'>\n",
            "tupla contiene:\n",
            "True\n",
            "y es de tipo: <class 'bool'>\n"
          ]
        },
        {
          "output_type": "execute_result",
          "data": {
            "text/plain": [
              "[int, str, bool]"
            ]
          },
          "metadata": {},
          "execution_count": 19
        }
      ]
    },
    {
      "cell_type": "markdown",
      "metadata": {
        "id": "80iJ5e4UPXjN"
      },
      "source": [
        "### Errores típicos con funciones\n",
        "[al indice](#Contenidos)  \n",
        "\n"
      ]
    },
    {
      "cell_type": "markdown",
      "metadata": {
        "id": "3z1LsLaRPXjN"
      },
      "source": [
        "<table align=\"left\">\n",
        " <tr>\n",
        "     <td style=\"text-align:left\">\n",
        "         <h3>ERRORES variables de la función</h3>\n",
        "         \n",
        " </td></tr>\n",
        "</table>"
      ]
    },
    {
      "cell_type": "code",
      "execution_count": 23,
      "metadata": {
        "id": "leCo2qFDPXjN",
        "outputId": "342df973-f3d0-428f-e8ef-a9eeba528f09",
        "colab": {
          "base_uri": "https://localhost:8080/",
          "height": 193
        }
      },
      "outputs": [
        {
          "output_type": "stream",
          "name": "stdout",
          "text": [
            "124.0\n"
          ]
        },
        {
          "output_type": "error",
          "ename": "NameError",
          "evalue": "name 'millas' is not defined",
          "traceback": [
            "\u001b[0;31m---------------------------------------------------------------------------\u001b[0m",
            "\u001b[0;31mNameError\u001b[0m                                 Traceback (most recent call last)",
            "\u001b[0;32m<ipython-input-23-b811e03d0a78>\u001b[0m in \u001b[0;36m<cell line: 0>\u001b[0;34m()\u001b[0m\n\u001b[1;32m      7\u001b[0m \u001b[0;34m\u001b[0m\u001b[0m\n\u001b[1;32m      8\u001b[0m \u001b[0mprint\u001b[0m\u001b[0;34m(\u001b[0m\u001b[0mkm2millas\u001b[0m\u001b[0;34m(\u001b[0m\u001b[0;36m200\u001b[0m\u001b[0;34m)\u001b[0m\u001b[0;34m)\u001b[0m\u001b[0;34m\u001b[0m\u001b[0;34m\u001b[0m\u001b[0m\n\u001b[0;32m----> 9\u001b[0;31m \u001b[0mprint\u001b[0m\u001b[0;34m(\u001b[0m\u001b[0mmillas\u001b[0m\u001b[0;34m)\u001b[0m\u001b[0;34m\u001b[0m\u001b[0;34m\u001b[0m\u001b[0m\n\u001b[0m",
            "\u001b[0;31mNameError\u001b[0m: name 'millas' is not defined"
          ]
        }
      ],
      "source": [
        "# Todo lo que declaremos dentro de la función se crea UNICAMENTE para la función\n",
        "# Fuera de la misma, esas variables no existen\n",
        "\n",
        "def km2millas(dist):\n",
        "  millas = dist * 0.62\n",
        "  return round(millas, 2)\n",
        "\n",
        "print(km2millas(200))\n",
        "print(millas)"
      ]
    },
    {
      "cell_type": "markdown",
      "metadata": {
        "id": "NnpBqFGCPXjO"
      },
      "source": [
        "Se crea un namespace interno dentro de las funciones, es decir, que lo que declaremos dentro, se queda dentro. No lo podremos usar fuera. Además, ten en cuenta que todo lo que introduzcamos dentro de flujos de control (`if/else`, bucles...), nos vale para el resto de la función"
      ]
    },
    {
      "cell_type": "code",
      "execution_count": 24,
      "metadata": {
        "id": "WQ2V6GQOPXjO",
        "outputId": "07b7d0de-42f5-45b4-9a70-2e4ced4c2849",
        "colab": {
          "base_uri": "https://localhost:8080/"
        }
      },
      "outputs": [
        {
          "output_type": "execute_result",
          "data": {
            "text/plain": [
              "1"
            ]
          },
          "metadata": {},
          "execution_count": 24
        }
      ],
      "source": [
        "def numero_ifs(numero):\n",
        "    if numero == 1:\n",
        "        out = 1\n",
        "    return out\n",
        "\n",
        "numero_ifs(1)"
      ]
    },
    {
      "cell_type": "code",
      "execution_count": 25,
      "metadata": {
        "id": "RkNekNFTPXjO",
        "outputId": "132f02ea-df4d-44ef-eaff-63fd5bf05834",
        "colab": {
          "base_uri": "https://localhost:8080/",
          "height": 262
        }
      },
      "outputs": [
        {
          "output_type": "error",
          "ename": "UnboundLocalError",
          "evalue": "cannot access local variable 'out' where it is not associated with a value",
          "traceback": [
            "\u001b[0;31m---------------------------------------------------------------------------\u001b[0m",
            "\u001b[0;31mUnboundLocalError\u001b[0m                         Traceback (most recent call last)",
            "\u001b[0;32m<ipython-input-25-d13f94f16dc2>\u001b[0m in \u001b[0;36m<cell line: 0>\u001b[0;34m()\u001b[0m\n\u001b[0;32m----> 1\u001b[0;31m \u001b[0mnumero_ifs\u001b[0m\u001b[0;34m(\u001b[0m\u001b[0;36m2\u001b[0m\u001b[0;34m)\u001b[0m\u001b[0;34m\u001b[0m\u001b[0;34m\u001b[0m\u001b[0m\n\u001b[0m",
            "\u001b[0;32m<ipython-input-24-4738d88f8f5c>\u001b[0m in \u001b[0;36mnumero_ifs\u001b[0;34m(numero)\u001b[0m\n\u001b[1;32m      2\u001b[0m     \u001b[0;32mif\u001b[0m \u001b[0mnumero\u001b[0m \u001b[0;34m==\u001b[0m \u001b[0;36m1\u001b[0m\u001b[0;34m:\u001b[0m\u001b[0;34m\u001b[0m\u001b[0;34m\u001b[0m\u001b[0m\n\u001b[1;32m      3\u001b[0m         \u001b[0mout\u001b[0m \u001b[0;34m=\u001b[0m \u001b[0;36m1\u001b[0m\u001b[0;34m\u001b[0m\u001b[0;34m\u001b[0m\u001b[0m\n\u001b[0;32m----> 4\u001b[0;31m     \u001b[0;32mreturn\u001b[0m \u001b[0mout\u001b[0m\u001b[0;34m\u001b[0m\u001b[0;34m\u001b[0m\u001b[0m\n\u001b[0m\u001b[1;32m      5\u001b[0m \u001b[0;34m\u001b[0m\u001b[0m\n\u001b[1;32m      6\u001b[0m \u001b[0mnumero_ifs\u001b[0m\u001b[0;34m(\u001b[0m\u001b[0;36m1\u001b[0m\u001b[0;34m)\u001b[0m\u001b[0;34m\u001b[0m\u001b[0;34m\u001b[0m\u001b[0m\n",
            "\u001b[0;31mUnboundLocalError\u001b[0m: cannot access local variable 'out' where it is not associated with a value"
          ]
        }
      ],
      "source": [
        "numero_ifs(2)"
      ]
    },
    {
      "cell_type": "code",
      "execution_count": 27,
      "metadata": {
        "id": "vp0o3V4NPXjO",
        "outputId": "b4cbbd89-290b-40aa-bea4-69a1542cb4ef",
        "colab": {
          "base_uri": "https://localhost:8080/",
          "height": 158
        }
      },
      "outputs": [
        {
          "output_type": "error",
          "ename": "TypeError",
          "evalue": "km2millas() missing 1 required positional argument: 'dist'",
          "traceback": [
            "\u001b[0;31m---------------------------------------------------------------------------\u001b[0m",
            "\u001b[0;31mTypeError\u001b[0m                                 Traceback (most recent call last)",
            "\u001b[0;32m<ipython-input-27-0f9607527252>\u001b[0m in \u001b[0;36m<cell line: 0>\u001b[0;34m()\u001b[0m\n\u001b[1;32m      1\u001b[0m \u001b[0;31m# Si no introducimos argumentos en una función que SI tiene argumentos, salta un error de este estilo\u001b[0m\u001b[0;34m\u001b[0m\u001b[0;34m\u001b[0m\u001b[0m\n\u001b[0;32m----> 2\u001b[0;31m \u001b[0mmillas\u001b[0m \u001b[0;34m=\u001b[0m \u001b[0mkm2millas\u001b[0m\u001b[0;34m(\u001b[0m\u001b[0;34m)\u001b[0m\u001b[0;34m\u001b[0m\u001b[0;34m\u001b[0m\u001b[0m\n\u001b[0m",
            "\u001b[0;31mTypeError\u001b[0m: km2millas() missing 1 required positional argument: 'dist'"
          ]
        }
      ],
      "source": [
        "# Si no introducimos argumentos en una función que SI tiene argumentos, salta un error de este estilo\n",
        "millas = km2millas()"
      ]
    },
    {
      "cell_type": "markdown",
      "metadata": {
        "id": "qDc7vwHEPXjO"
      },
      "source": [
        "Cuidado también con la sintaxis de línea. Después de dos puntos `:`, viene todo el bloque de código tabulado, de la función"
      ]
    },
    {
      "cell_type": "code",
      "execution_count": 29,
      "metadata": {
        "id": "r0lHy7tPPXjO",
        "outputId": "5bb73762-913c-43e0-9a64-dc59bd042b58",
        "colab": {
          "base_uri": "https://localhost:8080/",
          "height": 106
        }
      },
      "outputs": [
        {
          "output_type": "error",
          "ename": "IndentationError",
          "evalue": "expected an indented block after function definition on line 1 (<ipython-input-29-8e1b668da96f>, line 2)",
          "traceback": [
            "\u001b[0;36m  File \u001b[0;32m\"<ipython-input-29-8e1b668da96f>\"\u001b[0;36m, line \u001b[0;32m2\u001b[0m\n\u001b[0;31m    print(otro_argumento)\u001b[0m\n\u001b[0m    ^\u001b[0m\n\u001b[0;31mIndentationError\u001b[0m\u001b[0;31m:\u001b[0m expected an indented block after function definition on line 1\n"
          ]
        }
      ],
      "source": [
        "def mala_funcion(otro_argumento):\n",
        "print(otro_argumento)\n",
        "return[otro_argumento]"
      ]
    },
    {
      "cell_type": "code",
      "execution_count": null,
      "metadata": {
        "id": "s6GgiTRiPXjO"
      },
      "outputs": [],
      "source": []
    }
  ],
  "metadata": {
    "kernelspec": {
      "display_name": "Python 3 (ipykernel)",
      "language": "python",
      "name": "python3"
    },
    "language_info": {
      "codemirror_mode": {
        "name": "ipython",
        "version": 3
      },
      "file_extension": ".py",
      "mimetype": "text/x-python",
      "name": "python",
      "nbconvert_exporter": "python",
      "pygments_lexer": "ipython3",
      "version": "3.9.7"
    },
    "colab": {
      "provenance": [],
      "include_colab_link": true
    }
  },
  "nbformat": 4,
  "nbformat_minor": 0
}
