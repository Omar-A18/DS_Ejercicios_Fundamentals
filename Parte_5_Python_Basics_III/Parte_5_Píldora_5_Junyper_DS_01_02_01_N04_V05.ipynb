{
  "cells": [
    {
      "cell_type": "markdown",
      "metadata": {
        "id": "view-in-github",
        "colab_type": "text"
      },
      "source": [
        "<a href=\"https://colab.research.google.com/github/Omar-A18/DS_Ejercicios_Fundamentals/blob/main/Parte_5_P%C3%ADldora_5_Junyper_DS_01_02_01_N04_V05.ipynb\" target=\"_parent\"><img src=\"https://colab.research.google.com/assets/colab-badge.svg\" alt=\"Open In Colab\"/></a>"
      ]
    },
    {
      "cell_type": "markdown",
      "metadata": {
        "id": "iv7h6npSG6Tv"
      },
      "source": [
        "## Colecciones Python: Sets\n"
      ]
    },
    {
      "cell_type": "markdown",
      "metadata": {
        "id": "yz9l1lIGG6Tw"
      },
      "source": [
        "### Contenidos\n"
      ]
    },
    {
      "cell_type": "markdown",
      "metadata": {
        "id": "Q0oJR9CGG6Tw"
      },
      "source": [
        "* [Introducción](#Introducción)\n",
        "\n"
      ]
    },
    {
      "cell_type": "markdown",
      "metadata": {
        "id": "VljnT0SoG6Tw"
      },
      "source": [
        "### Introducción\n",
        "[al indice](#Contenidos)  \n",
        "\n",
        "Otra colección *bulit-in* de Python, compuesta por un conjunto de *valores*. Muy parecidos a las listas. Tienen las siguientes características:\n",
        "* **Mutables**: podemos modificarlos una vez se hayan creado\n",
        "* **No ordenado**\n",
        "* **Elementos unicos**: se compone de un conjunto de valores únicas\n",
        "\n",
        "**¿Cuándo usar sets?** Cuando estemos buscando unicidad en nuestros datos y no nos importe el orden.\n",
        "\n",
        "Te dejo por aquí [la documentación](https://docs.python.org/2/library/sets.html) para realizar consultas sobre los sets\n",
        "\n",
        "Si sintaxis es:\n",
        ">```Python\n",
        "> mi_set = {elemento1, elemento2, elemento3}\n",
        ">```\n",
        "\n",
        "Tiene una sintaxis muy parecida a la de las listas, pero en este caso no se utilizan los `{}`."
      ]
    },
    {
      "cell_type": "code",
      "execution_count": 16,
      "metadata": {
        "colab": {
          "base_uri": "https://localhost:8080/"
        },
        "id": "ZNlgeUOqG6Tw",
        "outputId": "26f406de-1fbc-435d-e077-1af6d2d64924"
      },
      "outputs": [
        {
          "output_type": "stream",
          "name": "stdout",
          "text": [
            "{'rojo', 'naranja', 'verde', 'azul'}\n",
            "<class 'set'>\n",
            "4\n"
          ]
        }
      ],
      "source": [
        "colores = {\"azul\",\"rojo\", \"verde\",\"naranja\",\"azul\"}\n",
        "print(colores)\n",
        "print(type(colores))\n",
        "print(len(colores))"
      ]
    },
    {
      "cell_type": "markdown",
      "metadata": {
        "id": "H3wybCvcG6Tx"
      },
      "source": [
        "Los elementos del set son unicos, por lo que si en la declaración, o posteriormente añadiendo elementos hubiese algún duplicado, el set lo ignoraría. Es más, cuando aplicas el `len`, muestra la cantidad de valores únicos que tiene."
      ]
    },
    {
      "cell_type": "code",
      "execution_count": 17,
      "metadata": {
        "colab": {
          "base_uri": "https://localhost:8080/"
        },
        "id": "PrigAcDTG6Tx",
        "outputId": "b3a715bc-a8cc-43f6-b0ec-b251dadfc50a"
      },
      "outputs": [
        {
          "output_type": "stream",
          "name": "stdout",
          "text": [
            "{'naranja', 'verde', 'magenta', 'azul', 'rojo'}\n",
            "{'burdeos', 'naranja', 'verde', 'celeste', 'magenta', 'azul', 'rojo'}\n",
            "{'burdeos', 'verde', 'celeste', 'magenta', 'azul', 'rojo'}\n",
            "burdeos\n",
            "verde\n",
            "celeste\n",
            "magenta\n",
            "azul\n",
            "rojo\n"
          ]
        }
      ],
      "source": [
        "# Añadir valores\n",
        "\n",
        "colores.add(\"magenta\")\n",
        "print(colores)\n",
        "\n",
        "colores.update([\"celeste\",\"burdeos\",\"naranja\"])\n",
        "print(colores)\n",
        "\n",
        "colores.remove(\"naranja\")\n",
        "print(colores)\n",
        "\n",
        "for color in colores:\n",
        "  print(color)"
      ]
    },
    {
      "cell_type": "markdown",
      "metadata": {
        "id": "vOgxClWNG6Tx"
      },
      "source": [
        "Para comprobar si dos sets tienen los mismos elementos"
      ]
    },
    {
      "cell_type": "code",
      "execution_count": 19,
      "metadata": {
        "colab": {
          "base_uri": "https://localhost:8080/"
        },
        "id": "nNSjnUt_G6Ty",
        "outputId": "651f8195-8b51-4ed1-b41e-cd53e0ddbea8"
      },
      "outputs": [
        {
          "output_type": "execute_result",
          "data": {
            "text/plain": [
              "True"
            ]
          },
          "metadata": {},
          "execution_count": 19
        }
      ],
      "source": [
        "set1 = {1,2,4,4,2,1,2,1}\n",
        "set2 = {2,1,4}\n",
        "\n",
        "set1 == set2"
      ]
    },
    {
      "cell_type": "code",
      "source": [
        "lista_con = [100,19,3,4,33,56,4,33,12,100,12,4,4]\n",
        "print(lista_con)\n",
        "#print(set(lista_con))\n",
        "#print(list(set(lista_con)))\n",
        "lista_con = list(set(lista_con))\n",
        "print(lista_con)"
      ],
      "metadata": {
        "colab": {
          "base_uri": "https://localhost:8080/"
        },
        "id": "EZT0XLG-KXn-",
        "outputId": "80f926e2-ba2e-4bed-8f65-7633fb3a95f1"
      },
      "execution_count": 21,
      "outputs": [
        {
          "output_type": "stream",
          "name": "stdout",
          "text": [
            "[100, 19, 3, 4, 33, 56, 4, 33, 12, 100, 12, 4, 4]\n",
            "[33, 3, 100, 4, 12, 19, 56]\n"
          ]
        }
      ]
    },
    {
      "cell_type": "code",
      "source": [],
      "metadata": {
        "id": "-Jm5YqsnLJBv"
      },
      "execution_count": null,
      "outputs": []
    }
  ],
  "metadata": {
    "kernelspec": {
      "display_name": "Python 3 (ipykernel)",
      "language": "python",
      "name": "python3"
    },
    "language_info": {
      "codemirror_mode": {
        "name": "ipython",
        "version": 3
      },
      "file_extension": ".py",
      "mimetype": "text/x-python",
      "name": "python",
      "nbconvert_exporter": "python",
      "pygments_lexer": "ipython3",
      "version": "3.9.7"
    },
    "colab": {
      "provenance": [],
      "include_colab_link": true
    }
  },
  "nbformat": 4,
  "nbformat_minor": 0
}
