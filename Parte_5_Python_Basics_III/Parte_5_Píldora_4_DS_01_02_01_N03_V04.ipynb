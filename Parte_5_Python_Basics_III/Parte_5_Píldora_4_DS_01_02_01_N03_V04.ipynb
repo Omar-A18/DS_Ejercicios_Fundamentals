{
  "cells": [
    {
      "cell_type": "markdown",
      "metadata": {
        "id": "view-in-github",
        "colab_type": "text"
      },
      "source": [
        "<a href=\"https://colab.research.google.com/github/Omar-A18/DS_Ejercicios_Fundamentals/blob/main/Parte_5_P%C3%ADldora_4_DS_01_02_01_N03_V04.ipynb\" target=\"_parent\"><img src=\"https://colab.research.google.com/assets/colab-badge.svg\" alt=\"Open In Colab\"/></a>"
      ]
    },
    {
      "cell_type": "markdown",
      "metadata": {
        "id": "ZbFTj099tCmF"
      },
      "source": [
        "## Colecciones Python: Diccionarios\n"
      ]
    },
    {
      "cell_type": "markdown",
      "metadata": {
        "id": "hTx-2OuotCmG"
      },
      "source": [
        "### Contenidos\n"
      ]
    },
    {
      "cell_type": "markdown",
      "metadata": {
        "id": "AWVnlSYOtCmG"
      },
      "source": [
        "* [Introducción](#Introducción)\n",
        "\n",
        "* [Acceso, modificación, añadir, eliminar](#Acceso,-modificación,-añadir,-eliminar)\n",
        "\n",
        "* [Iterar](#Iterar)\n",
        "\n"
      ]
    },
    {
      "cell_type": "markdown",
      "metadata": {
        "id": "NBtpXRNUtCmG"
      },
      "source": [
        "### Introducción\n",
        "[al indice](#Contenidos)  \n",
        "\n",
        "En este tipo de colecciones no solo podemos agrupar datos, sino que tenemos la posibilidad de establecer una relación entre los mismos, con la forma **clave: valor**.\n",
        "\n",
        "La sintaxis  es mediante llaves `{}`\n",
        "\n",
        "> nombre_diccionario = {clave1: valor1, clave2: valor2, clave3: valor3}\n",
        "\n",
        "Si veíamos que las listas son elementos mutables y y ordenadas, y las tuplas inmutables y ordenadas, los diccionarios son:\n",
        "\n",
        "* **Mutables**: podemos modificar sus elementos\n",
        "* **Desordenado**: la potencia de acceso de los diccionarios es su formato clave-valor, no su orden. Aun así, el dicionario conserva el orden de los elemento según los vamos insertando.\n",
        "\n",
        "Vamos a declarar un diccionario en el que definiremos elementos de un coche"
      ]
    },
    {
      "cell_type": "code",
      "execution_count": 6,
      "metadata": {
        "colab": {
          "base_uri": "https://localhost:8080/"
        },
        "id": "pbeJXwTEtCmG",
        "outputId": "c7dfa465-2fc3-4fa1-87a0-c8f43bc09538"
      },
      "outputs": [
        {
          "output_type": "execute_result",
          "data": {
            "text/plain": [
              "{'color': 'Negro',\n",
              " 'marca': 'BMW',\n",
              " 'modelo': 'M5',\n",
              " 'peso': 1700,\n",
              " 'cambio manual': True}"
            ]
          },
          "metadata": {},
          "execution_count": 6
        }
      ],
      "source": [
        "coche_dict = {\n",
        "    \"color\":\"Negro\",\n",
        "    \"marca\": \"BMW\",\n",
        "    \"modelo\": \"M5\",\n",
        "    \"peso\": 1700,\n",
        "    \"cambio manual\": True\n",
        "}\n",
        "coche_dict"
      ]
    },
    {
      "cell_type": "markdown",
      "metadata": {
        "id": "JQACMkuHtCmG"
      },
      "source": [
        "Se puede almacenar todo tipo de datos: numero, cadena, booleano, listas, tuplas, diccionarios...\n",
        "\n",
        "Cuando declaremos el diccionario, lo podemos hacer en una sola linea `coche = {\"color\"=\"Gris\", \"marca\"...}`, aunque se recomienda por sencillez a la hora de leer el código, realizar esta acción en varias líneas. Si escribimos el primer elemento y presionamos enter, Jupyter introduce automáticamente la tabulación."
      ]
    },
    {
      "cell_type": "markdown",
      "metadata": {
        "id": "LvSCblQhtCmH"
      },
      "source": [
        "### Acceso, modificación, añadir, eliminar\n",
        "[al indice](#Contenidos)  \n",
        "\n"
      ]
    },
    {
      "cell_type": "code",
      "execution_count": 24,
      "metadata": {
        "colab": {
          "base_uri": "https://localhost:8080/"
        },
        "id": "qFoFI9HQtCmH",
        "outputId": "7b77e4eb-08a9-49d8-9a27-6f1aa828e4e5"
      },
      "outputs": [
        {
          "output_type": "stream",
          "name": "stdout",
          "text": [
            "['Rojo', 'Gris']\n",
            "1700\n",
            "{'color': ['Rojo', 'Gris'], 'marca': 'BMW', 'modelo': 'M5', 'peso': 1700, 'cambio manual': True}\n",
            "6\n",
            "{'color': ['Rojo', 'Gris'], 'marca': 'BMW', 'modelo': 'M5', 'peso': 1700, 'cambio manual': True}\n",
            "dict_keys(['color', 'marca', 'modelo', 'peso', 'cambio manual'])\n",
            "dict_values([['Rojo', 'Gris'], 'BMW', 'M5', 1700, True])\n"
          ]
        }
      ],
      "source": [
        "# Acceso\n",
        "print(coche_dict[\"color\"])\n",
        "print(coche_dict['peso'])\n",
        "\n",
        "# ERROR: print(coche_dict[\"Puertas\"])\n",
        "coche_dict[\"color\"] = [\"Rojo\", \"Gris\"]\n",
        "print(coche_dict)\n",
        "\n",
        "# Añadir elemento\n",
        "coche_dict[\"puertas\"] = 6\n",
        "print(coche_dict[\"puertas\"])\n",
        "\n",
        "# Eliminar elemento\n",
        "del coche_dict[\"puertas\"]\n",
        "print(coche_dict)\n",
        "\n",
        "# Conocer las claves de diccionario\n",
        "print(coche_dict.keys())\n",
        "\n",
        "# Conocer los valores directamente del diccionario\n",
        "print(coche_dict.values())"
      ]
    },
    {
      "cell_type": "markdown",
      "metadata": {
        "id": "pJHXkXNttCmH"
      },
      "source": [
        "Para más detalle de los métodos de los diccionario puedes [consultar la documentación](https://www.w3schools.com/python/python_ref_dictionary.asp)"
      ]
    },
    {
      "cell_type": "code",
      "execution_count": 25,
      "metadata": {
        "colab": {
          "base_uri": "https://localhost:8080/"
        },
        "id": "Mgyg31U7tCmH",
        "outputId": "bb40a129-ee88-4c6d-c09b-a522601b1cee"
      },
      "outputs": [
        {
          "output_type": "stream",
          "name": "stdout",
          "text": [
            "{'direccion': 'Montesa 12', 'tamaño': 123}\n"
          ]
        }
      ],
      "source": [
        "# Podemos empezar tambien mediante un diccionario vacío\n",
        "tienda = {}\n",
        "tienda[\"direccion\"] = \"Montesa 12\"\n",
        "tienda[\"tamaño\"] = 123\n",
        "print(tienda)"
      ]
    },
    {
      "cell_type": "markdown",
      "metadata": {
        "id": "0oEaMkNNtCmH"
      },
      "source": [
        "<table align=\"left\">\n",
        " <tr>\n",
        "     <td style=\"text-align:left\">\n",
        "         <h3>ERRORES en diccionarios</h3>\n",
        "         \n",
        " </td></tr>\n",
        "</table>"
      ]
    },
    {
      "cell_type": "markdown",
      "metadata": {
        "id": "u5fgo-0QtCmH"
      },
      "source": [
        "Si hay una clave que no existe en el diccionario, saltará un error.\n",
        "\n",
        "En este caso, el error es bastante intuitivo: `KeyError`, no encuentra la clave"
      ]
    },
    {
      "cell_type": "code",
      "execution_count": 26,
      "metadata": {
        "colab": {
          "base_uri": "https://localhost:8080/",
          "height": 141
        },
        "id": "lz3s_2jWtCmH",
        "outputId": "8eaba0d1-3082-4551-d356-8eb0d683f55f"
      },
      "outputs": [
        {
          "output_type": "error",
          "ename": "KeyError",
          "evalue": "'puertas'",
          "traceback": [
            "\u001b[0;31m---------------------------------------------------------------------------\u001b[0m",
            "\u001b[0;31mKeyError\u001b[0m                                  Traceback (most recent call last)",
            "\u001b[0;32m<ipython-input-26-9a6cb216d80a>\u001b[0m in \u001b[0;36m<cell line: 0>\u001b[0;34m()\u001b[0m\n\u001b[0;32m----> 1\u001b[0;31m \u001b[0mcoche_dict\u001b[0m\u001b[0;34m[\u001b[0m\u001b[0;34m\"puertas\"\u001b[0m\u001b[0;34m]\u001b[0m\u001b[0;34m\u001b[0m\u001b[0;34m\u001b[0m\u001b[0m\n\u001b[0m",
            "\u001b[0;31mKeyError\u001b[0m: 'puertas'"
          ]
        }
      ],
      "source": [
        "coche_dict[\"puertas\"]"
      ]
    },
    {
      "cell_type": "markdown",
      "metadata": {
        "id": "Id5hPfubtCmH"
      },
      "source": [
        "**¿Cómo solventar esto?** Sirmpre tienes la opción de usar el bloque `try/except`, pero en este caso, los diccionarios tienen una solución más elegante: `mi_diccionario.get(clave, valor si no existe)`"
      ]
    },
    {
      "cell_type": "code",
      "execution_count": 27,
      "metadata": {
        "colab": {
          "base_uri": "https://localhost:8080/"
        },
        "id": "uaM3_LpitCmH",
        "outputId": "60e77a90-07d1-43a4-aef9-d0e4d4ee592a"
      },
      "outputs": [
        {
          "output_type": "stream",
          "name": "stdout",
          "text": [
            "4\n",
            "BMW\n"
          ]
        }
      ],
      "source": [
        "numero_de_puertas = coche_dict.get(\"puertas\",4)\n",
        "print(numero_de_puertas)\n",
        "marca = coche_dict.get(\"marca\",\"desconocida\")\n",
        "print(marca)"
      ]
    },
    {
      "cell_type": "markdown",
      "metadata": {
        "id": "pzNilMgutCmI"
      },
      "source": [
        "### Iterar\n",
        "[al indice](#Contenidos)  \n",
        "\n",
        "Que el diccionario no esté ordenado, no quiere decir que no podamos iterar sus elementos, ya que también es un **interable**, como los son las listas o las tuplas."
      ]
    },
    {
      "cell_type": "code",
      "execution_count": 28,
      "metadata": {
        "colab": {
          "base_uri": "https://localhost:8080/"
        },
        "id": "Ox-HLL88tCmI",
        "outputId": "ee245295-76a1-4702-d8af-205b7c04c3d5"
      },
      "outputs": [
        {
          "output_type": "stream",
          "name": "stdout",
          "text": [
            "color\n",
            "['Rojo', 'Gris']\n",
            "marca\n",
            "BMW\n",
            "modelo\n",
            "M5\n",
            "peso\n",
            "1700\n",
            "cambio manual\n",
            "True\n"
          ]
        }
      ],
      "source": [
        "for i in coche_dict:\n",
        "  print(i)\n",
        "  print(coche_dict[i])"
      ]
    },
    {
      "cell_type": "code",
      "execution_count": 29,
      "metadata": {
        "colab": {
          "base_uri": "https://localhost:8080/"
        },
        "id": "ER9VbnbZtCmI",
        "outputId": "c3258f8b-5837-4218-aa25-d60f812e270e"
      },
      "outputs": [
        {
          "output_type": "stream",
          "name": "stdout",
          "text": [
            "color : ['Rojo', 'Gris']\n",
            "marca : BMW\n",
            "modelo : M5\n",
            "peso : 1700\n",
            "cambio manual : True\n"
          ]
        }
      ],
      "source": [
        "for i in coche_dict:\n",
        "  print(i,\":\",coche_dict[i])"
      ]
    },
    {
      "cell_type": "code",
      "source": [
        "coche_dict.items()"
      ],
      "metadata": {
        "colab": {
          "base_uri": "https://localhost:8080/"
        },
        "id": "8Mh_7YuCz9XQ",
        "outputId": "f6a6e806-ee13-4b17-c83e-b14b89bd0c8c"
      },
      "execution_count": 30,
      "outputs": [
        {
          "output_type": "execute_result",
          "data": {
            "text/plain": [
              "dict_items([('color', ['Rojo', 'Gris']), ('marca', 'BMW'), ('modelo', 'M5'), ('peso', 1700), ('cambio manual', True)])"
            ]
          },
          "metadata": {},
          "execution_count": 30
        }
      ]
    },
    {
      "cell_type": "code",
      "source": [
        "for clave,valor in coche_dict.items():\n",
        "  print(clave,\":\", valor)"
      ],
      "metadata": {
        "colab": {
          "base_uri": "https://localhost:8080/"
        },
        "id": "b98vewk-0HS0",
        "outputId": "c5babb14-1f1f-44ff-ccc2-fe78501c2cfc"
      },
      "execution_count": 31,
      "outputs": [
        {
          "output_type": "stream",
          "name": "stdout",
          "text": [
            "color : ['Rojo', 'Gris']\n",
            "marca : BMW\n",
            "modelo : M5\n",
            "peso : 1700\n",
            "cambio manual : True\n"
          ]
        }
      ]
    },
    {
      "cell_type": "code",
      "source": [],
      "metadata": {
        "id": "FRGiqOPJ0SVi"
      },
      "execution_count": null,
      "outputs": []
    }
  ],
  "metadata": {
    "kernelspec": {
      "display_name": "Python 3 (ipykernel)",
      "language": "python",
      "name": "python3"
    },
    "language_info": {
      "codemirror_mode": {
        "name": "ipython",
        "version": 3
      },
      "file_extension": ".py",
      "mimetype": "text/x-python",
      "name": "python",
      "nbconvert_exporter": "python",
      "pygments_lexer": "ipython3",
      "version": "3.9.7"
    },
    "colab": {
      "provenance": [],
      "include_colab_link": true
    }
  },
  "nbformat": 4,
  "nbformat_minor": 0
}
