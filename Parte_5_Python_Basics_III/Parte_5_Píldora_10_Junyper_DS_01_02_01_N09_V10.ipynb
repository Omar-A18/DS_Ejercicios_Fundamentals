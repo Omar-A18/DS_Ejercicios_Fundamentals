{
  "cells": [
    {
      "cell_type": "markdown",
      "metadata": {
        "id": "view-in-github",
        "colab_type": "text"
      },
      "source": [
        "<a href=\"https://colab.research.google.com/github/Omar-A18/DS_Ejercicios_Fundamentals/blob/main/Parte_5_P%C3%ADldora_10_Junyper_DS_01_02_01_N09_V10.ipynb\" target=\"_parent\"><img src=\"https://colab.research.google.com/assets/colab-badge.svg\" alt=\"Open In Colab\"/></a>"
      ]
    },
    {
      "cell_type": "markdown",
      "metadata": {
        "id": "rLYpfKcmX_aj"
      },
      "source": [
        "##  Argumentos clave-valor"
      ]
    },
    {
      "cell_type": "markdown",
      "metadata": {
        "id": "hCCMdvSXX_aj"
      },
      "source": [
        "### Contenidos"
      ]
    },
    {
      "cell_type": "markdown",
      "metadata": {
        "id": "q1GQz3WrX_aj"
      },
      "source": [
        "* [Combinar `*args` con `**kwargs`](#Combinar-`*args`-con-`**kwargs`)\n",
        "* [Argumentos keyword](#Argumentos-keyword)\n"
      ]
    },
    {
      "cell_type": "markdown",
      "metadata": {
        "id": "C-fcfB37X_ak"
      },
      "source": [
        "\n",
        "Para terminar con las diferentes posibilidades que ofrecen los argumentos de las funciones, vamos a tratar los argumentos clave-valor.  \n",
        "\n",
        "Es decir, tenemos también la opción de introducir un diccionario como argumentos, de esta forma, aunque el numero de argumentos sea variable, tendremos un inidicador, la clave, y el valor de cada clave.\n",
        "\n",
        "Se implementa con `**`"
      ]
    },
    {
      "cell_type": "code",
      "execution_count": 7,
      "metadata": {
        "id": "ePjNavQ6X_ak",
        "outputId": "ed3bc52a-901a-46be-c544-cc9af198496c",
        "colab": {
          "base_uri": "https://localhost:8080/"
        }
      },
      "outputs": [
        {
          "output_type": "stream",
          "name": "stdout",
          "text": [
            "<class 'dict'>\n",
            "{'modelo': 'S20', 'marca': 'Samsung', 'camara': '24MPX'}\n"
          ]
        }
      ],
      "source": [
        "def instertar_movil_bd(**clave_valor):\n",
        "  print(type(clave_valor))\n",
        "  print(clave_valor)\n",
        "\n",
        "instertar_movil_bd(modelo = \"S20\", marca = \"Samsung\", camara = \"24MPX\")"
      ]
    },
    {
      "cell_type": "code",
      "source": [
        "def instertar_movil_bd(**kwargs):\n",
        "  for clave,valor in kwargs.items():\n",
        "     #insertar(clave,valor)\n",
        "     print(clave,\":\",valor)\n",
        "\n",
        "instertar_movil_bd(camara = \"24MPX\",modelo = \"S20\", marca = \"Samsung\", flip = True)"
      ],
      "metadata": {
        "id": "4v11BAxcb7Sa",
        "outputId": "f335d736-c2e4-4beb-8528-487cbec057bc",
        "colab": {
          "base_uri": "https://localhost:8080/"
        }
      },
      "execution_count": 12,
      "outputs": [
        {
          "output_type": "stream",
          "name": "stdout",
          "text": [
            "camara : 24MPX\n",
            "modelo : S20\n",
            "marca : Samsung\n",
            "flip : True\n"
          ]
        }
      ]
    },
    {
      "cell_type": "markdown",
      "metadata": {
        "id": "OB9jLh3_X_ak"
      },
      "source": [
        "### Combinar `*args` con `**kwargs`\n",
        "[al indice](#Contenidos)  \n",
        "No hay ningun problema en tener un numero variable de argumentos y también argumentos clave-valor, todo ello en la misma función."
      ]
    },
    {
      "cell_type": "code",
      "execution_count": 3,
      "metadata": {
        "id": "zuls9DRAX_ak",
        "outputId": "8aa96a37-9268-41a6-fd2c-72f413275928",
        "colab": {
          "base_uri": "https://localhost:8080/"
        }
      },
      "outputs": [
        {
          "output_type": "stream",
          "name": "stdout",
          "text": [
            "<class 'tuple'>\n",
            "Es muy bueno\n",
            "no dura lo suficiente la batería\n",
            "<class 'dict'>\n",
            "maarca Samsung\n",
            "modelo S20\n",
            "precio 1100\n"
          ]
        }
      ],
      "source": [
        "def instertar_movil(*args, **kwargs):\n",
        "  print(type(args))\n",
        "  for i in args:\n",
        "    print(i)\n",
        "\n",
        "  print(type(kwargs))\n",
        "  for clave,valor in kwargs.items():\n",
        "    print(clave,valor)\n",
        "\n",
        "instertar_movil(\"Es muy bueno\", \"no dura lo suficiente la batería\",\\\n",
        "                maarca = \"Samsung\", modelo = \"S20\", precio = 1100)"
      ]
    },
    {
      "cell_type": "code",
      "source": [
        "def test(**kwargs, *args):\n",
        "  print(\"test\")"
      ],
      "metadata": {
        "id": "GRL0LBg2T63W",
        "outputId": "37da1945-7e17-43e1-d76b-2f189b7c9dd3",
        "colab": {
          "base_uri": "https://localhost:8080/",
          "height": 106
        }
      },
      "execution_count": 4,
      "outputs": [
        {
          "output_type": "error",
          "ename": "SyntaxError",
          "evalue": "arguments cannot follow var-keyword argument (<ipython-input-4-397372efd40f>, line 1)",
          "traceback": [
            "\u001b[0;36m  File \u001b[0;32m\"<ipython-input-4-397372efd40f>\"\u001b[0;36m, line \u001b[0;32m1\u001b[0m\n\u001b[0;31m    def test(**kwargs, *args):\u001b[0m\n\u001b[0m                       ^\u001b[0m\n\u001b[0;31mSyntaxError\u001b[0m\u001b[0;31m:\u001b[0m arguments cannot follow var-keyword argument\n"
          ]
        }
      ]
    },
    {
      "cell_type": "markdown",
      "metadata": {
        "id": "G3kjKFKDX_ak"
      },
      "source": [
        "### Argumentos keyword\n",
        "[al indice](#Contenidos)  \n",
        "Existe otro tipo de argumentos que son los *keyword*. Se caracterizan porque llevan un valor por defecto, y por tanto, si no usamos dicho argumento en la llamada, dentro de la función tomará el valor que hayamos dejado por defecto.\n",
        "\n",
        "Ten en cuenta que estos argumentos se colocan **al final**"
      ]
    },
    {
      "cell_type": "code",
      "execution_count": 5,
      "metadata": {
        "id": "HekyYGJnX_ak",
        "outputId": "4beab26d-0664-4a46-fbe2-3cf547356116",
        "colab": {
          "base_uri": "https://localhost:8080/"
        }
      },
      "outputs": [
        {
          "output_type": "execute_result",
          "data": {
            "text/plain": [
              "12.33"
            ]
          },
          "metadata": {},
          "execution_count": 5
        }
      ],
      "source": [
        "round(12.32765, ndigits= 2)"
      ]
    },
    {
      "cell_type": "code",
      "source": [
        "sorted([12,3,7,344,4,55,45,6], reverse = True)"
      ],
      "metadata": {
        "id": "YBr94qENXtbK",
        "outputId": "475e3610-29ec-4b42-8834-075df1642854",
        "colab": {
          "base_uri": "https://localhost:8080/"
        }
      },
      "execution_count": 6,
      "outputs": [
        {
          "output_type": "execute_result",
          "data": {
            "text/plain": [
              "[344, 55, 45, 12, 7, 6, 4, 3]"
            ]
          },
          "metadata": {},
          "execution_count": 6
        }
      ]
    },
    {
      "cell_type": "code",
      "source": [
        "def pedido_online(pedido, fecha, incidencia = False):\n",
        "  if incidencia == True:\n",
        "    print(\"Pongase en contacto con Att. al Cliente\")\n",
        "  print(\"Su pedido de\", pedido, \"se entregará el \", fecha)\n",
        "\n",
        "pedido_online(\"Television LG \",\"12/12/2023\")\n",
        "pedido_online(\"iMac 27''\", \"10/11/2023\", incidencia = True)"
      ],
      "metadata": {
        "id": "M2Di3hWEX1qf",
        "outputId": "76a01c6a-ca1f-45ee-9289-8acb8d63a893",
        "colab": {
          "base_uri": "https://localhost:8080/"
        }
      },
      "execution_count": 14,
      "outputs": [
        {
          "output_type": "stream",
          "name": "stdout",
          "text": [
            "Su pedido de Television LG  se entregará el  12/12/2023\n",
            "Pongase en contacto con Att. al Cliente\n",
            "Su pedido de iMac 27'' se entregará el  10/11/2023\n"
          ]
        }
      ]
    },
    {
      "cell_type": "markdown",
      "metadata": {
        "id": "t3kFTFtBX_ak"
      },
      "source": [
        "<table align=\"left\">\n",
        " <tr>\n",
        "     <td style=\"text-align:left\">\n",
        "         <h3>ERRORES con argumentos keyword</h3>\n",
        "         \n",
        " </td></tr>\n",
        "</table>"
      ]
    },
    {
      "cell_type": "code",
      "execution_count": 22,
      "metadata": {
        "id": "VC6WS6WoX_al",
        "outputId": "5d4cfc9a-f5f5-41e7-f11c-311c357c2ed8",
        "colab": {
          "base_uri": "https://localhost:8080/",
          "height": 106
        }
      },
      "outputs": [
        {
          "output_type": "error",
          "ename": "SyntaxError",
          "evalue": "non-default argument follows default argument (<ipython-input-22-3f03ef9e2ac6>, line 1)",
          "traceback": [
            "\u001b[0;36m  File \u001b[0;32m\"<ipython-input-22-3f03ef9e2ac6>\"\u001b[0;36m, line \u001b[0;32m1\u001b[0m\n\u001b[0;31m    def pedido_online(pedido, incidencia = False, fecha):\u001b[0m\n\u001b[0m                                                  ^\u001b[0m\n\u001b[0;31mSyntaxError\u001b[0m\u001b[0;31m:\u001b[0m non-default argument follows default argument\n"
          ]
        }
      ],
      "source": [
        "def pedido_online(pedido, incidencia = False, fecha):\n",
        "  if incidencia == True:\n",
        "    print(\"Pongase en contacto con Att. al Cliente\")\n",
        "  print(\"Su pedido de\", pedido, \"se entregará el \", fecha)"
      ]
    },
    {
      "cell_type": "code",
      "source": [],
      "metadata": {
        "id": "07Yk5TDDZxSu"
      },
      "execution_count": null,
      "outputs": []
    }
  ],
  "metadata": {
    "kernelspec": {
      "display_name": "Python 3 (ipykernel)",
      "language": "python",
      "name": "python3"
    },
    "language_info": {
      "codemirror_mode": {
        "name": "ipython",
        "version": 3
      },
      "file_extension": ".py",
      "mimetype": "text/x-python",
      "name": "python",
      "nbconvert_exporter": "python",
      "pygments_lexer": "ipython3",
      "version": "3.9.7"
    },
    "colab": {
      "provenance": [],
      "include_colab_link": true
    }
  },
  "nbformat": 4,
  "nbformat_minor": 0
}
